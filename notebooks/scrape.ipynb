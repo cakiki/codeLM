{
 "cells": [
  {
   "cell_type": "code",
   "execution_count": 2,
   "metadata": {},
   "outputs": [],
   "source": [
    "import requests"
   ]
  },
  {
   "cell_type": "code",
   "execution_count": 6,
   "metadata": {},
   "outputs": [],
   "source": [
    "import requests\n",
    "\n",
    "S = requests.Session()\n",
    "\n",
    "URL = \"http://rosettacode.org/mw/api.php\"\n",
    "\n",
    "PARAMS = {\n",
    "    \"action\": \"parse\",\n",
    "    \"page\": \"Hailstone_sequence\",\n",
    "    \"format\": \"json\"\n",
    "}\n",
    "\n",
    "R = S.get(url=URL, params=PARAMS)\n",
    "DATA = R.json()"
   ]
  },
  {
   "cell_type": "code",
   "execution_count": 1,
   "metadata": {},
   "outputs": [],
   "source": [
    "import scrapy\n",
    "from bs4 import BeautifulSoup\n",
    "\n",
    "def bs_strip_tags(html):\n",
    "    soup = BeautifulSoup(html, 'html.parser')\n",
    "    a = soup.find_all('a', {'class':'__cf_email__'})\n",
    "    for i in a:\n",
    "        i.string = decode_email(i.attrs['data-cfemail'])  \n",
    "    return soup.get_text()\n",
    "\n",
    "def decode_email(email):\n",
    "    decoded = \"\"\n",
    "    for i in range(2, len(email)-1, 2):\n",
    "        decoded += chr(int(email[i:i+2], 16)^(int(email[:2], 16)))\n",
    "    return decoded\n",
    "\n",
    "class RosettaSpider(scrapy.Spider):\n",
    "    name = 'rosetta'\n",
    "    start_urls = ['http://rosettacode.org/wiki/Category:Programming_Tasks']\n",
    "\n",
    "    \n",
    "\n",
    "    def parse(self, response):\n",
    "        tasks = [response.urljoin(t) for t in  response.xpath('//div[@id=\"mw-pages\"]//li//a/@href').getall()]\n",
    "        yield from response.follow_all(tasks, callback=self.parse_task)\n",
    "    \n",
    "    def parse_task(self, response):\n",
    "        toc_links = toc_links = response.xpath('//div[@id=\"toc\"]/ul/li/a/@href').getall()\n",
    "        toc_languages = response.xpath('//div[@id=\"toc\"]/ul/li/a/span[@class=\"toctext\"]').getall()\n",
    "        assert len(toc_links) == len(toc_languages)\n",
    "        task_description = response.xpath('//div[@id=\"mw-content-text\"]//div[@id=\"toc\"]/preceding-sibling::*').getall()\n",
    "        task_description = '\\n'.join([bs_strip_tags(i.replace('<br>', '\\n')) for i in task_description[1:]])\n",
    "        for link, language in zip(toc_links, toc_languages):\n",
    "            yield {\n",
    "                \"task_url\": response.url,\n",
    "                \"task_name\": response.xpath('//h1[@id=\"firstHeading\"]/text()').get(),\n",
    "                \"task_description\": task_description,\n",
    "                \"language_url\": link,\n",
    "                \"language_name\": bs_strip_tags(language),\n",
    "                \"code\": bs_strip_tags(response.xpath(f'//h2[span[@id=\"{link[1:]}\"]]/following-sibling::pre').get().replace('<br>', '\\n')),\n",
    "            }\n"
   ]
  }
 ],
 "metadata": {
  "kernelspec": {
   "display_name": "Python 3",
   "language": "python",
   "name": "python3"
  },
  "language_info": {
   "codemirror_mode": {
    "name": "ipython",
    "version": 3
   },
   "file_extension": ".py",
   "mimetype": "text/x-python",
   "name": "python",
   "nbconvert_exporter": "python",
   "pygments_lexer": "ipython3",
   "version": "3.7.5"
  }
 },
 "nbformat": 4,
 "nbformat_minor": 4
}
