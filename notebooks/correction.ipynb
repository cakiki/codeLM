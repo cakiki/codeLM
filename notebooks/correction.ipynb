{
 "cells": [
  {
   "cell_type": "code",
   "execution_count": 31,
   "id": "fd9fd167-146f-4b19-b67c-6c087535264b",
   "metadata": {},
   "outputs": [],
   "source": [
    "from datasets import load_dataset, Dataset\n",
    "import pandas as pd"
   ]
  },
  {
   "cell_type": "code",
   "execution_count": 2,
   "id": "f58996a5-3aab-49a4-88be-bb1f84b3dd99",
   "metadata": {},
   "outputs": [
    {
     "name": "stderr",
     "output_type": "stream",
     "text": [
      "Using custom data configuration cakiki--humaneval-codeparrot-small-eval-b024dcd52b9b30b3\n",
      "Reusing dataset parquet (/home/christopher/.cache/huggingface/datasets/cakiki___parquet/cakiki--humaneval-codeparrot-small-eval-b024dcd52b9b30b3/0.0.0/0b6d5799bb726b24ad7fc7be720c170d8e497f575d02d47537de9a5bac074901)\n"
     ]
    }
   ],
   "source": [
    "dset = load_dataset('cakiki/humaneval-codeparrot-small-eval', split='train')"
   ]
  },
  {
   "cell_type": "code",
   "execution_count": 3,
   "id": "1f2104e8-cdb9-4868-ad8f-922019827041",
   "metadata": {},
   "outputs": [],
   "source": [
    "df = dset.to_pandas()"
   ]
  },
  {
   "cell_type": "code",
   "execution_count": 16,
   "id": "02d6c691-5565-499a-bb56-61eaaf669a55",
   "metadata": {},
   "outputs": [],
   "source": [
    "greedy = df[df['do_sample']==False].copy()\n",
    "sampling = df[df['do_sample']==True].copy()"
   ]
  },
  {
   "cell_type": "code",
   "execution_count": 17,
   "id": "8d53e059-94eb-45bb-8c2a-d882835ca50a",
   "metadata": {},
   "outputs": [],
   "source": [
    "beam_search = greedy[greedy['num_beams']!=1].copy()\n",
    "no_beam_search = greedy[greedy['num_beams']==1].copy()"
   ]
  },
  {
   "cell_type": "code",
   "execution_count": 25,
   "id": "781c617c-dfff-4396-b2eb-c0dcc01da34c",
   "metadata": {},
   "outputs": [],
   "source": [
    "beam_search = beam_search[beam_search['temperature']==1.0]\n",
    "no_beam_search = no_beam_search[no_beam_search['temperature']==1.0]"
   ]
  },
  {
   "cell_type": "code",
   "execution_count": 28,
   "id": "84a296bf-769c-457a-982e-1c6b73e1c548",
   "metadata": {},
   "outputs": [],
   "source": [
    "corrected_dataset = pd.concat([sampling, beam_search, no_beam_search])"
   ]
  },
  {
   "cell_type": "code",
   "execution_count": 33,
   "id": "6e29601a-ff8f-419e-b5e8-312764de6d36",
   "metadata": {},
   "outputs": [
    {
     "data": {
      "application/vnd.jupyter.widget-view+json": {
       "model_id": "790626fd7bab43a0b541256cb3e60507",
       "version_major": 2,
       "version_minor": 0
      },
      "text/plain": [
       "Pushing dataset shards to the dataset hub:   0%|          | 0/2 [00:00<?, ?it/s]"
      ]
     },
     "metadata": {},
     "output_type": "display_data"
    },
    {
     "name": "stderr",
     "output_type": "stream",
     "text": [
      "/media/ssd/BIGSCIENCE/huggingface_hub/src/huggingface_hub/hf_api.py:2039: FutureWarning: `identical_ok` has no effect and is deprecated. It will be removed in 0.11.0.\n",
      "  FutureWarning,\n"
     ]
    }
   ],
   "source": [
    "Dataset.from_pandas(corrected_dataset.reset_index()).push_to_hub('cakiki/humaneval-codeparrot-small-eval_corrected')"
   ]
  }
 ],
 "metadata": {
  "kernelspec": {
   "display_name": "Python 3",
   "language": "python",
   "name": "python3"
  },
  "language_info": {
   "codemirror_mode": {
    "name": "ipython",
    "version": 3
   },
   "file_extension": ".py",
   "mimetype": "text/x-python",
   "name": "python",
   "nbconvert_exporter": "python",
   "pygments_lexer": "ipython3",
   "version": "3.7.5"
  }
 },
 "nbformat": 4,
 "nbformat_minor": 5
}
