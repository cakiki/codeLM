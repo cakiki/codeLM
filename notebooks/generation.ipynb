{
 "cells": [
  {
   "cell_type": "code",
   "execution_count": 1,
   "metadata": {},
   "outputs": [
    {
     "data": {
      "text/html": [
       "<style>.container { width:85% !important; }</style>"
      ],
      "text/plain": [
       "<IPython.core.display.HTML object>"
      ]
     },
     "metadata": {},
     "output_type": "display_data"
    }
   ],
   "source": [
    "from IPython.display import display, HTML, Image\n",
    "display(HTML(\"<style>.container { width:85% !important; }</style>\"))\n",
    "%config IPCompleter.use_jedi=False"
   ]
  },
  {
   "cell_type": "code",
   "execution_count": 34,
   "metadata": {},
   "outputs": [],
   "source": [
    "import torch\n",
    "from tqdm.notebook import tqdm\n",
    "from transformers import AutoTokenizer, AutoModel\n",
    "from datasets import load_dataset\n",
    "import pandas as pd\n",
    "import re\n",
    "from datasets import load_dataset\n",
    "from transformers import AutoTokenizer, AutoModelForCausalLM, set_seed, StoppingCriteria, StoppingCriteriaList\n",
    "from transformers import pipeline"
   ]
  },
  {
   "cell_type": "code",
   "execution_count": 6,
   "metadata": {},
   "outputs": [
    {
     "name": "stderr",
     "output_type": "stream",
     "text": [
      "Reusing dataset openai_humaneval (/tf/data/cache/HF/datasets/openai_humaneval/openai_humaneval/1.0.0/2955cebd73602e828fa8c0a424c594e5fab4ec863b316ca98f3d8fdb6a626e75)\n",
      "Parameter 'function'=<function <lambda> at 0x7fae4fd74940> of the transform datasets.arrow_dataset.Dataset.filter@2.0.1 couldn't be hashed properly, a random hash was used instead. Make sure your transforms and parameters are serializable with pickle or dill for the dataset fingerprinting and caching to work. If you reuse this transform, the caching mechanism will consider it to be different from the previous calls and recompute everything. This warning is only showed once. Subsequent hashing failures won't be showed.\n"
     ]
    },
    {
     "data": {
      "application/vnd.jupyter.widget-view+json": {
       "model_id": "394ac8afa8174b92a355eda3b218aecf",
       "version_major": 2,
       "version_minor": 0
      },
      "text/plain": [
       "  0%|          | 0/1 [00:00<?, ?ba/s]"
      ]
     },
     "metadata": {},
     "output_type": "display_data"
    }
   ],
   "source": [
    "tokenizer = AutoTokenizer.from_pretrained(\"codeparrot/codeparrot-small\")\n",
    "tokenizer.pad_token = tokenizer.eos_token\n",
    "model = AutoModelForCausalLM.from_pretrained(\"codeparrot/codeparrot-small\")\n",
    "human_eval = load_dataset(\"openai_humaneval\", split='test').filter(lambda x: len(x['canonical_solution'].split('\\n'))<3)"
   ]
  },
  {
   "cell_type": "code",
   "execution_count": 10,
   "metadata": {},
   "outputs": [
    {
     "data": {
      "text/plain": [
       "device(type='cuda')"
      ]
     },
     "execution_count": 10,
     "metadata": {},
     "output_type": "execute_result"
    }
   ],
   "source": [
    "device = torch.device('cuda' if torch.cuda.is_available() else 'cpu')\n",
    "device"
   ]
  },
  {
   "cell_type": "code",
   "execution_count": 11,
   "metadata": {},
   "outputs": [],
   "source": [
    "model = model.to(device)"
   ]
  },
  {
   "cell_type": "code",
   "execution_count": 130,
   "metadata": {},
   "outputs": [],
   "source": [
    "EOF_STRINGS = [\"\\nclass\", \"\\ndef\", \"\\n@\", \"\\nprint\", \"\\nif\", \"\\n>\"]\n",
    "EOF_SPLIT_REGEX = \"(\" + \"|\".join(EOF_STRINGS) + \")\""
   ]
  },
  {
   "cell_type": "code",
   "execution_count": 217,
   "metadata": {},
   "outputs": [],
   "source": [
    "def generate_run(tokenizer,\n",
    "                 model,\n",
    "                 prompt,\n",
    "                 temperature=0.6,\n",
    "                 top_k=50,\n",
    "                 top_p=1.0,\n",
    "                 typical_p=1.0,\n",
    "                 do_sample=False,\n",
    "                 num_beams=1,\n",
    "                 num_beam_groups=1,\n",
    "                 num_return_sequences=1,\n",
    "                 num_tokens_to_generate=128):\n",
    "    \n",
    "    len_prompt = len(tokenizer.tokenize(prompt))\n",
    "    tokenized_promnpt = tokenizer(prompt, return_tensors='pt', padding=True)\n",
    "    input_ids = tokenized_promnpt.input_ids.to(device)\n",
    "    attention_mask = tokenized_promnpt.attention_mask.to(device)\n",
    "    with torch.no_grad():\n",
    "        generation = model.generate(inputs=input_ids,\n",
    "                                    temperature=temperature,\n",
    "                                    top_k=top_k,\n",
    "                                    top_p=top_p,\n",
    "                                    typical_p=typical_p,\n",
    "                                    do_sample=do_sample, \n",
    "                                    num_beams=num_beams,\n",
    "                                    num_beam_groups=num_beam_groups,\n",
    "                                    max_length=len_prompt+num_tokens_to_generate, \n",
    "                                    num_return_sequences=num_return_sequences,\n",
    "                                   pad_token_id=tokenizer.eos_token_id)\n",
    "    generation = tokenizer.batch_decode(generation, skip_special_tokens=True, clean_up_tokenization_spaces=True)\n",
    "    return {'cleaned_generation':[prompt+re.split(EOF_SPLIT_REGEX, i[len(prompt):])[0] for i in generation],\n",
    "            'full_generation': generation,\n",
    "            'temperature':temperature,\n",
    "            'top_k': top_k,\n",
    "            'top_p':top_p,\n",
    "            'typical_p':typical_p,\n",
    "            'do_sample':do_sample,\n",
    "            'num_beams':num_beams,\n",
    "            'num_beam_groups':num_beam_groups,\n",
    "            'num_return_sequences':num_return_sequences,\n",
    "            'num_tokens_to_generate':num_tokens_to_generate,\n",
    "           }"
   ]
  },
  {
   "cell_type": "code",
   "execution_count": 295,
   "metadata": {},
   "outputs": [],
   "source": [
    "temps = [round(x * 0.1, 1) for x in range(1, 51)]\n",
    "top_p = [round(x * 0.1, 1) for x in range(1, 10)]\n",
    "typical_p = [round(x * 0.1, 1) for x in range(1, 10)]"
   ]
  },
  {
   "cell_type": "code",
   "execution_count": 307,
   "metadata": {
    "scrolled": false
   },
   "outputs": [
    {
     "data": {
      "application/vnd.jupyter.widget-view+json": {
       "model_id": "480a77c063744154a9bb97f858e7cee3",
       "version_major": 2,
       "version_minor": 0
      },
      "text/plain": [
       "  0%|          | 0/37 [00:00<?, ?it/s]"
      ]
     },
     "metadata": {},
     "output_type": "display_data"
    },
    {
     "data": {
      "application/vnd.jupyter.widget-view+json": {
       "model_id": "17718c5fd8604a45b60d489a1d0a70b7",
       "version_major": 2,
       "version_minor": 0
      },
      "text/plain": [
       "  0%|          | 0/37 [00:00<?, ?it/s]"
      ]
     },
     "metadata": {},
     "output_type": "display_data"
    },
    {
     "data": {
      "application/vnd.jupyter.widget-view+json": {
       "model_id": "2803e23dbe274238b6da34de06cfd955",
       "version_major": 2,
       "version_minor": 0
      },
      "text/plain": [
       "  0%|          | 0/37 [00:00<?, ?it/s]"
      ]
     },
     "metadata": {},
     "output_type": "display_data"
    },
    {
     "data": {
      "application/vnd.jupyter.widget-view+json": {
       "model_id": "88551c1754dc4f9cb6ff4519b4739d52",
       "version_major": 2,
       "version_minor": 0
      },
      "text/plain": [
       "  0%|          | 0/37 [00:00<?, ?it/s]"
      ]
     },
     "metadata": {},
     "output_type": "display_data"
    },
    {
     "data": {
      "application/vnd.jupyter.widget-view+json": {
       "model_id": "fbcbb438047949b7b24513f97575c4a8",
       "version_major": 2,
       "version_minor": 0
      },
      "text/plain": [
       "  0%|          | 0/37 [00:00<?, ?it/s]"
      ]
     },
     "metadata": {},
     "output_type": "display_data"
    },
    {
     "data": {
      "application/vnd.jupyter.widget-view+json": {
       "model_id": "c29ff5f415a04abd87cda9432776c638",
       "version_major": 2,
       "version_minor": 0
      },
      "text/plain": [
       "  0%|          | 0/37 [00:00<?, ?it/s]"
      ]
     },
     "metadata": {},
     "output_type": "display_data"
    },
    {
     "data": {
      "application/vnd.jupyter.widget-view+json": {
       "model_id": "6e463298ba0346fab331c563f7cfbac3",
       "version_major": 2,
       "version_minor": 0
      },
      "text/plain": [
       "  0%|          | 0/37 [00:00<?, ?it/s]"
      ]
     },
     "metadata": {},
     "output_type": "display_data"
    },
    {
     "data": {
      "application/vnd.jupyter.widget-view+json": {
       "model_id": "7d9906daf219461cbe9a07ee722a0d9f",
       "version_major": 2,
       "version_minor": 0
      },
      "text/plain": [
       "  0%|          | 0/37 [00:00<?, ?it/s]"
      ]
     },
     "metadata": {},
     "output_type": "display_data"
    },
    {
     "data": {
      "application/vnd.jupyter.widget-view+json": {
       "model_id": "7e68113c1ab54f018e17ca197a86875c",
       "version_major": 2,
       "version_minor": 0
      },
      "text/plain": [
       "  0%|          | 0/37 [00:00<?, ?it/s]"
      ]
     },
     "metadata": {},
     "output_type": "display_data"
    },
    {
     "name": "stdout",
     "output_type": "stream",
     "text": [
      "CPU times: user 18min, sys: 7min 29s, total: 25min 29s\n",
      "Wall time: 25min 28s\n"
     ]
    }
   ],
   "source": [
    "%%time\n",
    "series_list = []\n",
    "for p in typical_p:\n",
    "    for row in tqdm(human_eval):\n",
    "        generation = generate_run(tokenizer, model, row['prompt'], temperature=1.4, \n",
    "                                  top_k=50, top_p=1.0, typical_p=p, do_sample=True, \n",
    "                                  num_beams=1, num_beam_groups=1, num_return_sequences=200,\n",
    "                                  num_tokens_to_generate=128)\n",
    "        series_list.append(pd.Series({**row, **generation}))"
   ]
  },
  {
   "cell_type": "code",
   "execution_count": 308,
   "metadata": {},
   "outputs": [],
   "source": [
    "results = pd.DataFrame(series_list)\n",
    "results.to_json('../runs/codeparrot-small/typical_p_sweep_temp_1.4.jsonl', lines=True, orient='records')"
   ]
  },
  {
   "cell_type": "code",
   "execution_count": 215,
   "metadata": {},
   "outputs": [
    {
     "name": "stdout",
     "output_type": "stream",
     "text": [
      "CPU times: user 566 ms, sys: 64 ms, total: 630 ms\n",
      "Wall time: 627 ms\n"
     ]
    }
   ],
   "source": [
    "%%time\n",
    "a = generate_run(tokenizer=tokenizer, model=model, prompt=\"\\ndef add(a,b):\", num_beams=100, num_beam_groups=10, num_return_sequences=100)"
   ]
  },
  {
   "cell_type": "code",
   "execution_count": 216,
   "metadata": {},
   "outputs": [
    {
     "data": {
      "text/plain": [
       "['\\ndef add(a,b): return a+b\\ndef sub(a,b): return a-b\\ndef mul(a,b): return a*b\\ndef',\n",
       " '\\ndef add(a,b): return a+b\\ndef sub(a,b): return a-b\\ndef mul(a,b): return a*b\\ndef',\n",
       " '\\ndef add(a,b): return a+b\\ndef sub(a,b): return a-b\\ndef mul(a,b): return a*b\\ndef',\n",
       " '\\ndef add(a,b): return a+b\\ndef sub(a,b): return a-b\\ndef mul(a,b): return a*b\\ndef',\n",
       " '\\ndef add(a,b): return a+b\\ndef sub(a,b): return a-b\\ndef mul(a,b): return a*b\\ndef',\n",
       " '\\ndef add(a,b): return a+b\\ndef sub(a,b): return a-b\\ndef mul(a,b): return a*b\\ndef',\n",
       " '\\ndef add(a,b): return a+b\\ndef sub(a,b): return a-b\\ndef mul(a,b): return a*b\\ndef',\n",
       " '\\ndef add(a,b): return a+b\\ndef sub(a,b): return a-b\\ndef mul(a,b): return a*b\\ndef',\n",
       " '\\ndef add(a,b): return a+b\\ndef sub(a,b): return a-b\\ndef mul(a,b): return a*b\\ndef',\n",
       " '\\ndef add(a,b): return a+b\\ndef sub(a,b): return a-b\\ndef mul(a,b): return a*b\\ndef',\n",
       " '\\ndef add(a,b):\\n    return a+b\\n\\ndef mul(a,b):\\n    return a*b\\n\\ndef div(a,b):\\n    return',\n",
       " '\\ndef add(a,b):\\n    return a+b\\n\\ndef mul(a,b):\\n    return a*b\\n\\ndef div(a,b):\\n    return',\n",
       " '\\ndef add(a,b):\\n    return a+b\\n\\ndef mul(a,b):\\n    return a*b\\n\\ndef div(a,b):\\n    return',\n",
       " '\\ndef add(a,b):\\n    return a+b\\n\\ndef mul(a,b):\\n    return a*b\\n\\ndef div(a,b):\\n    return',\n",
       " '\\ndef add(a,b):\\n    return a+b\\n\\ndef mul(a,b):\\n    return a*b\\n\\ndef div(a,b):\\n    return',\n",
       " '\\ndef add(a,b):\\n    return a+b\\n\\ndef mul(a,b):\\n    return a*b\\n\\ndef div(a,b):\\n    return',\n",
       " '\\ndef add(a,b):\\n    return a+b\\n\\ndef mul(a,b):\\n    return a*b\\n\\ndef div(a,b):\\n    return',\n",
       " '\\ndef add(a,b):\\n    return a+b\\n\\ndef mul(a,b):\\n    return a*b\\n\\ndef div(a,b):\\n    return',\n",
       " '\\ndef add(a,b):\\n    return a+b\\n\\ndef mul(a,b):\\n    return a*b\\n\\ndef div(a,b):\\n    return',\n",
       " '\\ndef add(a,b):\\n    return a+b\\n\\ndef mul(a,b):\\n    return a*b\\n\\ndef div(a,b):\\n    return',\n",
       " '\\ndef add(a,b):\\n    return a + b\\n\\ndef mul(a,b):\\n    return a * b\\n\\ndef div(a,b):\\n    return',\n",
       " '\\ndef add(a,b):\\n    return a + b\\n\\ndef mul(a,b):\\n    return a * b\\n\\ndef div(a,b):\\n    return',\n",
       " '\\ndef add(a,b):\\n    return a + b\\n\\ndef mul(a,b):\\n    return a * b\\n\\ndef div(a,b):\\n    return',\n",
       " '\\ndef add(a,b):\\n    return a + b\\n\\ndef mul(a,b):\\n    return a * b\\n\\ndef div(a,b):\\n    return',\n",
       " '\\ndef add(a,b):\\n    return a + b\\n\\ndef mul(a,b):\\n    return a * b\\n\\ndef div(a,b):\\n    return',\n",
       " '\\ndef add(a,b):\\n    return a + b\\n\\ndef mul(a,b):\\n    return a * b\\n\\ndef div(a,b):\\n    return',\n",
       " '\\ndef add(a,b):\\n    return a + b\\n\\ndef mul(a,b):\\n    return a * b\\n\\ndef div(a,b):\\n    return',\n",
       " '\\ndef add(a,b):\\n    return a + b\\n\\ndef mul(a,b):\\n    return a * b\\n\\ndef div(a,b):\\n    return',\n",
       " '\\ndef add(a,b):\\n    return a + b\\n\\ndef mul(a,b):\\n    return a * b\\n\\ndef div(a,b):\\n    return',\n",
       " '\\ndef add(a,b):\\n    return a + b\\n\\ndef mul(a,b):\\n    return a * b\\n\\ndef div(a,b):\\n    return',\n",
       " '\\ndef add(a,b):\\n    return a+b\\n\\ndef sub(a,b):\\n    return a-b\\n\\ndef mul(a,b):\\n    return',\n",
       " '\\ndef add(a,b):\\n    return a+b\\n\\ndef sub(a,b):\\n    return a-b\\n\\ndef mul(a,b):\\n    return',\n",
       " '\\ndef add(a,b):\\n    return a+b\\n\\ndef sub(a,b):\\n    return a-b\\n\\ndef mul(a,b):\\n    return',\n",
       " '\\ndef add(a,b):\\n    return a+b\\n\\ndef sub(a,b):\\n    return a-b\\n\\ndef mul(a,b):\\n    return',\n",
       " '\\ndef add(a,b):\\n    return a+b\\n\\ndef sub(a,b):\\n    return a-b\\n\\ndef mul(a,b):\\n    return',\n",
       " '\\ndef add(a,b):\\n    return a+b\\n\\ndef sub(a,b):\\n    return a-b\\n\\ndef mul(a,b):\\n    return',\n",
       " '\\ndef add(a,b):\\n    return a+b\\n\\ndef sub(a,b):\\n    return a-b\\n\\ndef mul(a,b):\\n    return',\n",
       " '\\ndef add(a,b):\\n    return a+b\\n\\ndef sub(a,b):\\n    return a-b\\n\\ndef mul(a,b):\\n    return',\n",
       " '\\ndef add(a,b):\\n    return a+b\\n\\ndef sub(a,b):\\n    return a-b\\n\\ndef mul(a,b):\\n    return',\n",
       " '\\ndef add(a,b):\\n    return a+b\\n\\ndef sub(a,b):\\n    return a-b\\n\\ndef mul(a,b):\\n    return',\n",
       " '\\ndef add(a,b):\\n    return a + b\\n\\ndef sub(a,b):\\n    return a - b\\n\\ndef mul(a,b):\\n    return',\n",
       " '\\ndef add(a,b):\\n    return a + b\\n\\ndef sub(a,b):\\n    return a - b\\n\\ndef mul(a,b):\\n    return',\n",
       " '\\ndef add(a,b):\\n    return a + b\\n\\ndef sub(a,b):\\n    return a - b\\n\\ndef mul(a,b):\\n    return',\n",
       " '\\ndef add(a,b):\\n    return a + b\\n\\ndef sub(a,b):\\n    return a - b\\n\\ndef mul(a,b):\\n    return',\n",
       " '\\ndef add(a,b):\\n    return a + b\\n\\ndef sub(a,b):\\n    return a - b\\n\\ndef mul(a,b):\\n    return',\n",
       " '\\ndef add(a,b):\\n    return a + b\\n\\ndef sub(a,b):\\n    return a - b\\n\\ndef mul(a,b):\\n    return',\n",
       " '\\ndef add(a,b):\\n    return a + b\\n\\ndef sub(a,b):\\n    return a - b\\n\\ndef mul(a,b):\\n    return',\n",
       " '\\ndef add(a,b):\\n    return a + b\\n\\ndef sub(a,b):\\n    return a - b\\n\\ndef mul(a,b):\\n    return',\n",
       " '\\ndef add(a,b):\\n    return a + b\\n\\ndef sub(a,b):\\n    return a - b\\n\\ndef mul(a,b):\\n    return',\n",
       " '\\ndef add(a,b):\\n    return a + b\\n\\ndef sub(a,b):\\n    return a - b\\n\\ndef mul(a,b):\\n    return',\n",
       " '\\ndef add(a,b):\\n\\treturn a+b\\n\\ndef mul(a,b):\\n\\treturn a*b\\n\\ndef div(a,b):',\n",
       " '\\ndef add(a,b):\\n\\treturn a+b\\n\\ndef mul(a,b):\\n\\treturn a*b\\n\\ndef div(a,b):',\n",
       " '\\ndef add(a,b):\\n\\treturn a+b\\n\\ndef mul(a,b):\\n\\treturn a*b\\n\\ndef div(a,b):',\n",
       " '\\ndef add(a,b):\\n\\treturn a+b\\n\\ndef mul(a,b):\\n\\treturn a*b\\n\\ndef div(a,b):',\n",
       " '\\ndef add(a,b):\\n\\treturn a+b\\n\\ndef mul(a,b):\\n\\treturn a*b\\n\\ndef div(a,b):',\n",
       " '\\ndef add(a,b):\\n\\treturn a+b\\n\\ndef mul(a,b):\\n\\treturn a*b\\n\\ndef div(a,b):',\n",
       " '\\ndef add(a,b):\\n\\treturn a+b\\n\\ndef mul(a,b):\\n\\treturn a*b\\n\\ndef div(a,b):',\n",
       " '\\ndef add(a,b):\\n\\treturn a+b\\n\\ndef mul(a,b):\\n\\treturn a*b\\n\\ndef div(a,b):',\n",
       " '\\ndef add(a,b):\\n\\treturn a+b\\n\\ndef mul(a,b):\\n\\treturn a*b\\n\\ndef div(a,b):',\n",
       " '\\ndef add(a,b):\\n\\treturn a+b\\n\\ndef mul(a,b):\\n\\treturn a*b\\n\\ndef div(a,b):',\n",
       " '\\ndef add(a,b):\\n\\treturn a+b\\n\\ndef sub(a,b):\\n\\treturn a-b\\n\\ndef mul(a,b):',\n",
       " '\\ndef add(a,b):\\n\\treturn a+b\\n\\ndef sub(a,b):\\n\\treturn a-b\\n\\ndef mul(a,b):',\n",
       " '\\ndef add(a,b):\\n\\treturn a+b\\n\\ndef sub(a,b):\\n\\treturn a-b\\n\\ndef mul(a,b):',\n",
       " '\\ndef add(a,b):\\n\\treturn a+b\\n\\ndef sub(a,b):\\n\\treturn a-b\\n\\ndef mul(a,b):',\n",
       " '\\ndef add(a,b):\\n\\treturn a+b\\n\\ndef sub(a,b):\\n\\treturn a-b\\n\\ndef mul(a,b):',\n",
       " '\\ndef add(a,b):\\n\\treturn a+b\\n\\ndef sub(a,b):\\n\\treturn a-b\\n\\ndef mul(a,b):',\n",
       " '\\ndef add(a,b):\\n\\treturn a+b\\n\\ndef sub(a,b):\\n\\treturn a-b\\n\\ndef mul(a,b):',\n",
       " '\\ndef add(a,b):\\n\\treturn a+b\\n\\ndef sub(a,b):\\n\\treturn a-b\\n\\ndef mul(a,b):',\n",
       " '\\ndef add(a,b):\\n\\treturn a+b\\n\\ndef sub(a,b):\\n\\treturn a-b\\n\\ndef mul(a,b):',\n",
       " '\\ndef add(a,b):\\n\\treturn a+b\\n\\ndef sub(a,b):\\n\\treturn a-b\\n\\ndef mul(a,b):',\n",
       " '\\ndef add(a,b):\\n    return a + b\\n\\ndef mul(a,b):\\n    return a*b\\n\\ndef div(a,b):\\n    return',\n",
       " '\\ndef add(a,b):\\n    return a + b\\n\\ndef mul(a,b):\\n    return a*b\\n\\ndef div(a,b):\\n    return',\n",
       " '\\ndef add(a,b):\\n    return a + b\\n\\ndef mul(a,b):\\n    return a*b\\n\\ndef div(a,b):\\n    return',\n",
       " '\\ndef add(a,b):\\n    return a + b\\n\\ndef mul(a,b):\\n    return a*b\\n\\ndef div(a,b):\\n    return',\n",
       " '\\ndef add(a,b):\\n    return a + b\\n\\ndef mul(a,b):\\n    return a*b\\n\\ndef div(a,b):\\n    return',\n",
       " '\\ndef add(a,b):\\n    return a + b\\n\\ndef mul(a,b):\\n    return a*b\\n\\ndef div(a,b):\\n    return',\n",
       " '\\ndef add(a,b):\\n    return a + b\\n\\ndef mul(a,b):\\n    return a*b\\n\\ndef div(a,b):\\n    return',\n",
       " '\\ndef add(a,b):\\n    return a + b\\n\\ndef mul(a,b):\\n    return a*b\\n\\ndef div(a,b):\\n    return',\n",
       " '\\ndef add(a,b):\\n    return a + b\\n\\ndef mul(a,b):\\n    return a*b\\n\\ndef div(a,b):\\n    return',\n",
       " '\\ndef add(a,b):\\n    return a + b\\n\\ndef mul(a,b):\\n    return a*b\\n\\ndef div(a,b):\\n    return',\n",
       " '\\ndef add(a,b):\\n    return a+b\\n\\ndef mul(a,b):\\n    return a*b\\n\\ndef sub(a,b):\\n    return',\n",
       " '\\ndef add(a,b):\\n    return a+b\\n\\ndef mul(a,b):\\n    return a*b\\n\\ndef sub(a,b):\\n    return',\n",
       " '\\ndef add(a,b):\\n    return a+b\\n\\ndef mul(a,b):\\n    return a*b\\n\\ndef sub(a,b):\\n    return',\n",
       " '\\ndef add(a,b):\\n    return a+b\\n\\ndef mul(a,b):\\n    return a*b\\n\\ndef sub(a,b):\\n    return',\n",
       " '\\ndef add(a,b):\\n    return a+b\\n\\ndef mul(a,b):\\n    return a*b\\n\\ndef sub(a,b):\\n    return',\n",
       " '\\ndef add(a,b):\\n    return a+b\\n\\ndef mul(a,b):\\n    return a*b\\n\\ndef sub(a,b):\\n    return',\n",
       " '\\ndef add(a,b):\\n    return a+b\\n\\ndef mul(a,b):\\n    return a*b\\n\\ndef sub(a,b):\\n    return',\n",
       " '\\ndef add(a,b):\\n    return a+b\\n\\ndef mul(a,b):\\n    return a*b\\n\\ndef sub(a,b):\\n    return',\n",
       " '\\ndef add(a,b):\\n    return a+b\\n\\ndef mul(a,b):\\n    return a*b\\n\\ndef sub(a,b):\\n    return',\n",
       " '\\ndef add(a,b):\\n    return a+b\\n\\ndef mul(a,b):\\n    return a*b\\n\\ndef sub(a,b):\\n    return',\n",
       " '\\ndef add(a,b): return a+b\\ndef sub(a,b): return a-b\\ndef mul(a,b): return a*b\\n\\n',\n",
       " '\\ndef add(a,b): return a+b\\ndef sub(a,b): return a-b\\ndef mul(a,b): return a*b\\n\\n',\n",
       " '\\ndef add(a,b): return a+b\\ndef sub(a,b): return a-b\\ndef mul(a,b): return a*b\\n\\n',\n",
       " '\\ndef add(a,b): return a+b\\ndef sub(a,b): return a-b\\ndef mul(a,b): return a*b\\n\\n',\n",
       " '\\ndef add(a,b): return a+b\\ndef sub(a,b): return a-b\\ndef mul(a,b): return a*b\\n\\n',\n",
       " '\\ndef add(a,b): return a+b\\ndef sub(a,b): return a-b\\ndef mul(a,b): return a*b\\n\\n',\n",
       " '\\ndef add(a,b): return a+b\\ndef sub(a,b): return a-b\\ndef mul(a,b): return a*b\\n\\n',\n",
       " '\\ndef add(a,b): return a+b\\ndef sub(a,b): return a-b\\ndef mul(a,b): return a*b\\n\\n',\n",
       " '\\ndef add(a,b): return a+b\\ndef sub(a,b): return a-b\\ndef mul(a,b): return a*b\\n\\n',\n",
       " '\\ndef add(a,b): return a+b\\ndef sub(a,b): return a-b\\ndef mul(a,b): return a*b\\n\\n']"
      ]
     },
     "execution_count": 216,
     "metadata": {},
     "output_type": "execute_result"
    }
   ],
   "source": [
    "a['full_generation']"
   ]
  }
 ],
 "metadata": {
  "kernelspec": {
   "display_name": "Python 3",
   "language": "python",
   "name": "python3"
  },
  "language_info": {
   "codemirror_mode": {
    "name": "ipython",
    "version": 3
   },
   "file_extension": ".py",
   "mimetype": "text/x-python",
   "name": "python",
   "nbconvert_exporter": "python",
   "pygments_lexer": "ipython3",
   "version": "3.8.10"
  }
 },
 "nbformat": 4,
 "nbformat_minor": 2
}
