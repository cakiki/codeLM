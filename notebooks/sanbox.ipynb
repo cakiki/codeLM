{
 "cells": [
  {
   "cell_type": "code",
   "execution_count": 1,
   "metadata": {},
   "outputs": [
    {
     "data": {
      "text/html": [
       "<style>.container { width:85% !important; }</style>"
      ],
      "text/plain": [
       "<IPython.core.display.HTML object>"
      ]
     },
     "metadata": {},
     "output_type": "display_data"
    }
   ],
   "source": [
    "from IPython.display import display, HTML, Image\n",
    "display(HTML(\"<style>.container { width:85% !important; }</style>\"))\n",
    "%config IPCompleter.use_jedi=False"
   ]
  },
  {
   "cell_type": "code",
   "execution_count": 3,
   "metadata": {},
   "outputs": [
    {
     "name": "stderr",
     "output_type": "stream",
     "text": [
      "/usr/lib/python3/dist-packages/requests/__init__.py:89: RequestsDependencyWarning: urllib3 (1.26.9) or chardet (3.0.4) doesn't match a supported version!\n",
      "  warnings.warn(\"urllib3 ({}) or chardet ({}) doesn't match a supported \"\n"
     ]
    }
   ],
   "source": [
    "from bert_score import score\n",
    "import torch\n",
    "from transformers import AutoTokenizer, AutoModel\n",
    "import torch"
   ]
  },
  {
   "cell_type": "code",
   "execution_count": 4,
   "metadata": {},
   "outputs": [
    {
     "data": {
      "text/plain": [
       "device(type='cuda')"
      ]
     },
     "execution_count": 4,
     "metadata": {},
     "output_type": "execute_result"
    }
   ],
   "source": [
    "device = torch.device('cuda' if torch.cuda.is_available() else 'cpu')\n",
    "device"
   ]
  },
  {
   "cell_type": "code",
   "execution_count": 5,
   "metadata": {},
   "outputs": [],
   "source": [
    "tokenizer = AutoTokenizer.from_pretrained(\"microsoft/codebert-base\")\n",
    "model = AutoModel.from_pretrained(\"microsoft/codebert-base\")"
   ]
  },
  {
   "cell_type": "code",
   "execution_count": 11,
   "metadata": {},
   "outputs": [],
   "source": [
    "nl_tokens=tokenizer.tokenize(\"return maximum value\")\n",
    "code_tokens=tokenizer.tokenize(\"def max(a,b): if a>b: return a else return b\")"
   ]
  },
  {
   "cell_type": "code",
   "execution_count": 9,
   "metadata": {},
   "outputs": [
    {
     "data": {
      "text/plain": [
       "['<s>', 'a', '</s>']"
      ]
     },
     "execution_count": 9,
     "metadata": {},
     "output_type": "execute_result"
    }
   ],
   "source": [
    "tokenizer([\"a\", \"b\"]).encodings[0].tokens"
   ]
  },
  {
   "cell_type": "code",
   "execution_count": 13,
   "metadata": {},
   "outputs": [
    {
     "name": "stdout",
     "output_type": "stream",
     "text": [
      "['<s>', 'return', 'Ġmaximum', 'Ġvalue', '</s>', 'def', 'Ġmax', '(', 'a', ',', 'b', '):', 'Ġif', 'Ġa', '>', 'b', ':', 'Ġreturn', 'Ġa', 'Ġelse', 'Ġreturn', 'Ġb', '</s>']\n"
     ]
    }
   ],
   "source": [
    "print([tokenizer.cls_token]+nl_tokens+[tokenizer.sep_token]+code_tokens+[tokenizer.sep_token])"
   ]
  },
  {
   "cell_type": "code",
   "execution_count": 118,
   "metadata": {
    "scrolled": false
   },
   "outputs": [],
   "source": [
    "with torch.no_grad():\n",
    "    o = model(**tokenizer([\"def max(a,b): if a>b: return a else return b\", \"def min(i,j): if i>j: return i else return j\"], return_tensors='pt'))"
   ]
  },
  {
   "cell_type": "code",
   "execution_count": 14,
   "metadata": {},
   "outputs": [],
   "source": [
    "cos_sim = torch.nn.CosineSimilarity(dim=1, eps=1e-6)"
   ]
  },
  {
   "cell_type": "code",
   "execution_count": 119,
   "metadata": {},
   "outputs": [
    {
     "data": {
      "text/plain": [
       "torch.Size([2, 768])"
      ]
     },
     "execution_count": 119,
     "metadata": {},
     "output_type": "execute_result"
    }
   ],
   "source": [
    "o.pooler_output.shape"
   ]
  },
  {
   "cell_type": "code",
   "execution_count": 80,
   "metadata": {},
   "outputs": [
    {
     "data": {
      "text/plain": [
       "torch.Size([1, 768])"
      ]
     },
     "execution_count": 80,
     "metadata": {},
     "output_type": "execute_result"
    }
   ],
   "source": [
    "o.pooler_output[0,:].unsqueeze(0).shape"
   ]
  },
  {
   "cell_type": "code",
   "execution_count": 122,
   "metadata": {},
   "outputs": [
    {
     "data": {
      "text/plain": [
       "43448    import sys\\nimport pygame\\n \\npygame.init()\\n ...\n",
       "Name: code, dtype: object"
      ]
     },
     "execution_count": 122,
     "metadata": {},
     "output_type": "execute_result"
    }
   ],
   "source": [
    "df[df['language_name'] == 'Python'].sample()['code']"
   ]
  },
  {
   "cell_type": "code",
   "execution_count": 129,
   "metadata": {},
   "outputs": [
    {
     "data": {
      "text/plain": [
       "count     1136.000000\n",
       "mean      1081.649648\n",
       "std       1916.171263\n",
       "min          3.000000\n",
       "25%        245.750000\n",
       "50%        640.500000\n",
       "75%       1300.250000\n",
       "max      46867.000000\n",
       "Name: code, dtype: float64"
      ]
     },
     "execution_count": 129,
     "metadata": {},
     "output_type": "execute_result"
    }
   ],
   "source": [
    "df[df['language_name'] == 'Python']['code'].apply(len).describe()"
   ]
  },
  {
   "cell_type": "code",
   "execution_count": 21,
   "metadata": {},
   "outputs": [
    {
     "data": {
      "text/plain": [
       "['<s>', 'ĉ', '</s>']"
      ]
     },
     "execution_count": 21,
     "metadata": {},
     "output_type": "execute_result"
    }
   ],
   "source": [
    "tokenizer(\"\\t\").encodings[0].tokens"
   ]
  },
  {
   "cell_type": "code",
   "execution_count": 107,
   "metadata": {
    "scrolled": true
   },
   "outputs": [
    {
     "name": "stdout",
     "output_type": "stream",
     "text": [
      ">>> def duration(seconds):\n",
      "\tt= []\n",
      "\tfor dm in (60, 60, 24, 7):\n",
      "\t\tseconds, m = divmod(seconds, dm)\n",
      "\t\tt.append(m)\n",
      "\tt.append(seconds)\n",
      "\treturn ', '.join('%d %s' % (num, unit)\n",
      "\t\t\t for num, unit in zip(t[::-1], 'wk d hr min sec'.split())\n",
      "\t\t\t if num)\n",
      " \n",
      ">>> for seconds in [7259, 86400, 6000000]:\n",
      "\tprint(\"%7d sec = %s\" % (seconds, duration(seconds)))\n",
      " \n",
      " \n",
      "   7259 sec = 2 hr, 59 sec\n",
      "  86400 sec = 1 d\n",
      "6000000 sec = 9 wk, 6 d, 10 hr, 40 min\n",
      ">>> \n"
     ]
    }
   ],
   "source": [
    "print(c)"
   ]
  },
  {
   "cell_type": "code",
   "execution_count": 120,
   "metadata": {},
   "outputs": [
    {
     "data": {
      "text/plain": [
       "tensor([0.9992])"
      ]
     },
     "execution_count": 120,
     "metadata": {},
     "output_type": "execute_result"
    }
   ],
   "source": [
    "cos_sim(o.pooler_output[0,:].unsqueeze(0), o.pooler_output[1,:].unsqueeze(0))"
   ]
  },
  {
   "cell_type": "code",
   "execution_count": 30,
   "metadata": {
    "scrolled": false
   },
   "outputs": [
    {
     "name": "stderr",
     "output_type": "stream",
     "text": [
      "Some weights of the model checkpoint at microsoft/graphcodebert-base were not used when initializing RobertaModel: ['lm_head.dense.weight', 'lm_head.dense.bias', 'lm_head.layer_norm.weight', 'lm_head.bias', 'lm_head.decoder.bias', 'lm_head.layer_norm.bias', 'lm_head.decoder.weight']\n",
      "- This IS expected if you are initializing RobertaModel from the checkpoint of a model trained on another task or with another architecture (e.g. initializing a BertForSequenceClassification model from a BertForPreTraining model).\n",
      "- This IS NOT expected if you are initializing RobertaModel from the checkpoint of a model that you expect to be exactly identical (initializing a BertForSequenceClassification model from a BertForSequenceClassification model).\n",
      "Some weights of RobertaModel were not initialized from the model checkpoint at microsoft/graphcodebert-base and are newly initialized: ['roberta.pooler.dense.weight', 'roberta.pooler.dense.bias']\n",
      "You should probably TRAIN this model on a down-stream task to be able to use it for predictions and inference.\n"
     ]
    },
    {
     "name": "stdout",
     "output_type": "stream",
     "text": [
      "CPU times: user 1.33 s, sys: 328 ms, total: 1.66 s\n",
      "Wall time: 5.72 s\n"
     ]
    },
    {
     "data": {
      "text/plain": [
       "(tensor([0.8903]), tensor([0.8903]), tensor([0.8903]))"
      ]
     },
     "execution_count": 30,
     "metadata": {},
     "output_type": "execute_result"
    }
   ],
   "source": [
    "%%time\n",
    "Precision, Recall, F1 = score([\"def max(a,b): if a>b: return a else return b\"], [\"def max(i,j): if i>j: return i else return j\"], \n",
    "                 model_type=\"microsoft/graphcodebert-base\", num_layers=12)\n",
    "Precision, Recall, F1"
   ]
  },
  {
   "cell_type": "code",
   "execution_count": 32,
   "metadata": {},
   "outputs": [
    {
     "name": "stderr",
     "output_type": "stream",
     "text": [
      "Some weights of the model checkpoint at microsoft/graphcodebert-base were not used when initializing RobertaModel: ['lm_head.dense.weight', 'lm_head.dense.bias', 'lm_head.layer_norm.weight', 'lm_head.bias', 'lm_head.decoder.bias', 'lm_head.layer_norm.bias', 'lm_head.decoder.weight']\n",
      "- This IS expected if you are initializing RobertaModel from the checkpoint of a model trained on another task or with another architecture (e.g. initializing a BertForSequenceClassification model from a BertForPreTraining model).\n",
      "- This IS NOT expected if you are initializing RobertaModel from the checkpoint of a model that you expect to be exactly identical (initializing a BertForSequenceClassification model from a BertForSequenceClassification model).\n",
      "Some weights of RobertaModel were not initialized from the model checkpoint at microsoft/graphcodebert-base and are newly initialized: ['roberta.pooler.dense.weight', 'roberta.pooler.dense.bias']\n",
      "You should probably TRAIN this model on a down-stream task to be able to use it for predictions and inference.\n"
     ]
    },
    {
     "name": "stdout",
     "output_type": "stream",
     "text": [
      "CPU times: user 1.28 s, sys: 186 ms, total: 1.47 s\n",
      "Wall time: 5.55 s\n"
     ]
    },
    {
     "data": {
      "text/plain": [
       "(tensor([0.8669]), tensor([0.8669]), tensor([0.8669]))"
      ]
     },
     "execution_count": 32,
     "metadata": {},
     "output_type": "execute_result"
    }
   ],
   "source": [
    "%%time\n",
    "Precision, Recall, F1 = score([\"def max(a,b): if a>b: return a else return b\"], [\"def min(i,j): if i<j: return i else return j\"], \n",
    "                 model_type=\"microsoft/graphcodebert-base\", num_layers=12)\n",
    "Precision, Recall, F1"
   ]
  },
  {
   "cell_type": "code",
   "execution_count": 26,
   "metadata": {},
   "outputs": [
    {
     "name": "stdout",
     "output_type": "stream",
     "text": [
      "Precision.numpy()=array([0.8903439], dtype=float32), Recall=tensor([0.8903]), F1=tensor([0.8903])\n"
     ]
    }
   ],
   "source": [
    "print(f\"{Precision.numpy()=}, {Recall=}, {F1=}\")"
   ]
  },
  {
   "cell_type": "code",
   "execution_count": 157,
   "metadata": {},
   "outputs": [
    {
     "data": {
      "text/plain": [
       "array([0.9680341], dtype=float32)"
      ]
     },
     "execution_count": 157,
     "metadata": {},
     "output_type": "execute_result"
    }
   ],
   "source": [
    "Precision.numpy()"
   ]
  },
  {
   "cell_type": "code",
   "execution_count": 14,
   "metadata": {},
   "outputs": [],
   "source": [
    "import datasets"
   ]
  },
  {
   "cell_type": "code",
   "execution_count": 16,
   "metadata": {},
   "outputs": [
    {
     "name": "stdout",
     "output_type": "stream",
     "text": [
      "Downloading and preparing dataset code_x_glue_cc_code_completion_line/python (download: 23.14 MiB, generated: 22.91 MiB, post-processed: Unknown size, total: 46.05 MiB) to /tf/data/cache/HF/datasets/code_x_glue_cc_code_completion_line/python/0.0.0/4ce8a216b87c5b130aad675f2bbf3612cc1f7fa5dbdc2fcb9c412765cf7830a7...\n"
     ]
    },
    {
     "data": {
      "application/vnd.jupyter.widget-view+json": {
       "model_id": "35e76a12dbac417d92bb026cbe1aaf98",
       "version_major": 2,
       "version_minor": 0
      },
      "text/plain": [
       "Downloading data files:   0%|          | 0/1 [00:00<?, ?it/s]"
      ]
     },
     "metadata": {},
     "output_type": "display_data"
    },
    {
     "data": {
      "application/vnd.jupyter.widget-view+json": {
       "model_id": "7a974c24d1a14ddea66138ab0fcfd330",
       "version_major": 2,
       "version_minor": 0
      },
      "text/plain": [
       "Downloading data:   0%|          | 0.00/4.97M [00:00<?, ?B/s]"
      ]
     },
     "metadata": {},
     "output_type": "display_data"
    },
    {
     "data": {
      "application/vnd.jupyter.widget-view+json": {
       "model_id": "d7216d8bdaf34d538a34775ca02dda45",
       "version_major": 2,
       "version_minor": 0
      },
      "text/plain": [
       "Extracting data files:   0%|          | 0/1 [00:00<?, ?it/s]"
      ]
     },
     "metadata": {},
     "output_type": "display_data"
    },
    {
     "data": {
      "application/vnd.jupyter.widget-view+json": {
       "model_id": "",
       "version_major": 2,
       "version_minor": 0
      },
      "text/plain": [
       "Generating train split:   0%|          | 0/10000 [00:00<?, ? examples/s]"
      ]
     },
     "metadata": {},
     "output_type": "display_data"
    },
    {
     "name": "stdout",
     "output_type": "stream",
     "text": [
      "Dataset code_x_glue_cc_code_completion_line downloaded and prepared to /tf/data/cache/HF/datasets/code_x_glue_cc_code_completion_line/python/0.0.0/4ce8a216b87c5b130aad675f2bbf3612cc1f7fa5dbdc2fcb9c412765cf7830a7. Subsequent calls will reuse this data.\n"
     ]
    },
    {
     "data": {
      "application/vnd.jupyter.widget-view+json": {
       "model_id": "b4a13d02a6604c768fc2b39c902b7588",
       "version_major": 2,
       "version_minor": 0
      },
      "text/plain": [
       "  0%|          | 0/1 [00:00<?, ?it/s]"
      ]
     },
     "metadata": {},
     "output_type": "display_data"
    },
    {
     "name": "stdout",
     "output_type": "stream",
     "text": [
      "Downloading and preparing dataset code_x_glue_cc_code_completion_line/java (download: 5.27 MiB, generated: 5.20 MiB, post-processed: Unknown size, total: 10.47 MiB) to /tf/data/cache/HF/datasets/code_x_glue_cc_code_completion_line/java/0.0.0/4ce8a216b87c5b130aad675f2bbf3612cc1f7fa5dbdc2fcb9c412765cf7830a7...\n"
     ]
    },
    {
     "data": {
      "application/vnd.jupyter.widget-view+json": {
       "model_id": "e66f2501544a479ba89a98f5a65515be",
       "version_major": 2,
       "version_minor": 0
      },
      "text/plain": [
       "Downloading data files:   0%|          | 0/1 [00:00<?, ?it/s]"
      ]
     },
     "metadata": {},
     "output_type": "display_data"
    },
    {
     "data": {
      "application/vnd.jupyter.widget-view+json": {
       "model_id": "5f0932f7f1984647924aaba9969d8d75",
       "version_major": 2,
       "version_minor": 0
      },
      "text/plain": [
       "Downloading data:   0%|          | 0.00/993k [00:00<?, ?B/s]"
      ]
     },
     "metadata": {},
     "output_type": "display_data"
    },
    {
     "data": {
      "application/vnd.jupyter.widget-view+json": {
       "model_id": "4624683d206547f7845b63860bd4aefc",
       "version_major": 2,
       "version_minor": 0
      },
      "text/plain": [
       "Extracting data files:   0%|          | 0/1 [00:00<?, ?it/s]"
      ]
     },
     "metadata": {},
     "output_type": "display_data"
    },
    {
     "data": {
      "application/vnd.jupyter.widget-view+json": {
       "model_id": "",
       "version_major": 2,
       "version_minor": 0
      },
      "text/plain": [
       "Generating train split:   0%|          | 0/3000 [00:00<?, ? examples/s]"
      ]
     },
     "metadata": {},
     "output_type": "display_data"
    },
    {
     "name": "stdout",
     "output_type": "stream",
     "text": [
      "Dataset code_x_glue_cc_code_completion_line downloaded and prepared to /tf/data/cache/HF/datasets/code_x_glue_cc_code_completion_line/java/0.0.0/4ce8a216b87c5b130aad675f2bbf3612cc1f7fa5dbdc2fcb9c412765cf7830a7. Subsequent calls will reuse this data.\n"
     ]
    },
    {
     "data": {
      "application/vnd.jupyter.widget-view+json": {
       "model_id": "ad3a72f3561d49aca46ef45d524585ac",
       "version_major": 2,
       "version_minor": 0
      },
      "text/plain": [
       "  0%|          | 0/1 [00:00<?, ?it/s]"
      ]
     },
     "metadata": {},
     "output_type": "display_data"
    }
   ],
   "source": [
    "from datasets import load_dataset\n",
    "\n",
    "dataset_py = load_dataset(\"code_x_glue_cc_code_completion_line\", \"python\")\n",
    "datasert_j = load_dataset(\"code_x_glue_cc_code_completion_line\", \"java\")"
   ]
  },
  {
   "cell_type": "code",
   "execution_count": 33,
   "metadata": {},
   "outputs": [
    {
     "data": {
      "application/vnd.jupyter.widget-view+json": {
       "model_id": "47b0c0aad995495fac5ab48dce141f98",
       "version_major": 2,
       "version_minor": 0
      },
      "text/plain": [
       "Downloading:   0%|          | 0.00/694 [00:00<?, ?B/s]"
      ]
     },
     "metadata": {},
     "output_type": "display_data"
    },
    {
     "data": {
      "application/vnd.jupyter.widget-view+json": {
       "model_id": "77cf3e60f72a4d439f95b37497aab5c1",
       "version_major": 2,
       "version_minor": 0
      },
      "text/plain": [
       "Downloading:   0%|          | 0.00/1.04G [00:00<?, ?B/s]"
      ]
     },
     "metadata": {},
     "output_type": "display_data"
    }
   ],
   "source": [
    "bloom = AutoModel.from_pretrained('bigscience/bloom-350m')"
   ]
  },
  {
   "cell_type": "code",
   "execution_count": null,
   "metadata": {},
   "outputs": [],
   "source": []
  },
  {
   "cell_type": "code",
   "execution_count": 24,
   "metadata": {
    "scrolled": true
   },
   "outputs": [
    {
     "name": "stdout",
     "output_type": "stream",
     "text": [
      "<s> from __future__ import absolute_import \n",
      " import weakref \n",
      " import operator \n",
      " from . compat import threading , itertools_filterfalse \n",
      " from . import py2k \n",
      " import types \n",
      " EMPTY_SET = frozenset ( ) \n",
      " class KeyedTuple ( tuple ) : \n",
      " def __new__ ( cls , vals , labels = None ) : \n",
      " t = tuple . __new__ ( cls , vals ) \n",
      " t . _labels = [ ] \n",
      " if labels : \n",
      " t . __dict__ . update ( zip ( labels , vals ) ) \n",
      " t . _labels = labels \n",
      " return t \n",
      " def keys ( self ) : \n",
      " return [ l for l in self . _labels if l is not None ] \n",
      " @ property \n",
      " def _fields ( self ) : \n",
      " return tuple ( self . keys ( ) ) \n",
      " def _asdict ( self ) : \n",
      " return dict ( ( key , self . __dict__ [ key ] ) for key in self . keys ( ) ) \n",
      " class ImmutableContainer ( object ) : \n",
      " def _immutable ( self , * arg , ** kw ) : \n",
      " raise TypeError ( \"\" % self . __class__ . __name__ ) \n",
      " __delitem__ = __setitem__ = __setattr__ = _immutable \n",
      " class immutabledict ( ImmutableContainer , dict ) : \n",
      " clear = pop = popitem = setdefault = update = ImmutableContainer . _immutable \n",
      " def __new__ ( cls , * args ) : \n",
      " new = dict . __new__ ( cls ) \n",
      " dict . __init__ ( new , * args ) \n",
      " return new \n",
      " def __init__ ( self , * args ) : \n",
      " pass \n",
      " def __reduce__ ( self ) : \n",
      " return immutabledict , ( dict ( self ) , ) \n",
      " def union ( self , d ) : \n",
      " if not self : \n",
      " return immutabledict ( d ) \n",
      " else : \n",
      " d2 = immutabledict ( self ) \n",
      " dict . update ( d2 , d ) \n",
      " return d2 \n",
      " def __repr__ ( self ) : \n",
      " return \"\" % dict . __repr__ ( self ) \n",
      " class Properties ( object ) : \n",
      " def __init__ ( self , data ) : \n",
      " self . __dict__ [ '_data' ] = data \n",
      " def __len__ ( self ) : \n",
      " return len ( self . _data ) \n",
      " def __iter__ ( self ) : \n",
      " return iter ( list ( self . _data . values ( ) ) ) \n",
      " def __add__ ( self , other ) : \n",
      " return list ( self ) + list ( other ) \n",
      " def __setitem__ ( self , key , object ) : \n",
      " self . _data [ key ] = object \n",
      " def __getitem__ ( self , key ) : \n",
      " return self . _data [ key ] \n",
      " def __delitem__ ( self , key ) : \n",
      " del self . _data [ key ] \n",
      " def __setattr__ ( self , key , object ) : \n",
      " self . _data [ key ] = object \n",
      " def __getstate__ ( self ) : \n",
      " return { '_data' : self . __dict__ [ '_data' ] } \n",
      " def __setstate__ ( self , state ) : \n",
      " self . __dict__ [ '_data' ] = state [ '_data' ] \n",
      " def __getattr__ ( self , key ) : \n",
      " try : \n",
      " return self . _data [ key ] \n",
      " except KeyError : \n",
      " raise AttributeError ( key ) \n",
      " def __contains__ ( self , key ) : \n",
      " return key in self . _data \n",
      " def as_immutable ( self ) : \n",
      " return ImmutableProperties ( self . _data ) \n",
      " def update ( self , value ) : \n",
      " self . _data . update ( value ) \n",
      " def get ( self , key , default = None ) : \n",
      " if key in self : \n",
      " return self [ key ] \n",
      " else : \n",
      " return default \n",
      " def keys ( self ) : \n",
      " return list ( self . _data ) \n",
      " def values ( self ) : \n",
      " return list ( self . _data . values ( ) ) \n",
      " def items ( self ) : \n",
      " return list ( self . _data . items ( ) ) \n",
      " def has_key ( self , key ) : \n",
      " return key in self . _data \n",
      " def clear ( self ) : \n",
      " self . _data . clear ( ) \n",
      " class OrderedProperties ( Properties ) : \n",
      " def __init__ ( self ) : \n",
      " Properties . __init__ ( self , OrderedDict ( ) ) \n",
      " class ImmutableProperties ( ImmutableContainer , Properties ) : \n",
      " class OrderedDict ( dict ) : \n",
      " def __init__ ( self , ____sequence = None , ** kwargs ) : \n",
      " self . _list = [ ] \n",
      " if ____sequence is None : \n",
      " if kwargs : \n",
      " self . update ( ** kwargs ) \n",
      " else : \n",
      " self . update ( ____sequence , ** kwargs ) \n",
      " def clear ( self ) : \n",
      " self . _list = [ ] \n",
      " dict . clear ( self ) \n",
      " def copy ( self ) : \n",
      " return self . __copy__ ( ) \n",
      " def __copy__ ( self ) : \n",
      " return OrderedDict ( self ) \n",
      " def sort ( self , * arg , ** kw ) : \n",
      " self . _list . sort ( * arg , ** kw ) \n",
      " def update ( self , ____sequence = None , ** kwargs ) : \n",
      " if ____sequence is not None : \n",
      " if hasattr ( ____sequence , 'keys' ) : \n",
      " for key in ____sequence . keys ( ) : \n",
      " self . __setitem__ ( key , ____sequence [ key ] ) \n",
      " else : \n",
      " for key , value in ____sequence : \n",
      " self [ key ] = value \n",
      " if kwargs : \n",
      " self . update ( kwargs ) \n",
      " def setdefault ( self , key , value ) : \n",
      " if key not in self : \n",
      " self . __setitem__ ( key , value ) \n",
      " return value \n",
      " else : \n",
      " return self . __getitem__ ( key ) \n",
      " def __iter__ ( self ) : \n",
      " return iter ( self . _list ) \n",
      " def keys ( self ) : \n",
      " return list ( self ) \n",
      " def values ( self ) : \n",
      " return [ self [ key ] for key in self . _list ] \n",
      " def items ( self ) : \n",
      " return [ ( key , self [ key ] ) for key in self . _list ] \n",
      " if py2k : \n",
      " def itervalues ( self ) : \n",
      " return iter ( self . values ( ) ) \n",
      " def iterkeys ( self ) : \n",
      " return iter ( self ) \n",
      " def iteritems ( self ) : \n",
      " return iter ( self . items ( ) ) \n",
      " def __setitem__ ( self , key , object ) : \n",
      " if key not in self : \n",
      " try : \n",
      " self . _list . append ( key ) \n",
      " except AttributeError : \n",
      " self . _list = [ key ] \n",
      " dict . __setitem__ ( self , key , object ) \n",
      " def __delitem__ ( self , key ) : \n",
      " dict . __delitem__ ( self , key ) \n",
      " self . _list . remove ( key ) \n",
      " def pop ( self , key , * default ) : \n",
      " present = key in self \n",
      " value = dict . pop ( self , key , * default ) \n",
      " if present : \n",
      " self . _list . remove ( key ) \n",
      " return value \n",
      " def popitem ( self ) : \n",
      " item = dict . popitem ( self ) \n",
      " self . _list . remove ( item [ 0 ] ) \n",
      " return item \n",
      " class OrderedSet ( set ) : \n",
      " def __init__ ( self , d = None ) : \n",
      " set . __init__ ( self ) \n",
      " self . _list = [ ] \n",
      " if d is not None : \n",
      "\n"
     ]
    }
   ],
   "source": [
    "print(dataset_py['train'][0]['input'].replace('<EOL>', '\\n'))"
   ]
  },
  {
   "cell_type": "code",
   "execution_count": 4,
   "metadata": {},
   "outputs": [],
   "source": [
    "import torch"
   ]
  },
  {
   "cell_type": "code",
   "execution_count": 6,
   "metadata": {},
   "outputs": [
    {
     "data": {
      "text/plain": [
       "0"
      ]
     },
     "execution_count": 6,
     "metadata": {},
     "output_type": "execute_result"
    }
   ],
   "source": [
    "torch.cuda.current_device()"
   ]
  },
  {
   "cell_type": "code",
   "execution_count": null,
   "metadata": {},
   "outputs": [],
   "source": []
  },
  {
   "cell_type": "code",
   "execution_count": 161,
   "metadata": {},
   "outputs": [],
   "source": [
    "from datasets import load_dataset\n",
    "from transformers import AutoTokenizer, AutoModelForCausalLM, set_seed, StoppingCriteria, StoppingCriteriaList\n",
    "from transformers import pipeline"
   ]
  },
  {
   "cell_type": "code",
   "execution_count": 8,
   "metadata": {},
   "outputs": [
    {
     "data": {
      "application/vnd.jupyter.widget-view+json": {
       "model_id": "9c8c4db202ba4849a0206139e5ba427a",
       "version_major": 2,
       "version_minor": 0
      },
      "text/plain": [
       "Downloading:   0%|          | 0.00/259 [00:00<?, ?B/s]"
      ]
     },
     "metadata": {},
     "output_type": "display_data"
    },
    {
     "data": {
      "application/vnd.jupyter.widget-view+json": {
       "model_id": "d2070bd2c9e34ca9a47babbd69eddee8",
       "version_major": 2,
       "version_minor": 0
      },
      "text/plain": [
       "Downloading:   0%|          | 0.00/485k [00:00<?, ?B/s]"
      ]
     },
     "metadata": {},
     "output_type": "display_data"
    },
    {
     "data": {
      "application/vnd.jupyter.widget-view+json": {
       "model_id": "7ad17e9764894ff399afbd8bf5c1259b",
       "version_major": 2,
       "version_minor": 0
      },
      "text/plain": [
       "Downloading:   0%|          | 0.00/270k [00:00<?, ?B/s]"
      ]
     },
     "metadata": {},
     "output_type": "display_data"
    },
    {
     "data": {
      "application/vnd.jupyter.widget-view+json": {
       "model_id": "bf4c423a7e3c4e3cb4455c62a87eb2af",
       "version_major": 2,
       "version_minor": 0
      },
      "text/plain": [
       "Downloading:   0%|          | 0.00/821k [00:00<?, ?B/s]"
      ]
     },
     "metadata": {},
     "output_type": "display_data"
    },
    {
     "data": {
      "application/vnd.jupyter.widget-view+json": {
       "model_id": "f81c57a7d6664228998e6a6c775ea30c",
       "version_major": 2,
       "version_minor": 0
      },
      "text/plain": [
       "Downloading:   0%|          | 0.00/90.0 [00:00<?, ?B/s]"
      ]
     },
     "metadata": {},
     "output_type": "display_data"
    },
    {
     "data": {
      "application/vnd.jupyter.widget-view+json": {
       "model_id": "edeab827b37a4b3dbf3826afe0e92a4e",
       "version_major": 2,
       "version_minor": 0
      },
      "text/plain": [
       "Downloading:   0%|          | 0.00/903 [00:00<?, ?B/s]"
      ]
     },
     "metadata": {},
     "output_type": "display_data"
    },
    {
     "data": {
      "application/vnd.jupyter.widget-view+json": {
       "model_id": "95bfa689814548c597215f93ff732837",
       "version_major": 2,
       "version_minor": 0
      },
      "text/plain": [
       "Downloading:   0%|          | 0.00/436M [00:00<?, ?B/s]"
      ]
     },
     "metadata": {},
     "output_type": "display_data"
    }
   ],
   "source": [
    "tokenizer = AutoTokenizer.from_pretrained(\"codeparrot/codeparrot-small\")\n",
    "model = AutoModelForCausalLM.from_pretrained(\"codeparrot/codeparrot-small\")"
   ]
  },
  {
   "cell_type": "code",
   "execution_count": 163,
   "metadata": {},
   "outputs": [],
   "source": [
    "class EndOfFunctionCriteria(StoppingCriteria):\n",
    "    \"\"\"Custom `StoppingCriteria` which checks if all generated functions in the batch are completed.\"\"\"\n",
    "\n",
    "    def __init__(self, start_length, eof_strings, tokenizer):\n",
    "        self.start_length = start_length\n",
    "        self.eof_strings = eof_strings\n",
    "        self.tokenizer = tokenizer\n",
    "\n",
    "    def __call__(self, input_ids, scores, **kwargs):\n",
    "        \"\"\"Returns true if all generated sequences contain any of the end-of-function strings.\"\"\"\n",
    "        decoded_generations = self.tokenizer.batch_decode(input_ids[:, self.start_length :])\n",
    "        done = []\n",
    "        for decoded_generation in decoded_generations:\n",
    "            done.append(any([stop_string in decoded_generation for stop_string in self.eof_strings]))\n",
    "        return all(done)"
   ]
  },
  {
   "cell_type": "code",
   "execution_count": 164,
   "metadata": {},
   "outputs": [
    {
     "data": {
      "text/plain": [
       "[<__main__.EndOfFunctionCriteria at 0x7f49f66e21f0>]"
      ]
     },
     "execution_count": 164,
     "metadata": {},
     "output_type": "execute_result"
    }
   ],
   "source": []
  },
  {
   "cell_type": "code",
   "execution_count": 171,
   "metadata": {},
   "outputs": [
    {
     "name": "stderr",
     "output_type": "stream",
     "text": [
      "The attention mask and the pad token id were not set. As a consequence, you may observe unexpected behavior. Please pass your input's `attention_mask` to obtain reliable results.\n",
      "Setting `pad_token_id` to `eos_token_id`:50256 for open-end generation.\n"
     ]
    },
    {
     "name": "stdout",
     "output_type": "stream",
     "text": [
      "def hello_world():\n",
      "#        '''\n",
      "#        '''\n",
      "#        pass\n",
      "\n",
      "#    def\n"
     ]
    }
   ],
   "source": [
    "set_seed(42)\n",
    "pipe = pipeline(\"text-generation\", model=model, tokenizer=tokenizer)\n",
    "generated_text = pipe(\"def hello_world():\\n\", stopping_criteria=StoppingCriteriaList([EndOfFunctionCriteria(0, [' def'], tokenizer)]), typical_p=0.9 ,max_new_tokens=50)[0]['generated_text']\n",
    "print(generated_text)"
   ]
  },
  {
   "cell_type": "code",
   "execution_count": 21,
   "metadata": {},
   "outputs": [
    {
     "name": "stderr",
     "output_type": "stream",
     "text": [
      "The attention mask and the pad token id were not set. As a consequence, you may observe unexpected behavior. Please pass your input's `attention_mask` to obtain reliable results.\n",
      "Setting `pad_token_id` to `eos_token_id`:50256 for open-end generation.\n"
     ]
    },
    {
     "name": "stdout",
     "output_type": "stream",
     "text": [
      "def hello_world():\n",
      "#        '''\n",
      "#        '''\n",
      "#        pass\n",
      "\n",
      "#    def get_output(self, timeout=None):\n",
      "#        '''\n",
      "#        '''\n",
      "#        return self.output\n",
      "\n",
      "\n",
      "if __name__ == '__main\n"
     ]
    }
   ],
   "source": [
    "set_seed(42)\n",
    "pipe = pipeline(\"text-generation\", model=model, tokenizer=tokenizer)\n",
    "generated_text = pipe(\"def hello_world():\\n\", typical_p=0.9 ,max_new_tokens=50)[0]['generated_text']\n",
    "print(generated_text)"
   ]
  },
  {
   "cell_type": "code",
   "execution_count": 25,
   "metadata": {},
   "outputs": [
    {
     "name": "stderr",
     "output_type": "stream",
     "text": [
      "The attention mask and the pad token id were not set. As a consequence, you may observe unexpected behavior. Please pass your input's `attention_mask` to obtain reliable results.\n",
      "Setting `pad_token_id` to `eos_token_id`:50256 for open-end generation.\n"
     ]
    },
    {
     "name": "stdout",
     "output_type": "stream",
     "text": [
      "def hello_world():\n",
      "    print('Hello!')\n",
      "\n",
      "if __name__ == '__main__':\n",
      "    hello_world()\n",
      "# coding=utf-8\n",
      "# --------------------------------------------------------------------------\n",
      "# Copyright (c) Microsoft Corporation. All rights reserved.\n",
      "# Licensed under the MIT\n"
     ]
    }
   ],
   "source": [
    "set_seed(42)\n",
    "pipe = pipeline(\"text-generation\", model=model, tokenizer=tokenizer)\n",
    "prompt = \"def hello_world():\"\n",
    "generated_text = pipe(prompt, typical_p=0.9 ,max_new_tokens=50, device=0)[0]['generated_text']\n",
    "print(generated_text)"
   ]
  },
  {
   "cell_type": "code",
   "execution_count": 156,
   "metadata": {},
   "outputs": [
    {
     "name": "stderr",
     "output_type": "stream",
     "text": [
      "The attention mask and the pad token id were not set. As a consequence, you may observe unexpected behavior. Please pass your input's `attention_mask` to obtain reliable results.\n",
      "Setting `pad_token_id` to `eos_token_id`:50256 for open-end generation.\n"
     ]
    },
    {
     "name": "stdout",
     "output_type": "stream",
     "text": [
      "def hello_world():\n",
      "#        '''\n",
      "#        '''\n",
      "#        pass\n",
      "\n",
      "#    def get_output(self, timeout=None):\n",
      "#        '''\n",
      "#        '''\n",
      "#        return self.output\n",
      "\n",
      "\n",
      "if __name__ == '__main\n"
     ]
    }
   ],
   "source": [
    "set_seed(42)\n",
    "pipe = pipeline(\"text-generation\", model=model, tokenizer=tokenizer)\n",
    "prompt = \"def hello_world():\\n\"\n",
    "generated_text = pipe(prompt, do_sample=True, typical_p=0.9 ,max_new_tokens=50, device=0)[0]['generated_text']\n",
    "print(generated_text)"
   ]
  },
  {
   "cell_type": "code",
   "execution_count": 160,
   "metadata": {},
   "outputs": [
    {
     "name": "stderr",
     "output_type": "stream",
     "text": [
      "The attention mask and the pad token id were not set. As a consequence, you may observe unexpected behavior. Please pass your input's `attention_mask` to obtain reliable results.\n",
      "Setting `pad_token_id` to `eos_token_id`:50256 for open-end generation.\n"
     ]
    },
    {
     "name": "stdout",
     "output_type": "stream",
     "text": [
      "def hello_world():\n",
      "\tprint('Hello, world!')\n",
      "\tprint('Hello, world!')\n",
      "\tprint('Hello, world!')\n",
      "\n",
      "def hello_world2():\n",
      "\tprint('Hello, world!')\n",
      "\tprint('Hello, world!')\n",
      "\tprint\n"
     ]
    }
   ],
   "source": [
    "set_seed(42)\n",
    "pipe = pipeline(\"text-generation\", model=model, tokenizer=tokenizer)\n",
    "prompt = \"def hello_world():\\n\"\n",
    "generated_text = pipe(prompt, do_sample=True, typical_p=0.7 ,max_new_tokens=50, device=0)[0]['generated_text']\n",
    "print(generated_text)"
   ]
  },
  {
   "cell_type": "code",
   "execution_count": 37,
   "metadata": {},
   "outputs": [
    {
     "name": "stderr",
     "output_type": "stream",
     "text": [
      "The attention mask and the pad token id were not set. As a consequence, you may observe unexpected behavior. Please pass your input's `attention_mask` to obtain reliable results.\n",
      "Setting `pad_token_id` to `eos_token_id`:50256 for open-end generation.\n"
     ]
    },
    {
     "name": "stdout",
     "output_type": "stream",
     "text": [
      "def hello_world():\n",
      "    return \"Hello World!\"\n",
      "\n",
      "def hello_world_with_default():\n",
      "    return \"Hello World!\"\n",
      "\n",
      "def hello_world_with_default_with_default():\n",
      "    return \"Hello World!\"\n",
      "\n"
     ]
    }
   ],
   "source": [
    "set_seed(42)\n",
    "pipe = pipeline(\"text-generation\", model=model, tokenizer=tokenizer)\n",
    "prompt = \"def hello_world():\"\n",
    "generated_text = pipe(prompt,  temperature=0.6, do_sample=True, top_p=0.95, device=0)[0]['generated_text']\n",
    "print(generated_text)"
   ]
  },
  {
   "cell_type": "code",
   "execution_count": 30,
   "metadata": {},
   "outputs": [
    {
     "data": {
      "text/plain": [
       "['',\n",
       " \"    print('Hello!')\",\n",
       " '',\n",
       " \"if __name__ == '__main__':\",\n",
       " '    hello_world()',\n",
       " '# coding=utf-8',\n",
       " '# --------------------------------------------------------------------------',\n",
       " '# Copyright (c) Microsoft Corporation. All rights reserved.',\n",
       " '# Licensed under the MIT']"
      ]
     },
     "execution_count": 30,
     "metadata": {},
     "output_type": "execute_result"
    }
   ],
   "source": [
    "generated_text[len(prompt):].split('\\n')"
   ]
  },
  {
   "cell_type": "code",
   "execution_count": 42,
   "metadata": {},
   "outputs": [
    {
     "name": "stderr",
     "output_type": "stream",
     "text": [
      "Reusing dataset openai_humaneval (/tf/data/cache/HF/datasets/openai_humaneval/openai_humaneval/1.0.0/2955cebd73602e828fa8c0a424c594e5fab4ec863b316ca98f3d8fdb6a626e75)\n"
     ]
    }
   ],
   "source": [
    "human_eval = load_dataset(\"openai_humaneval\", split='test')"
   ]
  },
  {
   "cell_type": "code",
   "execution_count": 46,
   "metadata": {},
   "outputs": [
    {
     "data": {
      "text/plain": [
       "'from typing import List\\n\\n\\ndef has_close_elements(numbers: List[float], threshold: float) -> bool:\\n    \"\"\" Check if in given list of numbers, are any two numbers closer to each other than\\n    given threshold.\\n    >>> has_close_elements([1.0, 2.0, 3.0], 0.5)\\n    False\\n    >>> has_close_elements([1.0, 2.8, 3.0, 4.0, 5.0, 2.0], 0.3)\\n    True\\n    \"\"\"\\n'"
      ]
     },
     "execution_count": 46,
     "metadata": {},
     "output_type": "execute_result"
    }
   ],
   "source": [
    "human_eval[0]['prompt']"
   ]
  },
  {
   "cell_type": "code",
   "execution_count": 49,
   "metadata": {},
   "outputs": [
    {
     "data": {
      "text/plain": [
       "['task_id', 'prompt', 'canonical_solution', 'test', 'entry_point']"
      ]
     },
     "execution_count": 49,
     "metadata": {},
     "output_type": "execute_result"
    }
   ],
   "source": [
    "human_eval.column_names"
   ]
  },
  {
   "cell_type": "code",
   "execution_count": 67,
   "metadata": {
    "scrolled": false
   },
   "outputs": [
    {
     "data": {
      "text/plain": [
       "\"    if not string:\\n        return ''\\n\\n    beginning_of_suffix = 0\\n\\n    while not is_palindrome(string[beginning_of_suffix:]):\\n        beginning_of_suffix += 1\\n\\n    return string + string[:beginning_of_suffix][::-1]\\n\""
      ]
     },
     "execution_count": 67,
     "metadata": {},
     "output_type": "execute_result"
    }
   ],
   "source": [
    "human_eval[10]['canonical_solution']"
   ]
  },
  {
   "cell_type": "code",
   "execution_count": 71,
   "metadata": {},
   "outputs": [],
   "source": [
    "df = human_eval.to_pandas()"
   ]
  },
  {
   "cell_type": "code",
   "execution_count": 129,
   "metadata": {},
   "outputs": [
    {
     "data": {
      "application/vnd.jupyter.widget-view+json": {
       "model_id": "8dea705c884d4b768e9ceb77204e8a79",
       "version_major": 2,
       "version_minor": 0
      },
      "text/plain": [
       "  0%|          | 0/1 [00:00<?, ?ba/s]"
      ]
     },
     "metadata": {},
     "output_type": "display_data"
    },
    {
     "data": {
      "text/plain": [
       "Dataset({\n",
       "    features: ['task_id', 'prompt', 'canonical_solution', 'test', 'entry_point'],\n",
       "    num_rows: 37\n",
       "})"
      ]
     },
     "execution_count": 129,
     "metadata": {},
     "output_type": "execute_result"
    }
   ],
   "source": [
    "human_eval.filter(lambda x: len(x['canonical_solution'].split('\\n'))<3)"
   ]
  },
  {
   "cell_type": "code",
   "execution_count": 132,
   "metadata": {},
   "outputs": [],
   "source": [
    "from datasets import load_dataset\n",
    "from evaluate import load"
   ]
  },
  {
   "cell_type": "code",
   "execution_count": 128,
   "metadata": {},
   "outputs": [
    {
     "data": {
      "text/plain": [
       "9"
      ]
     },
     "execution_count": 128,
     "metadata": {},
     "output_type": "execute_result"
    }
   ],
   "source": [
    "len(df[df['canonical_solution'].str.split('\\n').apply(len) == 3])"
   ]
  },
  {
   "cell_type": "code",
   "execution_count": 82,
   "metadata": {},
   "outputs": [],
   "source": [
    "import pandas as pd"
   ]
  },
  {
   "cell_type": "code",
   "execution_count": 133,
   "metadata": {},
   "outputs": [
    {
     "name": "stderr",
     "output_type": "stream",
     "text": [
      "Reusing dataset openai_humaneval (/tf/data/cache/HF/datasets/openai_humaneval/openai_humaneval/1.0.0/2955cebd73602e828fa8c0a424c594e5fab4ec863b316ca98f3d8fdb6a626e75)\n"
     ]
    },
    {
     "data": {
      "application/vnd.jupyter.widget-view+json": {
       "model_id": "444e862cbe974e5a9f06744b5c799aa4",
       "version_major": 2,
       "version_minor": 0
      },
      "text/plain": [
       "  0%|          | 0/1 [00:00<?, ?it/s]"
      ]
     },
     "metadata": {},
     "output_type": "display_data"
    },
    {
     "data": {
      "application/vnd.jupyter.widget-view+json": {
       "model_id": "b4d6caf5b92342a3ac4884efc91d9c87",
       "version_major": 2,
       "version_minor": 0
      },
      "text/plain": [
       "Downloading builder script:   0%|          | 0.00/3.88k [00:00<?, ?B/s]"
      ]
     },
     "metadata": {},
     "output_type": "display_data"
    },
    {
     "data": {
      "application/vnd.jupyter.widget-view+json": {
       "model_id": "75dfb4711dee49b7b682c35f62fa3942",
       "version_major": 2,
       "version_minor": 0
      },
      "text/plain": [
       "Downloading extra modules:   0%|          | 0.00/2.25k [00:00<?, ?B/s]"
      ]
     },
     "metadata": {},
     "output_type": "display_data"
    }
   ],
   "source": [
    "human_eval = load_dataset(\"openai_humaneval\")\n",
    "code_eval_metric = load(\"code_eval\")"
   ]
  },
  {
   "cell_type": "code",
   "execution_count": 135,
   "metadata": {},
   "outputs": [],
   "source": [
    "import os\n",
    "os.environ[\"HF_ALLOW_CODE_EVAL\"] = \"1\""
   ]
  },
  {
   "cell_type": "code",
   "execution_count": 154,
   "metadata": {},
   "outputs": [
    {
     "name": "stdout",
     "output_type": "stream",
     "text": [
      "{'pass@1': 0.5, 'pass@2': 1.0}\n",
      "CPU times: user 24 ms, sys: 243 ms, total: 267 ms\n",
      "Wall time: 467 ms\n"
     ]
    }
   ],
   "source": [
    "%%time\n",
    "test_cases = [\"assert add(2,3)==5\"]\n",
    "candidates = [[\"def add(a,b): return a*b\", \"def add(a, b):\\n    return a+b\"]]\n",
    "pass_at_k, results = code_eval_metric.compute(references=test_cases, predictions=candidates, k=[1, 2])\n",
    "print(pass_at_k)"
   ]
  },
  {
   "cell_type": "code",
   "execution_count": 153,
   "metadata": {},
   "outputs": [
    {
     "name": "stdout",
     "output_type": "stream",
     "text": [
      "def add(a, b):\n",
      "return a+b\n"
     ]
    }
   ],
   "source": [
    "print(\"def add(a, b):\\nreturn a+b\")"
   ]
  },
  {
   "cell_type": "code",
   "execution_count": 139,
   "metadata": {},
   "outputs": [
    {
     "data": {
      "text/plain": [
       "Dataset({\n",
       "    features: ['task_id', 'prompt', 'canonical_solution', 'test', 'entry_point'],\n",
       "    num_rows: 164\n",
       "})"
      ]
     },
     "execution_count": 139,
     "metadata": {},
     "output_type": "execute_result"
    }
   ],
   "source": [
    "human_eval['test']"
   ]
  },
  {
   "cell_type": "code",
   "execution_count": 84,
   "metadata": {},
   "outputs": [],
   "source": [
    "rosetta = pd.read_json('../code_datasets/code_crawl.jsonl', lines=True)"
   ]
  },
  {
   "cell_type": "code",
   "execution_count": 85,
   "metadata": {},
   "outputs": [
    {
     "data": {
      "text/html": [
       "<div>\n",
       "<style scoped>\n",
       "    .dataframe tbody tr th:only-of-type {\n",
       "        vertical-align: middle;\n",
       "    }\n",
       "\n",
       "    .dataframe tbody tr th {\n",
       "        vertical-align: top;\n",
       "    }\n",
       "\n",
       "    .dataframe thead th {\n",
       "        text-align: right;\n",
       "    }\n",
       "</style>\n",
       "<table border=\"1\" class=\"dataframe\">\n",
       "  <thead>\n",
       "    <tr style=\"text-align: right;\">\n",
       "      <th></th>\n",
       "      <th>task_url</th>\n",
       "      <th>task_name</th>\n",
       "      <th>task_description</th>\n",
       "      <th>language_url</th>\n",
       "      <th>language_name</th>\n",
       "      <th>code</th>\n",
       "    </tr>\n",
       "  </thead>\n",
       "  <tbody>\n",
       "    <tr>\n",
       "      <th>0</th>\n",
       "      <td>http://rosettacode.org/wiki/Ascending_primes</td>\n",
       "      <td>Ascending primes</td>\n",
       "      <td>Generate and show all primes with strictly asc...</td>\n",
       "      <td>#ALGOL_68</td>\n",
       "      <td>ALGOL 68</td>\n",
       "      <td>BEGIN # find all primes with strictly increasi...</td>\n",
       "    </tr>\n",
       "    <tr>\n",
       "      <th>1</th>\n",
       "      <td>http://rosettacode.org/wiki/Ascending_primes</td>\n",
       "      <td>Ascending primes</td>\n",
       "      <td>Generate and show all primes with strictly asc...</td>\n",
       "      <td>#Arturo</td>\n",
       "      <td>Arturo</td>\n",
       "      <td>ascending?: function [x][\\n    initial: digits...</td>\n",
       "    </tr>\n",
       "    <tr>\n",
       "      <th>2</th>\n",
       "      <td>http://rosettacode.org/wiki/Ascending_primes</td>\n",
       "      <td>Ascending primes</td>\n",
       "      <td>Generate and show all primes with strictly asc...</td>\n",
       "      <td>#AWK</td>\n",
       "      <td>AWK</td>\n",
       "      <td>\\n# syntax: GAWK -f ASCENDING_PRIMES.AWK\\nBEG...</td>\n",
       "    </tr>\n",
       "    <tr>\n",
       "      <th>3</th>\n",
       "      <td>http://rosettacode.org/wiki/Ascending_primes</td>\n",
       "      <td>Ascending primes</td>\n",
       "      <td>Generate and show all primes with strictly asc...</td>\n",
       "      <td>#F.23</td>\n",
       "      <td>F#</td>\n",
       "      <td>\\n// Ascending primes. Nigel Galloway: April ...</td>\n",
       "    </tr>\n",
       "    <tr>\n",
       "      <th>4</th>\n",
       "      <td>http://rosettacode.org/wiki/Ascending_primes</td>\n",
       "      <td>Ascending primes</td>\n",
       "      <td>Generate and show all primes with strictly asc...</td>\n",
       "      <td>#Factor</td>\n",
       "      <td>Factor</td>\n",
       "      <td>USING: grouping math math.combinatorics math.f...</td>\n",
       "    </tr>\n",
       "    <tr>\n",
       "      <th>...</th>\n",
       "      <td>...</td>\n",
       "      <td>...</td>\n",
       "      <td>...</td>\n",
       "      <td>...</td>\n",
       "      <td>...</td>\n",
       "      <td>...</td>\n",
       "    </tr>\n",
       "    <tr>\n",
       "      <th>79008</th>\n",
       "      <td>http://rosettacode.org/wiki/A%2BB</td>\n",
       "      <td>A+B</td>\n",
       "      <td>A+B   ─── a classic problem in programming con...</td>\n",
       "      <td>#zkl</td>\n",
       "      <td>zkl</td>\n",
       "      <td>do(2){ask(\"A B: \").split(\" \").filter().sum().p...</td>\n",
       "    </tr>\n",
       "    <tr>\n",
       "      <th>79009</th>\n",
       "      <td>http://rosettacode.org/wiki/A%2BB</td>\n",
       "      <td>A+B</td>\n",
       "      <td>A+B   ─── a classic problem in programming con...</td>\n",
       "      <td>#Zoea</td>\n",
       "      <td>Zoea</td>\n",
       "      <td>program: a_plus_b\\n  input: '7 11' \\n  output:...</td>\n",
       "    </tr>\n",
       "    <tr>\n",
       "      <th>79010</th>\n",
       "      <td>http://rosettacode.org/wiki/A%2BB</td>\n",
       "      <td>A+B</td>\n",
       "      <td>A+B   ─── a classic problem in programming con...</td>\n",
       "      <td>#Zoea_Visual</td>\n",
       "      <td>Zoea Visual</td>\n",
       "      <td>\\nmodule ABProblem;\\nvar\\n\\ta,b: integer;\\nbe...</td>\n",
       "    </tr>\n",
       "    <tr>\n",
       "      <th>79011</th>\n",
       "      <td>http://rosettacode.org/wiki/A%2BB</td>\n",
       "      <td>A+B</td>\n",
       "      <td>A+B   ─── a classic problem in programming con...</td>\n",
       "      <td>#zonnon</td>\n",
       "      <td>zonnon</td>\n",
       "      <td>\\nmodule ABProblem;\\nvar\\n\\ta,b: integer;\\nbe...</td>\n",
       "    </tr>\n",
       "    <tr>\n",
       "      <th>79012</th>\n",
       "      <td>http://rosettacode.org/wiki/A%2BB</td>\n",
       "      <td>A+B</td>\n",
       "      <td>A+B   ─── a classic problem in programming con...</td>\n",
       "      <td>#ZX_Spectrum_Basic</td>\n",
       "      <td>ZX Spectrum Basic</td>\n",
       "      <td>10 PRINT \"Input two numbers separated by\"'\"spa...</td>\n",
       "    </tr>\n",
       "  </tbody>\n",
       "</table>\n",
       "<p>79013 rows × 6 columns</p>\n",
       "</div>"
      ],
      "text/plain": [
       "                                           task_url         task_name  \\\n",
       "0      http://rosettacode.org/wiki/Ascending_primes  Ascending primes   \n",
       "1      http://rosettacode.org/wiki/Ascending_primes  Ascending primes   \n",
       "2      http://rosettacode.org/wiki/Ascending_primes  Ascending primes   \n",
       "3      http://rosettacode.org/wiki/Ascending_primes  Ascending primes   \n",
       "4      http://rosettacode.org/wiki/Ascending_primes  Ascending primes   \n",
       "...                                             ...               ...   \n",
       "79008             http://rosettacode.org/wiki/A%2BB               A+B   \n",
       "79009             http://rosettacode.org/wiki/A%2BB               A+B   \n",
       "79010             http://rosettacode.org/wiki/A%2BB               A+B   \n",
       "79011             http://rosettacode.org/wiki/A%2BB               A+B   \n",
       "79012             http://rosettacode.org/wiki/A%2BB               A+B   \n",
       "\n",
       "                                        task_description        language_url  \\\n",
       "0      Generate and show all primes with strictly asc...           #ALGOL_68   \n",
       "1      Generate and show all primes with strictly asc...             #Arturo   \n",
       "2      Generate and show all primes with strictly asc...                #AWK   \n",
       "3      Generate and show all primes with strictly asc...               #F.23   \n",
       "4      Generate and show all primes with strictly asc...             #Factor   \n",
       "...                                                  ...                 ...   \n",
       "79008  A+B   ─── a classic problem in programming con...                #zkl   \n",
       "79009  A+B   ─── a classic problem in programming con...               #Zoea   \n",
       "79010  A+B   ─── a classic problem in programming con...        #Zoea_Visual   \n",
       "79011  A+B   ─── a classic problem in programming con...             #zonnon   \n",
       "79012  A+B   ─── a classic problem in programming con...  #ZX_Spectrum_Basic   \n",
       "\n",
       "           language_name                                               code  \n",
       "0               ALGOL 68  BEGIN # find all primes with strictly increasi...  \n",
       "1                 Arturo  ascending?: function [x][\\n    initial: digits...  \n",
       "2                    AWK   \\n# syntax: GAWK -f ASCENDING_PRIMES.AWK\\nBEG...  \n",
       "3                     F#   \\n// Ascending primes. Nigel Galloway: April ...  \n",
       "4                 Factor  USING: grouping math math.combinatorics math.f...  \n",
       "...                  ...                                                ...  \n",
       "79008                zkl  do(2){ask(\"A B: \").split(\" \").filter().sum().p...  \n",
       "79009               Zoea  program: a_plus_b\\n  input: '7 11' \\n  output:...  \n",
       "79010        Zoea Visual   \\nmodule ABProblem;\\nvar\\n\\ta,b: integer;\\nbe...  \n",
       "79011             zonnon   \\nmodule ABProblem;\\nvar\\n\\ta,b: integer;\\nbe...  \n",
       "79012  ZX Spectrum Basic  10 PRINT \"Input two numbers separated by\"'\"spa...  \n",
       "\n",
       "[79013 rows x 6 columns]"
      ]
     },
     "execution_count": 85,
     "metadata": {},
     "output_type": "execute_result"
    }
   ],
   "source": [
    "rosetta"
   ]
  },
  {
   "cell_type": "code",
   "execution_count": 87,
   "metadata": {},
   "outputs": [],
   "source": [
    "from datasets import Dataset"
   ]
  },
  {
   "cell_type": "code",
   "execution_count": 88,
   "metadata": {},
   "outputs": [],
   "source": [
    "d = Dataset.from_pandas(rosetta)"
   ]
  },
  {
   "cell_type": "code",
   "execution_count": 90,
   "metadata": {},
   "outputs": [],
   "source": [
    "from huggingface_hub import notebook_login"
   ]
  },
  {
   "cell_type": "code",
   "execution_count": 91,
   "metadata": {},
   "outputs": [
    {
     "name": "stdout",
     "output_type": "stream",
     "text": [
      "Login successful\n",
      "Your token has been saved to /root/.huggingface/token\n",
      "\u001b[1m\u001b[31mAuthenticated through git-credential store but this isn't the helper defined on your machine.\n",
      "You might have to re-authenticate when pushing to the Hugging Face Hub. Run the following command in your terminal in case you want to set this credential helper as the default\n",
      "\n",
      "git config --global credential.helper store\u001b[0m\n"
     ]
    }
   ],
   "source": [
    "notebook_login()"
   ]
  },
  {
   "cell_type": "code",
   "execution_count": 92,
   "metadata": {},
   "outputs": [
    {
     "data": {
      "application/vnd.jupyter.widget-view+json": {
       "model_id": "2d26c3a76783458d92c6bbe1664579fa",
       "version_major": 2,
       "version_minor": 0
      },
      "text/plain": [
       "Pushing dataset shards to the dataset hub:   0%|          | 0/1 [00:00<?, ?it/s]"
      ]
     },
     "metadata": {},
     "output_type": "display_data"
    },
    {
     "name": "stderr",
     "output_type": "stream",
     "text": [
      "/usr/local/lib/python3.8/dist-packages/huggingface_hub/hf_api.py:1948: FutureWarning: `identical_ok` has no effect and is deprecated. It will be removed in 0.11.0.\n",
      "  warnings.warn(\n"
     ]
    }
   ],
   "source": [
    "d.push_to_hub('rosetta-code')"
   ]
  },
  {
   "cell_type": "code",
   "execution_count": 93,
   "metadata": {
    "scrolled": false
   },
   "outputs": [
    {
     "data": {
      "application/vnd.jupyter.widget-view+json": {
       "model_id": "2ceb88f0080f46e08ad09ff5ff8084b8",
       "version_major": 2,
       "version_minor": 0
      },
      "text/plain": [
       "Downloading:   0%|          | 0.00/1.36k [00:00<?, ?B/s]"
      ]
     },
     "metadata": {},
     "output_type": "display_data"
    },
    {
     "name": "stderr",
     "output_type": "stream",
     "text": [
      "Using custom data configuration cakiki--rosetta-code-495596fe3afff1d5\n"
     ]
    },
    {
     "name": "stdout",
     "output_type": "stream",
     "text": [
      "Downloading and preparing dataset None/None (download: 35.11 MiB, generated: 177.52 MiB, post-processed: Unknown size, total: 212.63 MiB) to /tf/data/cache/HF/datasets/cakiki___parquet/cakiki--rosetta-code-495596fe3afff1d5/0.0.0/7328ef7ee03eaf3f86ae40594d46a1cec86161704e02dd19f232d81eee72ade8...\n"
     ]
    },
    {
     "data": {
      "application/vnd.jupyter.widget-view+json": {
       "model_id": "6d18c61aa52d4fef93eaa871f04b359b",
       "version_major": 2,
       "version_minor": 0
      },
      "text/plain": [
       "Downloading data files:   0%|          | 0/1 [00:00<?, ?it/s]"
      ]
     },
     "metadata": {},
     "output_type": "display_data"
    },
    {
     "data": {
      "application/vnd.jupyter.widget-view+json": {
       "model_id": "765b3b80bdfc4637985f5cfe4ac17892",
       "version_major": 2,
       "version_minor": 0
      },
      "text/plain": [
       "Downloading data:   0%|          | 0.00/36.8M [00:00<?, ?B/s]"
      ]
     },
     "metadata": {},
     "output_type": "display_data"
    },
    {
     "data": {
      "application/vnd.jupyter.widget-view+json": {
       "model_id": "3bed5c6822784b599ec6e6e1de781ec7",
       "version_major": 2,
       "version_minor": 0
      },
      "text/plain": [
       "Extracting data files:   0%|          | 0/1 [00:00<?, ?it/s]"
      ]
     },
     "metadata": {},
     "output_type": "display_data"
    },
    {
     "data": {
      "application/vnd.jupyter.widget-view+json": {
       "model_id": "",
       "version_major": 2,
       "version_minor": 0
      },
      "text/plain": [
       "0 tables [00:00, ? tables/s]"
      ]
     },
     "metadata": {},
     "output_type": "display_data"
    },
    {
     "name": "stdout",
     "output_type": "stream",
     "text": [
      "Dataset parquet downloaded and prepared to /tf/data/cache/HF/datasets/cakiki___parquet/cakiki--rosetta-code-495596fe3afff1d5/0.0.0/7328ef7ee03eaf3f86ae40594d46a1cec86161704e02dd19f232d81eee72ade8. Subsequent calls will reuse this data.\n"
     ]
    }
   ],
   "source": [
    "rosetta = load_dataset('cakiki/rosetta-code', split='train')"
   ]
  },
  {
   "cell_type": "code",
   "execution_count": 96,
   "metadata": {},
   "outputs": [],
   "source": [
    "r = rosetta.to_pandas()"
   ]
  },
  {
   "cell_type": "code",
   "execution_count": 100,
   "metadata": {},
   "outputs": [
    {
     "data": {
      "text/plain": [
       "Phix      1181\n",
       "Julia     1179\n",
       "Wren      1177\n",
       "Go        1172\n",
       "Raku      1168\n",
       "Perl      1147\n",
       "Python    1139\n",
       "Nim       1137\n",
       "J         1038\n",
       "C         1024\n",
       "Name: language_name, dtype: int64"
      ]
     },
     "execution_count": 100,
     "metadata": {},
     "output_type": "execute_result"
    }
   ],
   "source": []
  },
  {
   "cell_type": "code",
   "execution_count": 102,
   "metadata": {},
   "outputs": [
    {
     "name": "stderr",
     "output_type": "stream",
     "text": [
      "Loading cached processed dataset at /tf/data/cache/HF/datasets/cakiki___parquet/cakiki--rosetta-code-495596fe3afff1d5/0.0.0/7328ef7ee03eaf3f86ae40594d46a1cec86161704e02dd19f232d81eee72ade8/cache-6a00c7086ca98b21.arrow\n"
     ]
    }
   ],
   "source": [
    "rosetta_python = rosetta.filter(lambda x: x['language_name']=='Python')"
   ]
  },
  {
   "cell_type": "code",
   "execution_count": 119,
   "metadata": {
    "scrolled": false
   },
   "outputs": [
    {
     "data": {
      "application/vnd.jupyter.widget-view+json": {
       "model_id": "a7d7222abca840b698b92260fe6a894a",
       "version_major": 2,
       "version_minor": 0
      },
      "text/plain": [
       "  0%|          | 0/2 [00:00<?, ?ba/s]"
      ]
     },
     "metadata": {},
     "output_type": "display_data"
    },
    {
     "data": {
      "text/plain": [
       "{'task_url': ['http://rosettacode.org/wiki/Array_length',\n",
       "  'http://rosettacode.org/wiki/Arbitrary-precision_integers_(included)',\n",
       "  'http://rosettacode.org/wiki/Write_entire_file',\n",
       "  'http://rosettacode.org/wiki/Walk_a_directory/Non-recursively',\n",
       "  'http://rosettacode.org/wiki/Variadic_function',\n",
       "  'http://rosettacode.org/wiki/URL_encoding',\n",
       "  'http://rosettacode.org/wiki/User_input/Text',\n",
       "  'http://rosettacode.org/wiki/Tokenize_a_string',\n",
       "  'http://rosettacode.org/wiki/Terminal_control/Ringing_the_terminal_bell',\n",
       "  'http://rosettacode.org/wiki/Terminal_control/Hiding_the_cursor',\n",
       "  'http://rosettacode.org/wiki/Terminal_control/Inverse_video',\n",
       "  'http://rosettacode.org/wiki/Terminal_control/Display_an_extended_character',\n",
       "  'http://rosettacode.org/wiki/Terminal_control/Cursor_positioning',\n",
       "  'http://rosettacode.org/wiki/Terminal_control/Clear_the_screen',\n",
       "  'http://rosettacode.org/wiki/System_time',\n",
       "  'http://rosettacode.org/wiki/Strip_control_codes_and_extended_characters_from_a_string',\n",
       "  'http://rosettacode.org/wiki/Substring/Top_and_tail',\n",
       "  'http://rosettacode.org/wiki/Sum_of_a_series',\n",
       "  'http://rosettacode.org/wiki/String_length',\n",
       "  'http://rosettacode.org/wiki/Special_variables',\n",
       "  'http://rosettacode.org/wiki/Sort_numbers_lexicographically',\n",
       "  'http://rosettacode.org/wiki/Sort_an_array_of_composite_structures',\n",
       "  'http://rosettacode.org/wiki/Sort_an_integer_array',\n",
       "  'http://rosettacode.org/wiki/Singly-linked_list/Traversal',\n",
       "  'http://rosettacode.org/wiki/Shell_one-liner',\n",
       "  'http://rosettacode.org/wiki/Repunit_primes',\n",
       "  'http://rosettacode.org/wiki/Roman_numerals/Encode',\n",
       "  'http://rosettacode.org/wiki/Return_multiple_values',\n",
       "  'http://rosettacode.org/wiki/Read_entire_file',\n",
       "  'http://rosettacode.org/wiki/Repeat_a_string',\n",
       "  'http://rosettacode.org/wiki/Remove_duplicate_elements',\n",
       "  'http://rosettacode.org/wiki/Random_number_generator_(device)',\n",
       "  'http://rosettacode.org/wiki/Reverse_a_string',\n",
       "  'http://rosettacode.org/wiki/Random_numbers',\n",
       "  'http://rosettacode.org/wiki/Read_a_file_line_by_line',\n",
       "  'http://rosettacode.org/wiki/Quine',\n",
       "  'http://rosettacode.org/wiki/Program_termination',\n",
       "  'http://rosettacode.org/wiki/Primality_by_trial_division',\n",
       "  'http://rosettacode.org/wiki/Pick_random_element',\n",
       "  'http://rosettacode.org/wiki/Permutations',\n",
       "  'http://rosettacode.org/wiki/Palindrome_detection',\n",
       "  'http://rosettacode.org/wiki/Order_two_numerical_lists',\n",
       "  'http://rosettacode.org/wiki/Non-decimal_radices/Output',\n",
       "  'http://rosettacode.org/wiki/Non-decimal_radices/Convert',\n",
       "  'http://rosettacode.org/wiki/Multiple_distinct_objects',\n",
       "  'http://rosettacode.org/wiki/Munchausen_numbers',\n",
       "  'http://rosettacode.org/wiki/MD4',\n",
       "  'http://rosettacode.org/wiki/Loops/Foreach',\n",
       "  'http://rosettacode.org/wiki/Loops/N_plus_one_half',\n",
       "  'http://rosettacode.org/wiki/Loops/Downward_for',\n",
       "  'http://rosettacode.org/wiki/Loops/Infinite',\n",
       "  'http://rosettacode.org/wiki/Loops/For_with_a_specified_step',\n",
       "  'http://rosettacode.org/wiki/Long_multiplication',\n",
       "  'http://rosettacode.org/wiki/List_comprehensions',\n",
       "  'http://rosettacode.org/wiki/Leap_year',\n",
       "  'http://rosettacode.org/wiki/Inverted_syntax',\n",
       "  'http://rosettacode.org/wiki/Inheritance/Multiple',\n",
       "  'http://rosettacode.org/wiki/Infinity',\n",
       "  'http://rosettacode.org/wiki/Input_loop',\n",
       "  'http://rosettacode.org/wiki/Include_a_file',\n",
       "  'http://rosettacode.org/wiki/Increment_a_numerical_string',\n",
       "  'http://rosettacode.org/wiki/HTTPS',\n",
       "  'http://rosettacode.org/wiki/Hostname',\n",
       "  'http://rosettacode.org/wiki/Hello_world/Standard_error',\n",
       "  'http://rosettacode.org/wiki/Hello_world/Line_printer',\n",
       "  'http://rosettacode.org/wiki/Halt_and_catch_fire',\n",
       "  'http://rosettacode.org/wiki/Hello_world/Newbie',\n",
       "  'http://rosettacode.org/wiki/Hello_world/Newline_omission',\n",
       "  'http://rosettacode.org/wiki/Hash_from_two_arrays',\n",
       "  'http://rosettacode.org/wiki/Greatest_element_of_a_list',\n",
       "  'http://rosettacode.org/wiki/Generic_swap',\n",
       "  'http://rosettacode.org/wiki/Greatest_common_divisor',\n",
       "  'http://rosettacode.org/wiki/Hello_world/Text',\n",
       "  'http://rosettacode.org/wiki/Function_composition',\n",
       "  'http://rosettacode.org/wiki/Function_definition',\n",
       "  'http://rosettacode.org/wiki/Find_limit_of_recursion',\n",
       "  'http://rosettacode.org/wiki/File_input/output',\n",
       "  'http://rosettacode.org/wiki/Factors_of_an_integer',\n",
       "  'http://rosettacode.org/wiki/Extensible_prime_generator',\n",
       "  'http://rosettacode.org/wiki/Execute_a_system_command',\n",
       "  'http://rosettacode.org/wiki/Euler%27s_identity',\n",
       "  'http://rosettacode.org/wiki/Environment_variables',\n",
       "  'http://rosettacode.org/wiki/Factorial',\n",
       "  'http://rosettacode.org/wiki/Empty_program',\n",
       "  'http://rosettacode.org/wiki/Deepcopy',\n",
       "  'http://rosettacode.org/wiki/Create_a_file_on_magnetic_tape',\n",
       "  'http://rosettacode.org/wiki/Day_of_the_week',\n",
       "  'http://rosettacode.org/wiki/Count_in_octal',\n",
       "  'http://rosettacode.org/wiki/Copy_stdin_to_stdout',\n",
       "  'http://rosettacode.org/wiki/Comments',\n",
       "  'http://rosettacode.org/wiki/Combinations',\n",
       "  'http://rosettacode.org/wiki/Character_codes',\n",
       "  'http://rosettacode.org/wiki/Add_a_variable_to_a_class_instance_at_runtime',\n",
       "  'http://rosettacode.org/wiki/Address_of_a_variable',\n",
       "  'http://rosettacode.org/wiki/Ackermann_function'],\n",
       " 'task_name': ['Array length',\n",
       "  'Arbitrary-precision integers (included)',\n",
       "  'Write entire file',\n",
       "  'Walk a directory/Non-recursively',\n",
       "  'Variadic function',\n",
       "  'URL encoding',\n",
       "  'User input/Text',\n",
       "  'Tokenize a string',\n",
       "  'Terminal control/Ringing the terminal bell',\n",
       "  'Terminal control/Hiding the cursor',\n",
       "  'Terminal control/Inverse video',\n",
       "  'Terminal control/Display an extended character',\n",
       "  'Terminal control/Cursor positioning',\n",
       "  'Terminal control/Clear the screen',\n",
       "  'System time',\n",
       "  'Strip control codes and extended characters from a string',\n",
       "  'Substring/Top and tail',\n",
       "  'Sum of a series',\n",
       "  'String length',\n",
       "  'Special variables',\n",
       "  'Sort numbers lexicographically',\n",
       "  'Sort an array of composite structures',\n",
       "  'Sort an integer array',\n",
       "  'Singly-linked list/Traversal',\n",
       "  'Shell one-liner',\n",
       "  'Repunit primes',\n",
       "  'Roman numerals/Encode',\n",
       "  'Return multiple values',\n",
       "  'Read entire file',\n",
       "  'Repeat a string',\n",
       "  'Remove duplicate elements',\n",
       "  'Random number generator (device)',\n",
       "  'Reverse a string',\n",
       "  'Random numbers',\n",
       "  'Read a file line by line',\n",
       "  'Quine',\n",
       "  'Program termination',\n",
       "  'Primality by trial division',\n",
       "  'Pick random element',\n",
       "  'Permutations',\n",
       "  'Palindrome detection',\n",
       "  'Order two numerical lists',\n",
       "  'Non-decimal radices/Output',\n",
       "  'Non-decimal radices/Convert',\n",
       "  'Multiple distinct objects',\n",
       "  'Munchausen numbers',\n",
       "  'MD4',\n",
       "  'Loops/Foreach',\n",
       "  'Loops/N plus one half',\n",
       "  'Loops/Downward for',\n",
       "  'Loops/Infinite',\n",
       "  'Loops/For with a specified step',\n",
       "  'Long multiplication',\n",
       "  'List comprehensions',\n",
       "  'Leap year',\n",
       "  'Inverted syntax',\n",
       "  'Inheritance/Multiple',\n",
       "  'Infinity',\n",
       "  'Input loop',\n",
       "  'Include a file',\n",
       "  'Increment a numerical string',\n",
       "  'HTTPS',\n",
       "  'Hostname',\n",
       "  'Hello world/Standard error',\n",
       "  'Hello world/Line printer',\n",
       "  'Halt and catch fire',\n",
       "  'Hello world/Newbie',\n",
       "  'Hello world/Newline omission',\n",
       "  'Hash from two arrays',\n",
       "  'Greatest element of a list',\n",
       "  'Generic swap',\n",
       "  'Greatest common divisor',\n",
       "  'Hello world/Text',\n",
       "  'Function composition',\n",
       "  'Function definition',\n",
       "  'Find limit of recursion',\n",
       "  'File input/output',\n",
       "  'Factors of an integer',\n",
       "  'Extensible prime generator',\n",
       "  'Execute a system command',\n",
       "  \"Euler's identity\",\n",
       "  'Environment variables',\n",
       "  'Factorial',\n",
       "  'Empty program',\n",
       "  'Deepcopy',\n",
       "  'Create a file on magnetic tape',\n",
       "  'Day of the week',\n",
       "  'Count in octal',\n",
       "  'Copy stdin to stdout',\n",
       "  'Comments',\n",
       "  'Combinations',\n",
       "  'Character codes',\n",
       "  'Add a variable to a class instance at runtime',\n",
       "  'Address of a variable',\n",
       "  'Ackermann function'],\n",
       " 'task_description': ['Task\\n\\nDetermine the amount of elements in an array.\\n\\n\\n\\nAs an example use an array holding the strings \\'apple\\' and \\'orange\\'.\\n\\n\\n\\n\\nOther tasks related to string operations:\\n\\nMetrics\\n Array length\\n String length\\n Copy a string\\n Empty string \\xa0(assignment)\\nCounting\\n Word frequency\\n Letter frequency\\n Jewels and stones\\n I before E except after C\\n Bioinformatics/base count\\n Count occurrences of a substring\\n Count how many vowels and consonants occur in a string\\nRemove/replace\\n XXXX redacted\\n Conjugate a Latin verb\\n Remove vowels from a string\\n String interpolation (included)\\n Strip block comments\\n Strip comments from a string\\n Strip a set of characters from a string\\n Strip whitespace from a string -- top and tail\\n Strip control codes and extended characters from a string\\nAnagrams/Derangements/shuffling\\n Word wheel\\n ABC problem\\n Sattolo cycle\\n Knuth shuffle\\n Ordered words\\n Superpermutation minimisation\\n Textonyms (using a phone text pad)\\n Anagrams\\n Anagrams/Deranged anagrams\\n Permutations/Derangements\\nFind/Search/Determine\\n ABC words\\n Odd words\\n Word ladder\\n Semordnilap\\n Word search\\n Wordiff \\xa0(game)\\n String matching\\n Tea cup rim text\\n Alternade words\\n Changeable words\\n State name puzzle\\n String comparison\\n Unique characters\\n Unique characters in each string\\n Extract file extension\\n Levenshtein distance\\n Palindrome detection\\n Common list elements\\n Longest common suffix\\n Longest common prefix\\n Compare a list of strings \\n Longest common substring\\n Find common directory path\\n Words from neighbour ones\\n Change e letters to i in words\\n Non-continuous subsequences\\n Longest common subsequence\\n Longest palindromic substrings\\n Longest increasing subsequence\\n Words containing \"the\" substring\\n Sum of the digits of n is substring of n\\n Determine if a string is numeric\\n Determine if a string is collapsible\\n Determine if a string is squeezable\\n Determine if a string has all unique characters\\n Determine if a string has all the same characters\\n Longest substrings without repeating characters\\n Find words which contains all the vowels\\n Find words which contains most consonants\\n Find words which contains more than 3 vowels\\n Find words which first and last three letters are equals\\n Find words which odd letters are consonants and even letters are vowels or vice_versa\\nFormatting\\n Substring\\n Rep-string\\n Word wrap\\n String case\\n Align columns\\n Literals/String\\n Repeat a string\\n Brace expansion\\n Brace expansion using ranges\\n Reverse a string\\n Phrase reversals\\n Comma quibbling\\n Special characters\\n String concatenation\\n Substring/Top and tail\\n Commatizing numbers\\n Reverse words in a string\\n Suffixation of decimal numbers\\n Long literals, with continuations \\n Numerical and alphabetical suffixes\\n Abbreviations, easy\\n Abbreviations, simple\\n Abbreviations, automatic\\nSong lyrics/poems/Mad Libs/phrases\\n Mad Libs\\n Magic 8-ball\\n 99 Bottles of Beer\\n The Name Game (a song)\\n The Old lady swallowed a fly\\n The Twelve Days of Christmas\\nTokenize\\n Text between\\n Tokenize a string\\n Word break problem\\n Tokenize a string with escaping\\n Split a character string based on change of character\\nSequences\\n Show ASCII table\\n De Bruijn sequences\\n Self-referential sequences\\n Generate lower case ASCII alphabet\\n\\n\\n\\n',\n",
       "  'Using the in-built capabilities of your language, calculate the integer value of:\\n\\n        \\n  \\n    \\n      \\n        \\n          5\\n          \\n            \\n              4\\n              \\n                \\n                  3\\n                  \\n                    2\\n                  \\n                \\n              \\n            \\n          \\n        \\n      \\n    \\n    {\\\\displaystyle 5^{4^{3^{2}}}}\\n  \\n\\n\\n Confirm that the first and last twenty digits of the answer are: \\n     62060698786608744707...92256259918212890625\\n\\n Find and show the number of decimal digits in the answer.\\n\\n\\nNote: Do not submit an implementation of arbitrary precision arithmetic. The intention is to show the capabilities of the language as supplied. If a language has a single, overwhelming, library of varied modules that is endorsed by its home site – such as CPAN for Perl or Boost for C++ – then that may be used instead.\\nStrictly speaking, this should not be solved by fixed-precision numeric libraries where the precision has to be manually set to a large value; although if this is the only recourse then it may be used with a note explaining that the precision must be set manually to a large enough value.\\n\\n\\nRelated tasks\\n\\n \\xa0 Long multiplication\\n \\xa0 Exponentiation order\\n \\xa0 exponentiation operator\\n \\xa0 Exponentiation with infix operators in (or operating on) the base\\n\\n',\n",
       "  'Task\\n\\n(Over)write a file so that it contains a string.\\n\\n\\n\\nThe reverse of Read entire file—for when you want to update or create a file which you would read in its entirety all at once.\\n\\n\\n\\n',\n",
       "  'Task\\n\\nWalk a given directory and print the names of files matching a given pattern.\\n\\n(How is \"pattern\" defined? substring match? DOS pattern? BASH pattern? ZSH pattern? Perl regular expression?)\\n\\n\\nNote: This task is for non-recursive methods. \\xa0 These tasks should read a single directory, not an entire directory tree.\\n\\nNote: Please be careful when running any code presented here.\\n\\n\\n\\nRelated task\\n\\n \\xa0 Walk Directory Tree \\xa0 (read entire directory tree). \\n\\n',\n",
       "  'Task\\n\\nCreate a function which takes in a variable number of arguments and prints each one on its own line.\\n\\nAlso show, if possible in your language, how to call the function on a list of arguments constructed at runtime.\\n\\n\\n\\nFunctions of this type are also known as Variadic Functions.\\n\\n\\n\\nRelated task\\n\\n \\xa0 Call a function\\n\\n',\n",
       "  'Task\\n\\nProvide a function or mechanism to convert a provided string into URL encoding representation.\\n\\nIn URL encoding, special characters, control characters and extended characters\\nare converted into a percent symbol followed by a two digit hexadecimal code,\\nSo a space character encodes into\\xa0%20 within the string.\\n\\nFor the purposes of this task, every character except 0-9, A-Z and a-z requires conversion, so the following characters all require conversion by default:\\n\\n ASCII control codes (Character ranges 00-1F hex (0-31 decimal) and 7F (127 decimal).\\n ASCII symbols (Character ranges 32-47 decimal (20-2F hex))\\n ASCII symbols (Character ranges 58-64 decimal (3A-40 hex))\\n ASCII symbols (Character ranges 91-96 decimal (5B-60 hex))\\n ASCII symbols (Character ranges 123-126 decimal (7B-7E hex))\\n Extended characters with character codes of 128 decimal (80 hex) and above.\\n\\n\\nExample\\n\\nThe string \"http://foo bar/\" would be encoded as \"http%3A%2F%2Ffoo%20bar%2F\".\\n\\n\\n\\nVariations\\n\\n Lowercase escapes are legal, as in \"http%3a%2f%2ffoo%20bar%2f\".\\n Some standards give different rules: RFC 3986, Uniform Resource Identifier (URI): Generic Syntax, section 2.3, says that \"-._~\" should not be encoded. HTML 5, section 4.10.22.5 URL-encoded form data, says to preserve \"-._*\", and to encode space \" \" to \"+\". The options below provide for utilization of an exception string, enabling preservation (non encoding) of particular characters to meet specific standards.\\n\\n\\nOptions\\n\\nIt is permissible to use an exception string (containing a set of symbols\\nthat do not need to be converted).\\nHowever, this is an optional feature and is not a requirement of this task.\\n\\n\\n\\nRelated tasks\\n \\n \\xa0 URL decoding\\n \\xa0 URL parser\\n\\n',\n",
       "  \"User input/Text is part of Short Circuit's Console Program Basics selection.\\nTask\\n \\nInput a string and the integer \\xa0 75000 \\xa0 from the text console.\\n\\nSee also: User input/Graphical\\n\",\n",
       "  'Separate the string \"Hello,How,Are,You,Today\" by commas into an array (or list) so that each element of it stores a different word.\\n\\nDisplay the words to the \\'user\\', in the simplest manner possible, separated by a period.\\n\\nTo simplify, you may display a trailing period.\\n\\n\\n\\n\\nOther tasks related to string operations:\\n\\nMetrics\\n Array length\\n String length\\n Copy a string\\n Empty string \\xa0(assignment)\\nCounting\\n Word frequency\\n Letter frequency\\n Jewels and stones\\n I before E except after C\\n Bioinformatics/base count\\n Count occurrences of a substring\\n Count how many vowels and consonants occur in a string\\nRemove/replace\\n XXXX redacted\\n Conjugate a Latin verb\\n Remove vowels from a string\\n String interpolation (included)\\n Strip block comments\\n Strip comments from a string\\n Strip a set of characters from a string\\n Strip whitespace from a string -- top and tail\\n Strip control codes and extended characters from a string\\nAnagrams/Derangements/shuffling\\n Word wheel\\n ABC problem\\n Sattolo cycle\\n Knuth shuffle\\n Ordered words\\n Superpermutation minimisation\\n Textonyms (using a phone text pad)\\n Anagrams\\n Anagrams/Deranged anagrams\\n Permutations/Derangements\\nFind/Search/Determine\\n ABC words\\n Odd words\\n Word ladder\\n Semordnilap\\n Word search\\n Wordiff \\xa0(game)\\n String matching\\n Tea cup rim text\\n Alternade words\\n Changeable words\\n State name puzzle\\n String comparison\\n Unique characters\\n Unique characters in each string\\n Extract file extension\\n Levenshtein distance\\n Palindrome detection\\n Common list elements\\n Longest common suffix\\n Longest common prefix\\n Compare a list of strings \\n Longest common substring\\n Find common directory path\\n Words from neighbour ones\\n Change e letters to i in words\\n Non-continuous subsequences\\n Longest common subsequence\\n Longest palindromic substrings\\n Longest increasing subsequence\\n Words containing \"the\" substring\\n Sum of the digits of n is substring of n\\n Determine if a string is numeric\\n Determine if a string is collapsible\\n Determine if a string is squeezable\\n Determine if a string has all unique characters\\n Determine if a string has all the same characters\\n Longest substrings without repeating characters\\n Find words which contains all the vowels\\n Find words which contains most consonants\\n Find words which contains more than 3 vowels\\n Find words which first and last three letters are equals\\n Find words which odd letters are consonants and even letters are vowels or vice_versa\\nFormatting\\n Substring\\n Rep-string\\n Word wrap\\n String case\\n Align columns\\n Literals/String\\n Repeat a string\\n Brace expansion\\n Brace expansion using ranges\\n Reverse a string\\n Phrase reversals\\n Comma quibbling\\n Special characters\\n String concatenation\\n Substring/Top and tail\\n Commatizing numbers\\n Reverse words in a string\\n Suffixation of decimal numbers\\n Long literals, with continuations \\n Numerical and alphabetical suffixes\\n Abbreviations, easy\\n Abbreviations, simple\\n Abbreviations, automatic\\nSong lyrics/poems/Mad Libs/phrases\\n Mad Libs\\n Magic 8-ball\\n 99 Bottles of Beer\\n The Name Game (a song)\\n The Old lady swallowed a fly\\n The Twelve Days of Christmas\\nTokenize\\n Text between\\n Tokenize a string\\n Word break problem\\n Tokenize a string with escaping\\n Split a character string based on change of character\\nSequences\\n Show ASCII table\\n De Bruijn sequences\\n Self-referential sequences\\n Generate lower case ASCII alphabet\\n\\n\\n\\n',\n",
       "  '\\n\\nTask\\n\\nMake the terminal running the program ring its \"bell\".\\n\\n\\n\\nOn modern terminal emulators, this may be done by playing some other sound which might or might not be configurable, or by flashing the title bar or inverting the colors of the screen, but was classically a physical bell within the terminal. \\xa0 It is usually used to indicate a problem where a wrong character has been typed.\\n\\nIn most terminals, if the \\xa0 Bell character \\xa0 (ASCII code 7, \\xa0  \\\\a  in C) \\xa0 is printed by the program, it will cause the terminal to ring its bell. \\xa0 This is a function of the terminal, and is independent of the programming language of the program, other than the ability to print a particular character to standard out.\\n\\n\\n\\n',\n",
       "  'The task is to hide the cursor and show it again.\\n\\n\\n\\n',\n",
       "  'Task\\n\\nDisplay a word in inverse video \\xa0 (or reverse video) \\xa0 followed by a word in normal video.\\n\\n\\n\\n',\n",
       "  'Task\\n\\nDisplay an extended (non ASCII) character onto the terminal.\\n\\nSpecifically, display a \\xa0  £  \\xa0 (GBP currency sign).\\n\\n\\n\\n',\n",
       "  '\\n\\nTask\\n\\nMove the cursor to column \\xa0 3, \\xa0 row \\xa0 6, \\xa0 and display the word \\xa0 \"Hello\" \\xa0 (without the quotes), \\xa0 so that the letter \\xa0 H \\xa0 is in column \\xa0 3 \\xa0 on row \\xa0 6.\\n\\n\\n\\n',\n",
       "  'Task\\n\\nClear the terminal window.\\n\\n\\n\\n',\n",
       "  'Task\\n\\nOutput the system time \\xa0 (any units will do as long as they are noted) either by a system command or one built into the language.\\n\\nThe system time can be used for debugging, network information, random number seeds, or something as simple as program performance.\\n\\n\\n\\nRelated task\\n\\n \\xa0 Date format\\n\\n\\nSee also\\n\\n \\xa0 Retrieving system time (wiki)\\n\\n',\n",
       "  'Task\\n\\nStrip control codes and extended characters from a string.\\n\\n\\n\\nThe solution should demonstrate how to achieve each of the following results:\\n\\n \\xa0 a string with control codes stripped (but extended characters not stripped)\\n \\xa0 a string with control codes and extended characters stripped\\n\\n\\nIn ASCII, the control codes have decimal codes 0 through to 31 and 127.\\n\\nOn an ASCII based system, if the control codes are stripped, the resultant string would have all of its characters within the range of 32 to 126 decimal on the ASCII table.\\n\\nOn a non-ASCII based system, we consider characters that do not have a corresponding glyph on the ASCII table (within the ASCII range of 32 to 126 decimal) to be an extended character for the purpose of this task.\\n\\n\\nOther tasks related to string operations:\\n\\nMetrics\\n Array length\\n String length\\n Copy a string\\n Empty string \\xa0(assignment)\\nCounting\\n Word frequency\\n Letter frequency\\n Jewels and stones\\n I before E except after C\\n Bioinformatics/base count\\n Count occurrences of a substring\\n Count how many vowels and consonants occur in a string\\nRemove/replace\\n XXXX redacted\\n Conjugate a Latin verb\\n Remove vowels from a string\\n String interpolation (included)\\n Strip block comments\\n Strip comments from a string\\n Strip a set of characters from a string\\n Strip whitespace from a string -- top and tail\\n Strip control codes and extended characters from a string\\nAnagrams/Derangements/shuffling\\n Word wheel\\n ABC problem\\n Sattolo cycle\\n Knuth shuffle\\n Ordered words\\n Superpermutation minimisation\\n Textonyms  (using a phone text pad)\\n Anagrams\\n Anagrams/Deranged anagrams\\n Permutations/Derangements\\nFind/Search/Determine\\n ABC words\\n Odd words\\n Word ladder\\n Semordnilap\\n Word search\\n Wordiff \\xa0(game)\\n String matching\\n Tea cup rim text\\n Alternade words\\n Changeable words\\n State name puzzle\\n String comparison\\n Unique characters\\n Unique characters in each string\\n Extract file extension\\n Levenshtein distance\\n Palindrome detection\\n Common list elements\\n Longest common suffix\\n Longest common prefix\\n Compare a list of strings \\n Longest common substring\\n Find common directory path\\n Words from neighbour ones\\n Change e letters to i in words\\n Non-continuous subsequences\\n Longest common subsequence\\n Longest palindromic substrings\\n Longest increasing subsequence\\n Words containing \"the\" substring\\n Sum of the digits of n is substring of n\\n Determine if a string is numeric\\n Determine if a string is collapsible\\n Determine if a string is squeezable\\n Determine if a string has all unique characters\\n Determine if a string has all the same characters\\n Longest substrings without repeating characters\\n Find words which contains all the vowels\\n Find words which contains most consonants\\n Find words which contains more than 3 vowels\\n Find words which first and last three letters are equals\\n Find words which odd letters are consonants and even letters are vowels or vice_versa\\nFormatting\\n Substring\\n Rep-string\\n Word wrap\\n String case\\n Align columns\\n Literals/String\\n Repeat a string\\n Brace expansion\\n Brace expansion using ranges\\n Reverse a string\\n Phrase reversals\\n Comma quibbling\\n Special characters\\n String concatenation\\n Substring/Top and tail\\n Commatizing numbers\\n Reverse words in a string\\n Suffixation of decimal numbers\\n Long literals, with continuations \\n Numerical and alphabetical suffixes\\n Abbreviations, easy\\n Abbreviations, simple\\n Abbreviations, automatic\\nSong lyrics/poems/Mad Libs/phrases\\n Mad Libs\\n Magic 8-ball\\n 99 Bottles of Beer\\n The Name Game (a song)\\n The Old lady swallowed a fly\\n The Twelve Days of Christmas\\nTokenize\\n Text between\\n Tokenize a string\\n Word break problem\\n Tokenize a string with escaping\\n Split a character string based on change of character\\nSequences\\n Show ASCII table\\n De Bruijn sequences\\n Self-referential sequences\\n Generate lower case ASCII alphabet\\n\\n\\n\\n',\n",
       "  'The task is to demonstrate how to remove the first and last characters from a string.\\n\\nThe solution should demonstrate how to obtain the following results:\\n\\n String with first character removed\\n String with last character removed\\n String with both the first and last characters removed\\n\\n\\nIf the program uses UTF-8 or UTF-16, it must work on any valid Unicode code point, whether in the Basic Multilingual Plane or above it.\\n\\nThe program must reference logical characters (code points), not 8-bit code units for UTF-8 or 16-bit code units for UTF-16.\\n\\nPrograms for other encodings (such as 8-bit ASCII, or EUC-JP) are not required to handle all Unicode characters.\\n\\n\\n\\n\\nOther tasks related to string operations:\\n\\nMetrics\\n Array length\\n String length\\n Copy a string\\n Empty string \\xa0(assignment)\\nCounting\\n Word frequency\\n Letter frequency\\n Jewels and stones\\n I before E except after C\\n Bioinformatics/base count\\n Count occurrences of a substring\\n Count how many vowels and consonants occur in a string\\nRemove/replace\\n XXXX redacted\\n Conjugate a Latin verb\\n Remove vowels from a string\\n String interpolation (included)\\n Strip block comments\\n Strip comments from a string\\n Strip a set of characters from a string\\n Strip whitespace from a string -- top and tail\\n Strip control codes and extended characters from a string\\nAnagrams/Derangements/shuffling\\n Word wheel\\n ABC problem\\n Sattolo cycle\\n Knuth shuffle\\n Ordered words\\n Superpermutation minimisation\\n Textonyms (using a phone text pad)\\n Anagrams\\n Anagrams/Deranged anagrams\\n Permutations/Derangements\\nFind/Search/Determine\\n ABC words\\n Odd words\\n Word ladder\\n Semordnilap\\n Word search\\n Wordiff \\xa0(game)\\n String matching\\n Tea cup rim text\\n Alternade words\\n Changeable words\\n State name puzzle\\n String comparison\\n Unique characters\\n Unique characters in each string\\n Extract file extension\\n Levenshtein distance\\n Palindrome detection\\n Common list elements\\n Longest common suffix\\n Longest common prefix\\n Compare a list of strings \\n Longest common substring\\n Find common directory path\\n Words from neighbour ones\\n Change e letters to i in words\\n Non-continuous subsequences\\n Longest common subsequence\\n Longest palindromic substrings\\n Longest increasing subsequence\\n Words containing \"the\" substring\\n Sum of the digits of n is substring of n\\n Determine if a string is numeric\\n Determine if a string is collapsible\\n Determine if a string is squeezable\\n Determine if a string has all unique characters\\n Determine if a string has all the same characters\\n Longest substrings without repeating characters\\n Find words which contains all the vowels\\n Find words which contains most consonants\\n Find words which contains more than 3 vowels\\n Find words which first and last three letters are equals\\n Find words which odd letters are consonants and even letters are vowels or vice_versa\\nFormatting\\n Substring\\n Rep-string\\n Word wrap\\n String case\\n Align columns\\n Literals/String\\n Repeat a string\\n Brace expansion\\n Brace expansion using ranges\\n Reverse a string\\n Phrase reversals\\n Comma quibbling\\n Special characters\\n String concatenation\\n Substring/Top and tail\\n Commatizing numbers\\n Reverse words in a string\\n Suffixation of decimal numbers\\n Long literals, with continuations \\n Numerical and alphabetical suffixes\\n Abbreviations, easy\\n Abbreviations, simple\\n Abbreviations, automatic\\nSong lyrics/poems/Mad Libs/phrases\\n Mad Libs\\n Magic 8-ball\\n 99 Bottles of Beer\\n The Name Game (a song)\\n The Old lady swallowed a fly\\n The Twelve Days of Christmas\\nTokenize\\n Text between\\n Tokenize a string\\n Word break problem\\n Tokenize a string with escaping\\n Split a character string based on change of character\\nSequences\\n Show ASCII table\\n De Bruijn sequences\\n Self-referential sequences\\n Generate lower case ASCII alphabet\\n\\n\\n\\n',\n",
       "  'Compute the \\xa0 nth \\xa0 term of a series, \\xa0 i.e. the sum of the \\xa0 n \\xa0 first terms of the corresponding sequence.\\n\\nInformally this value, or its limit when \\xa0 n \\xa0 tends to infinity, is also called the sum of the series, thus the title of this task.\\n\\nFor this task, use:\\n\\n \\n\\n\\n\\n\\nS\\n\\nn\\n\\n\\n=\\n\\n∑\\n\\nk\\n=\\n1\\n\\n\\nn\\n\\n\\n\\n\\n1\\n\\nk\\n\\n2\\n\\n\\n\\n\\n\\n\\n{\\\\displaystyle S_{n}=\\\\sum _{k=1}^{n}{\\\\frac {1}{k^{2}}}}\\n\\n\\n\\n\\n and compute \\xa0 \\n\\n\\n\\n\\nS\\n\\n1000\\n\\n\\n\\n\\n{\\\\displaystyle S_{1000}}\\n\\n\\n\\n\\nThis approximates the \\xa0 zeta function \\xa0 for \\xa0 S=2, \\xa0 whose exact value\\n\\n \\n\\n\\n\\nζ\\n(\\n2\\n)\\n=\\n\\n\\n\\nπ\\n\\n2\\n\\n\\n6\\n\\n\\n\\n\\n{\\\\displaystyle \\\\zeta (2)={\\\\pi ^{2} \\\\over 6}}\\n\\n\\nis the solution of the Basel problem.\\n\\n\\n\\n',\n",
       "  'Task\\n\\nFind the character and byte length of a string.\\n\\nThis means encodings like UTF-8 need to be handled properly, as there is not necessarily a one-to-one relationship between bytes and characters.\\n\\nBy character, we mean an individual Unicode code point, not a user-visible grapheme containing combining characters.\\n\\nFor example, the character length of \"møøse\" is 5 but the byte length is 7 in UTF-8 and 10 in UTF-16.\\n\\nNon-BMP code points (those between 0x10000 and 0x10FFFF) must also be handled correctly: answers should produce actual character counts in code points, not in code unit counts.\\n\\nTherefore a string like \"𝔘𝔫𝔦𝔠𝔬𝔡𝔢\" (consisting of the 7 Unicode characters U+1D518 U+1D52B U+1D526 U+1D520 U+1D52C U+1D521 U+1D522) is 7 characters long, not 14 UTF-16 code units; and it is 28 bytes long whether encoded in UTF-8 or in UTF-16.\\n\\nPlease mark your examples with ===Character Length=== or ===Byte Length===.\\n\\nIf your language is capable of providing the string length in graphemes, mark those examples with ===Grapheme Length===.\\n\\nFor example, the string \"J̲o̲s̲é̲\" (\"J\\\\x{332}o\\\\x{332}s\\\\x{332}e\\\\x{301}\\\\x{332}\") has 4 user-visible graphemes, 9 characters (code points), and 14 bytes when encoded in UTF-8.\\n\\n\\n\\n\\n\\nOther tasks related to string operations:\\n\\nMetrics\\n Array length\\n String length\\n Copy a string\\n Empty string \\xa0(assignment)\\nCounting\\n Word frequency\\n Letter frequency\\n Jewels and stones\\n I before E except after C\\n Bioinformatics/base count\\n Count occurrences of a substring\\n Count how many vowels and consonants occur in a string\\nRemove/replace\\n XXXX redacted\\n Conjugate a Latin verb\\n Remove vowels from a string\\n String interpolation (included)\\n Strip block comments\\n Strip comments from a string\\n Strip a set of characters from a string\\n Strip whitespace from a string -- top and tail\\n Strip control codes and extended characters from a string\\nAnagrams/Derangements/shuffling\\n Word wheel\\n ABC problem\\n Sattolo cycle\\n Knuth shuffle\\n Ordered words\\n Superpermutation minimisation\\n Textonyms (using a phone text pad)\\n Anagrams\\n Anagrams/Deranged anagrams\\n Permutations/Derangements\\nFind/Search/Determine\\n ABC words\\n Odd words\\n Word ladder\\n Semordnilap\\n Word search\\n Wordiff \\xa0(game)\\n String matching\\n Tea cup rim text\\n Alternade words\\n Changeable words\\n State name puzzle\\n String comparison\\n Unique characters\\n Unique characters in each string\\n Extract file extension\\n Levenshtein distance\\n Palindrome detection\\n Common list elements\\n Longest common suffix\\n Longest common prefix\\n Compare a list of strings \\n Longest common substring\\n Find common directory path\\n Words from neighbour ones\\n Change e letters to i in words\\n Non-continuous subsequences\\n Longest common subsequence\\n Longest palindromic substrings\\n Longest increasing subsequence\\n Words containing \"the\" substring\\n Sum of the digits of n is substring of n\\n Determine if a string is numeric\\n Determine if a string is collapsible\\n Determine if a string is squeezable\\n Determine if a string has all unique characters\\n Determine if a string has all the same characters\\n Longest substrings without repeating characters\\n Find words which contains all the vowels\\n Find words which contains most consonants\\n Find words which contains more than 3 vowels\\n Find words which first and last three letters are equals\\n Find words which odd letters are consonants and even letters are vowels or vice_versa\\nFormatting\\n Substring\\n Rep-string\\n Word wrap\\n String case\\n Align columns\\n Literals/String\\n Repeat a string\\n Brace expansion\\n Brace expansion using ranges\\n Reverse a string\\n Phrase reversals\\n Comma quibbling\\n Special characters\\n String concatenation\\n Substring/Top and tail\\n Commatizing numbers\\n Reverse words in a string\\n Suffixation of decimal numbers\\n Long literals, with continuations \\n Numerical and alphabetical suffixes\\n Abbreviations, easy\\n Abbreviations, simple\\n Abbreviations, automatic\\nSong lyrics/poems/Mad Libs/phrases\\n Mad Libs\\n Magic 8-ball\\n 99 Bottles of Beer\\n The Name Game (a song)\\n The Old lady swallowed a fly\\n The Twelve Days of Christmas\\nTokenize\\n Text between\\n Tokenize a string\\n Word break problem\\n Tokenize a string with escaping\\n Split a character string based on change of character\\nSequences\\n Show ASCII table\\n De Bruijn sequences\\n Self-referential sequences\\n Generate lower case ASCII alphabet\\n\\n\\n\\n',\n",
       "  'Special variables have a predefined meaning within a computer programming language.\\n\\n\\n\\nTask\\n\\nList the special variables used within the language.\\n\\n\\n\\n',\n",
       "  '\\nSorting Algorithm\\n\\nThis is a sorting algorithm. \\xa0 It may be applied to a set of data in order to sort it. \\xa0 \\xa0\\nFor comparing various sorts, see compare sorts. \\xa0\\nFor other sorting algorithms, \\xa0 see sorting\\xa0algorithms, \\xa0 or:\\n\\nO(n logn) sorts\\nHeap\\xa0sort |\\nMerge\\xa0sort |\\nPatience\\xa0sort |\\nQuick\\xa0sort\\nO(n log2n) sorts\\nShell\\xa0Sort\\nO(n2) sorts\\nBubble\\xa0sort |\\nCocktail\\xa0sort |\\nCocktail\\xa0sort\\xa0with\\xa0shifting\\xa0bounds |\\nComb\\xa0sort |\\nCycle\\xa0sort |\\nGnome\\xa0sort |\\nInsertion\\xa0sort |\\nSelection\\xa0sort |\\nStrand\\xa0sort\\nother sorts\\nBead\\xa0sort |\\nBogo\\xa0sort |\\nCommon\\xa0sorted\\xa0list |\\nComposite\\xa0structures\\xa0sort |\\nCustom\\xa0comparator\\xa0sort |\\nCounting\\xa0sort |\\nDisjoint\\xa0sublist\\xa0sort |\\nExternal\\xa0sort |\\nJort\\xa0sort |\\nLexicographical\\xa0sort |\\nNatural\\xa0sorting |\\nOrder\\xa0by\\xa0pair\\xa0comparisons |\\nOrder\\xa0disjoint\\xa0list\\xa0items |\\nOrder\\xa0two\\xa0numerical\\xa0lists |\\nObject\\xa0identifier\\xa0(OID)\\xa0sort |\\nPancake\\xa0sort |\\nQuickselect |\\nPermutation\\xa0sort |\\nRadix\\xa0sort |\\nRanking\\xa0methods |\\nRemove\\xa0duplicate\\xa0elements |\\nSleep\\xa0sort |\\nStooge\\xa0sort |\\n[Sort\\xa0letters\\xa0of\\xa0a\\xa0string] |\\nThree\\xa0variable\\xa0sort |\\nTopological\\xa0sort |\\nTree\\xa0sort\\n\\n\\nTask\\n\\nGiven an integer \\xa0 n, \\xa0 return \\xa0 1──►n \\xa0 (inclusive) \\xa0 in lexicographical order.\\n\\n\\n\\nShow all output here on this page.\\n\\n\\n\\nExample\\n\\nGiven \\xa0 13,\\n\\nreturn: \\xa0 [1,10,11,12,13,2,3,4,5,6,7,8,9].\\n',\n",
       "  '\\nSorting Algorithm\\n\\nThis is a sorting algorithm. \\xa0 It may be applied to a set of data in order to sort it. \\xa0 \\xa0\\nFor comparing various sorts, see compare sorts. \\xa0\\nFor other sorting algorithms, \\xa0 see sorting\\xa0algorithms, \\xa0 or:\\n\\nO(n logn) sorts\\nHeap\\xa0sort |\\nMerge\\xa0sort |\\nPatience\\xa0sort |\\nQuick\\xa0sort\\nO(n log2n) sorts\\nShell\\xa0Sort\\nO(n2) sorts\\nBubble\\xa0sort |\\nCocktail\\xa0sort |\\nCocktail\\xa0sort\\xa0with\\xa0shifting\\xa0bounds |\\nComb\\xa0sort |\\nCycle\\xa0sort |\\nGnome\\xa0sort |\\nInsertion\\xa0sort |\\nSelection\\xa0sort |\\nStrand\\xa0sort\\nother sorts\\nBead\\xa0sort |\\nBogo\\xa0sort |\\nCommon\\xa0sorted\\xa0list |\\nComposite\\xa0structures\\xa0sort |\\nCustom\\xa0comparator\\xa0sort |\\nCounting\\xa0sort |\\nDisjoint\\xa0sublist\\xa0sort |\\nExternal\\xa0sort |\\nJort\\xa0sort |\\nLexicographical\\xa0sort |\\nNatural\\xa0sorting |\\nOrder\\xa0by\\xa0pair\\xa0comparisons |\\nOrder\\xa0disjoint\\xa0list\\xa0items |\\nOrder\\xa0two\\xa0numerical\\xa0lists |\\nObject\\xa0identifier\\xa0(OID)\\xa0sort |\\nPancake\\xa0sort |\\nQuickselect |\\nPermutation\\xa0sort |\\nRadix\\xa0sort |\\nRanking\\xa0methods |\\nRemove\\xa0duplicate\\xa0elements |\\nSleep\\xa0sort |\\nStooge\\xa0sort |\\n[Sort\\xa0letters\\xa0of\\xa0a\\xa0string] |\\nThree\\xa0variable\\xa0sort |\\nTopological\\xa0sort |\\nTree\\xa0sort\\n\\n\\nSort an array of composite structures by a key.\\n\\n\\n\\nFor example, if you define a composite structure that presents a name-value pair (in pseudo-code):\\n\\nDefine structure pair such that: \\n   name as a string\\n   value as a string\\n\\nand an array of such pairs:\\n\\n   x: array of pairs\\n\\nthen define a sort routine that sorts the array x by the key name.\\n\\nThis task can always be accomplished with Sorting Using a Custom Comparator.\\n\\nIf your language is not listed here, please see the other article.\\n\\n\\n\\n',\n",
       "  '\\nSorting Algorithm\\n\\nThis is a sorting algorithm. \\xa0 It may be applied to a set of data in order to sort it. \\xa0 \\xa0\\nFor comparing various sorts, see compare sorts. \\xa0\\nFor other sorting algorithms, \\xa0 see sorting\\xa0algorithms, \\xa0 or:\\n\\nO(n logn) sorts\\nHeap\\xa0sort |\\nMerge\\xa0sort |\\nPatience\\xa0sort |\\nQuick\\xa0sort\\nO(n log2n) sorts\\nShell\\xa0Sort\\nO(n2) sorts\\nBubble\\xa0sort |\\nCocktail\\xa0sort |\\nCocktail\\xa0sort\\xa0with\\xa0shifting\\xa0bounds |\\nComb\\xa0sort |\\nCycle\\xa0sort |\\nGnome\\xa0sort |\\nInsertion\\xa0sort |\\nSelection\\xa0sort |\\nStrand\\xa0sort\\nother sorts\\nBead\\xa0sort |\\nBogo\\xa0sort |\\nCommon\\xa0sorted\\xa0list |\\nComposite\\xa0structures\\xa0sort |\\nCustom\\xa0comparator\\xa0sort |\\nCounting\\xa0sort |\\nDisjoint\\xa0sublist\\xa0sort |\\nExternal\\xa0sort |\\nJort\\xa0sort |\\nLexicographical\\xa0sort |\\nNatural\\xa0sorting |\\nOrder\\xa0by\\xa0pair\\xa0comparisons |\\nOrder\\xa0disjoint\\xa0list\\xa0items |\\nOrder\\xa0two\\xa0numerical\\xa0lists |\\nObject\\xa0identifier\\xa0(OID)\\xa0sort |\\nPancake\\xa0sort |\\nQuickselect |\\nPermutation\\xa0sort |\\nRadix\\xa0sort |\\nRanking\\xa0methods |\\nRemove\\xa0duplicate\\xa0elements |\\nSleep\\xa0sort |\\nStooge\\xa0sort |\\n[Sort\\xa0letters\\xa0of\\xa0a\\xa0string] |\\nThree\\xa0variable\\xa0sort |\\nTopological\\xa0sort |\\nTree\\xa0sort\\n\\n\\nTask\\n\\nSort an array (or list) of integers in ascending numerical order.\\n\\n\\n\\nUse a sorting facility provided by the language/library if possible.\\n\\n\\n\\n',\n",
       "  'Traverse from the beginning of a singly-linked list to the end.\\n\\n\\n\\nSee also\\n\\n Array\\n Associative array: Creation, Iteration\\n Collections\\n Compound data type\\n Doubly-linked list: Definition, Element definition, Element insertion, List Traversal, Element Removal\\n Linked list\\n Queue: Definition, Usage\\n Set\\n Singly-linked list: Element definition, Element insertion, List Traversal, Element Removal\\n Stack\\n\\n',\n",
       "  'Task\\n\\nShow how to specify and execute a short program in the language from a command shell, where the input to the command shell is only one line in length.\\n\\nAvoid depending on the particular shell or operating system used as much as is reasonable; if the language has notable implementations which have different command argument syntax, or the systems those implementations run on have different styles of shells, it would be good to show multiple examples.\\n\\n\\n\\n',\n",
       "  'Repunit is a portmanteau of the words \"repetition\" and \"unit\", with unit being \"unit value\"... or in laymans terms, 1. So 1, 11, 111, 1111 & 11111 are all repunits.\\n\\nEvery standard integer base has repunits since every base has the digit 1. This task involves finding the repunits in different bases that are prime.\\n\\nIn base two, the repunits 11, 111, 11111, 1111111, etc. are prime. (These correspond to the Mersenne primes.)\\n\\nIn base three: 111, 1111111, 1111111111111, etc.\\n\\nRepunit primes, by definition, are also circular primes.\\n\\nAny repunit in any base having a composite number of digits is necessarily composite. Only repunits (in any base) having a prime number of digits might be prime.\\n\\n\\n\\nRather than expanding the repunit out as a giant list of 1s or converting to base 10, it is common to just list the number of 1s in the repunit; effectively the digit count. The base two repunit primes listed above would be represented as: 2, 3, 5, 7, etc.\\n\\nMany of these sequences exist on OEIS, though they aren\\'t specifically listed as \"repunit prime digits\" sequences.\\n\\nSome bases have very few repunit primes. Bases 4, 8, and likely 16 have only one. Base 9 has none at all. Bases above 16 may have repunit primes as well... but this task is getting large enough already.\\n\\n\\n\\nTask\\n For bases 2 through 16, Find and show, here on this page, the repunit primes as digit counts, up to a limit of 1000.\\n\\n\\nStretch\\n Increase the limit to 2700 (or as high as you have patience for.)\\n\\n\\nSee also\\n Wikipedia: Repunit primes\\n OEIS:A000043 - Mersenne exponents: primes p such that 2^p - 1 is prime. Then 2^p - 1 is called a Mersenne prime (base 2)\\n OEIS:A028491 - Numbers k such that (3^k - 1)/2 is prime (base 3)\\n OEIS:A004061 - Numbers n such that (5^n - 1)/4 is prime (base 5)\\n OEIS:A004062 - Numbers n such that (6^n - 1)/5 is prime (base 6)\\n OEIS:A004063 - Numbers k such that (7^k - 1)/6 is prime (base 7)\\n OEIS:A004023 - Indices of prime repunits: numbers n such that 11...111 (with n 1\\'s) = (10^n - 1)/9 is prime (base 10)\\n OEIS:A005808 - Numbers k such that (11^k - 1)/10 is prime (base 11)\\n OEIS:A004064 - Numbers n such that (12^n - 1)/11 is prime (base 12)\\n OEIS:A016054 - Numbers n such that (13^n - 1)/12 is prime (base 13)\\n OEIS:A006032 - Numbers k such that (14^k - 1)/13 is prime (base 14)\\n OEIS:A006033 - Numbers n such that (15^n - 1)/14 is prime (base 15)\\n Related task: Circular primes\\n\\n',\n",
       "  'Task\\n\\nCreate a function taking a positive integer as its parameter and returning a string containing the Roman numeral representation of that integer. Modern Roman numerals are written by expressing each digit separately, starting with the left most digit and skipping any digit with a value of zero.\\n\\n\\n\\nIn Roman numerals:\\n\\n 1990 is rendered: 1000=M, 900=CM, 90=XC; resulting in MCMXC\\n 2008 is written as 2000=MM, 8=VIII; or MMVIII\\n 1666 uses each Roman symbol in descending order: MDCLXVI\\n\\n',\n",
       "  'Task\\n\\nShow how to return more than one value from a function.\\n\\n\\n\\n',\n",
       "  'Task\\n\\nLoad the entire contents of some text file as a single string variable.\\n\\nIf applicable, discuss: encoding selection, the possibility of memory-mapping.\\n\\nOf course, in practice one should avoid reading an entire file at once\\nif the file is large and the task can be accomplished incrementally instead\\n(in which case check File IO);\\nthis is for those cases where having the entire file is actually what is wanted.\\n\\n\\n\\n',\n",
       "  'Take a string and repeat it some number of times.\\n\\nExample: repeat(\"ha\", 5) \\xa0 => \\xa0 \"hahahahaha\"\\n\\nIf there is a simpler/more efficient way to repeat a single “character” (i.e. creating a string filled with a certain character), you might want to show that as well (i.e. repeat-char(\"*\", 5) => \"*****\").\\n\\n\\n\\n\\nOther tasks related to string operations:\\n\\nMetrics\\n Array length\\n String length\\n Copy a string\\n Empty string \\xa0(assignment)\\nCounting\\n Word frequency\\n Letter frequency\\n Jewels and stones\\n I before E except after C\\n Bioinformatics/base count\\n Count occurrences of a substring\\n Count how many vowels and consonants occur in a string\\nRemove/replace\\n XXXX redacted\\n Conjugate a Latin verb\\n Remove vowels from a string\\n String interpolation (included)\\n Strip block comments\\n Strip comments from a string\\n Strip a set of characters from a string\\n Strip whitespace from a string -- top and tail\\n Strip control codes and extended characters from a string\\nAnagrams/Derangements/shuffling\\n Word wheel\\n ABC problem\\n Sattolo cycle\\n Knuth shuffle\\n Ordered words\\n Superpermutation minimisation\\n Textonyms (using a phone text pad)\\n Anagrams\\n Anagrams/Deranged anagrams\\n Permutations/Derangements\\nFind/Search/Determine\\n ABC words\\n Odd words\\n Word ladder\\n Semordnilap\\n Word search\\n Wordiff \\xa0(game)\\n String matching\\n Tea cup rim text\\n Alternade words\\n Changeable words\\n State name puzzle\\n String comparison\\n Unique characters\\n Unique characters in each string\\n Extract file extension\\n Levenshtein distance\\n Palindrome detection\\n Common list elements\\n Longest common suffix\\n Longest common prefix\\n Compare a list of strings \\n Longest common substring\\n Find common directory path\\n Words from neighbour ones\\n Change e letters to i in words\\n Non-continuous subsequences\\n Longest common subsequence\\n Longest palindromic substrings\\n Longest increasing subsequence\\n Words containing \"the\" substring\\n Sum of the digits of n is substring of n\\n Determine if a string is numeric\\n Determine if a string is collapsible\\n Determine if a string is squeezable\\n Determine if a string has all unique characters\\n Determine if a string has all the same characters\\n Longest substrings without repeating characters\\n Find words which contains all the vowels\\n Find words which contains most consonants\\n Find words which contains more than 3 vowels\\n Find words which first and last three letters are equals\\n Find words which odd letters are consonants and even letters are vowels or vice_versa\\nFormatting\\n Substring\\n Rep-string\\n Word wrap\\n String case\\n Align columns\\n Literals/String\\n Repeat a string\\n Brace expansion\\n Brace expansion using ranges\\n Reverse a string\\n Phrase reversals\\n Comma quibbling\\n Special characters\\n String concatenation\\n Substring/Top and tail\\n Commatizing numbers\\n Reverse words in a string\\n Suffixation of decimal numbers\\n Long literals, with continuations \\n Numerical and alphabetical suffixes\\n Abbreviations, easy\\n Abbreviations, simple\\n Abbreviations, automatic\\nSong lyrics/poems/Mad Libs/phrases\\n Mad Libs\\n Magic 8-ball\\n 99 Bottles of Beer\\n The Name Game (a song)\\n The Old lady swallowed a fly\\n The Twelve Days of Christmas\\nTokenize\\n Text between\\n Tokenize a string\\n Word break problem\\n Tokenize a string with escaping\\n Split a character string based on change of character\\nSequences\\n Show ASCII table\\n De Bruijn sequences\\n Self-referential sequences\\n Generate lower case ASCII alphabet\\n\\n\\n\\n',\n",
       "  '\\nSorting Algorithm\\n\\nThis is a sorting algorithm. \\xa0 It may be applied to a set of data in order to sort it. \\xa0 \\xa0\\nFor comparing various sorts, see compare sorts. \\xa0\\nFor other sorting algorithms, \\xa0 see sorting\\xa0algorithms, \\xa0 or:\\n\\nO(n logn) sorts\\nHeap\\xa0sort |\\nMerge\\xa0sort |\\nPatience\\xa0sort |\\nQuick\\xa0sort\\nO(n log2n) sorts\\nShell\\xa0Sort\\nO(n2) sorts\\nBubble\\xa0sort |\\nCocktail\\xa0sort |\\nCocktail\\xa0sort\\xa0with\\xa0shifting\\xa0bounds |\\nComb\\xa0sort |\\nCycle\\xa0sort |\\nGnome\\xa0sort |\\nInsertion\\xa0sort |\\nSelection\\xa0sort |\\nStrand\\xa0sort\\nother sorts\\nBead\\xa0sort |\\nBogo\\xa0sort |\\nCommon\\xa0sorted\\xa0list |\\nComposite\\xa0structures\\xa0sort |\\nCustom\\xa0comparator\\xa0sort |\\nCounting\\xa0sort |\\nDisjoint\\xa0sublist\\xa0sort |\\nExternal\\xa0sort |\\nJort\\xa0sort |\\nLexicographical\\xa0sort |\\nNatural\\xa0sorting |\\nOrder\\xa0by\\xa0pair\\xa0comparisons |\\nOrder\\xa0disjoint\\xa0list\\xa0items |\\nOrder\\xa0two\\xa0numerical\\xa0lists |\\nObject\\xa0identifier\\xa0(OID)\\xa0sort |\\nPancake\\xa0sort |\\nQuickselect |\\nPermutation\\xa0sort |\\nRadix\\xa0sort |\\nRanking\\xa0methods |\\nRemove\\xa0duplicate\\xa0elements |\\nSleep\\xa0sort |\\nStooge\\xa0sort |\\n[Sort\\xa0letters\\xa0of\\xa0a\\xa0string] |\\nThree\\xa0variable\\xa0sort |\\nTopological\\xa0sort |\\nTree\\xa0sort\\n\\n\\nGiven an Array, derive a sequence of elements in which all duplicates are removed.\\n\\nThere are basically three approaches seen here:\\n\\n Put the elements into a hash table which does not allow duplicates. The complexity is O(n) on average, and O(n2) worst case. This approach requires a hash function for your type (which is compatible with equality), either built-in to your language, or provided by the user.\\n Sort the elements and remove consecutive duplicate elements. The complexity of the best sorting algorithms is O(n log n). This approach requires that your type be \"comparable\", i.e., have an ordering. Putting the elements into a self-balancing binary search tree is a special case of sorting.\\n Go through the list, and for each element, check the rest of the list to see if it appears again, and discard it if it does. The complexity is O(n2). The up-shot is that this always works on any type (provided that you can test for equality).\\n\\n',\n",
       "  'Task\\n\\nIf your system has a means to generate random numbers involving not only a software algorithm \\xa0 (like the /dev/urandom devices in Unix), \\xa0 then:\\n\\nshow how to obtain a random 32-bit number from that mechanism.\\n\\nRelated task\\n Random_number_generator_(included)\\n\\n',\n",
       "  'Task\\n\\nTake a string and reverse it.\\n\\nFor example, \"asdf\" becomes \"fdsa\".\\n\\n\\n\\nExtra credit\\n\\nPreserve Unicode combining characters.\\n\\nFor example, \"as⃝df̅\" becomes \"f̅ds⃝a\", not \"̅fd⃝sa\".\\n\\n\\n\\n\\nOther tasks related to string operations:\\n\\nMetrics\\n Array length\\n String length\\n Copy a string\\n Empty string \\xa0(assignment)\\nCounting\\n Word frequency\\n Letter frequency\\n Jewels and stones\\n I before E except after C\\n Bioinformatics/base count\\n Count occurrences of a substring\\n Count how many vowels and consonants occur in a string\\nRemove/replace\\n XXXX redacted\\n Conjugate a Latin verb\\n Remove vowels from a string\\n String interpolation (included)\\n Strip block comments\\n Strip comments from a string\\n Strip a set of characters from a string\\n Strip whitespace from a string -- top and tail\\n Strip control codes and extended characters from a string\\nAnagrams/Derangements/shuffling\\n Word wheel\\n ABC problem\\n Sattolo cycle\\n Knuth shuffle\\n Ordered words\\n Superpermutation minimisation\\n Textonyms (using a phone text pad)\\n Anagrams\\n Anagrams/Deranged anagrams\\n Permutations/Derangements\\nFind/Search/Determine\\n ABC words\\n Odd words\\n Word ladder\\n Semordnilap\\n Word search\\n Wordiff \\xa0(game)\\n String matching\\n Tea cup rim text\\n Alternade words\\n Changeable words\\n State name puzzle\\n String comparison\\n Unique characters\\n Unique characters in each string\\n Extract file extension\\n Levenshtein distance\\n Palindrome detection\\n Common list elements\\n Longest common suffix\\n Longest common prefix\\n Compare a list of strings \\n Longest common substring\\n Find common directory path\\n Words from neighbour ones\\n Change e letters to i in words\\n Non-continuous subsequences\\n Longest common subsequence\\n Longest palindromic substrings\\n Longest increasing subsequence\\n Words containing \"the\" substring\\n Sum of the digits of n is substring of n\\n Determine if a string is numeric\\n Determine if a string is collapsible\\n Determine if a string is squeezable\\n Determine if a string has all unique characters\\n Determine if a string has all the same characters\\n Longest substrings without repeating characters\\n Find words which contains all the vowels\\n Find words which contains most consonants\\n Find words which contains more than 3 vowels\\n Find words which first and last three letters are equals\\n Find words which odd letters are consonants and even letters are vowels or vice_versa\\nFormatting\\n Substring\\n Rep-string\\n Word wrap\\n String case\\n Align columns\\n Literals/String\\n Repeat a string\\n Brace expansion\\n Brace expansion using ranges\\n Reverse a string\\n Phrase reversals\\n Comma quibbling\\n Special characters\\n String concatenation\\n Substring/Top and tail\\n Commatizing numbers\\n Reverse words in a string\\n Suffixation of decimal numbers\\n Long literals, with continuations \\n Numerical and alphabetical suffixes\\n Abbreviations, easy\\n Abbreviations, simple\\n Abbreviations, automatic\\nSong lyrics/poems/Mad Libs/phrases\\n Mad Libs\\n Magic 8-ball\\n 99 Bottles of Beer\\n The Name Game (a song)\\n The Old lady swallowed a fly\\n The Twelve Days of Christmas\\nTokenize\\n Text between\\n Tokenize a string\\n Word break problem\\n Tokenize a string with escaping\\n Split a character string based on change of character\\nSequences\\n Show ASCII table\\n De Bruijn sequences\\n Self-referential sequences\\n Generate lower case ASCII alphabet\\n\\n\\n\\n',\n",
       "  'Task\\n\\nGenerate a collection filled with \\xa0 1000 \\xa0 normally distributed random (or pseudo-random) numbers\\nwith a mean of \\xa0 1.0 \\xa0 and a \\xa0 standard deviation \\xa0 of \\xa0 0.5\\n\\n\\n\\nMany libraries only generate uniformly distributed random numbers. If so, you may use one of these algorithms.\\n\\n\\n\\nRelated task\\n\\n \\xa0 Standard deviation\\n\\n',\n",
       "  'Read a file one line at a time,\\nas opposed to reading the entire file at once.\\n\\n\\n\\nRelated tasks\\n\\n Read a file character by character\\n Input loop.\\n\\n',\n",
       "  'A quine is a self-referential program that can,\\nwithout any external access, output its own source.\\n\\n\\n\\nA \\xa0 quine \\xa0 (named after Willard Van Orman Quine) \\xa0 is also known as:\\n\\n \\xa0 self-reproducing automata \\xa0 (1972)\\n \\xa0 self-replicating program \\xa0 \\xa0 \\xa0 \\xa0 or \\xa0 self-replicating computer program\\n \\xa0 self-reproducing program\\xa0 \\xa0 \\xa0 or \\xa0 self-reproducing computer program\\n \\xa0 self-copying program \\xa0 \\xa0 \\xa0 \\xa0 \\xa0 \\xa0 or \\xa0 self-copying computer program\\n\\n\\nIt is named after the philosopher and logician\\nwho studied self-reference and quoting in natural language,\\nas for example in the paradox \"\\'Yields falsehood when preceded by its quotation\\' yields falsehood when preceded by its quotation.\"\\n\\n\"Source\" has one of two meanings. It can refer to the text-based program source.\\nFor languages in which program source is represented as a data structure, \"source\" may refer to the data structure: quines in these languages fall into two categories: programs which print a textual representation of themselves, or expressions which evaluate to a data structure which is equivalent to that expression.\\n\\nThe usual way to code a quine works similarly to this paradox: The program consists of two identical parts, once as plain code and once quoted in some way (for example, as a character string, or a literal data structure). The plain code then accesses the quoted code and prints it out twice, once unquoted and once with the proper quotation marks added. Often, the plain code and the quoted code have to be nested.\\n\\n\\n\\nTask\\n\\nWrite a program that outputs its own source code in this way. If the language allows it, you may add a variant that accesses the code directly. You are not allowed to read any external files with the source code. The program should also contain some sort of self-reference, so constant expressions which return their own value which some top-level interpreter will print out. Empty programs producing no output are not allowed.\\n\\nThere are several difficulties that one runs into when writing a quine, mostly dealing with quoting:\\n\\n Part of the code usually needs to be stored as a string or structural literal in the language, which needs to be quoted somehow. However, including quotation marks in the string literal itself would be troublesome because it requires them to be escaped, which then necessitates the escaping character (e.g. a backslash) in the string, which itself usually needs to be escaped, and so on.\\n Some languages have a function for getting the \"source code representation\" of a string (i.e. adds quotation marks, etc.); in these languages, this can be used to circumvent the quoting problem.\\n Another solution is to construct the quote character from its character code, without having to write the quote character itself. Then the character is inserted into the string at the appropriate places. The ASCII code for double-quote is 34, and for single-quote is 39.\\n Newlines in the program may have to be reproduced as newlines in the string, which usually requires some kind of escape sequence (e.g. \"\\\\n\"). This causes the same problem as above, where the escaping character needs to itself be escaped, etc.\\n If the language has a way of getting the \"source code representation\", it usually handles the escaping of characters, so this is not a problem.\\n Some languages allow you to have a string literal that spans multiple lines, which embeds the newlines into the string without escaping.\\n Write the entire program on one line, for free-form languages (as you can see for some of the solutions here, they run off the edge of the screen), thus removing the need for newlines. However, this may be unacceptable as some languages require a newline at the end of the file; and otherwise it is still generally good style to have a newline at the end of a file. (The task is not clear on whether a newline is required at the end of the file.) Some languages have a print statement that appends a newline; which solves the newline-at-the-end issue; but others do not.\\n\\nNext to the Quines presented here, many other versions can be found on the Quine page.\\n\\n\\n\\nRelated task\\n\\n \\xa0 print itself.\\n\\n',\n",
       "  '\\n\\nTask\\n\\nShow the syntax for a complete stoppage of a program inside a \\xa0 conditional.\\n\\nThis includes all threads/processes which are part of your program.\\n\\nExplain the cleanup (or lack thereof) caused by the termination (allocated memory, database connections, open files, object finalizers/destructors, run-on-exit hooks, etc.).\\n\\nUnless otherwise described, no special cleanup outside that provided by the operating system is provided.\\n\\n\\n\\n',\n",
       "  'Task\\n\\nWrite a boolean function that tells whether a given integer is prime.\\n\\n\\n\\nRemember that \\xa0 1 \\xa0 and all non-positive numbers are not prime.\\n\\nUse trial division.\\n\\nEven numbers greater than \\xa0 2 \\xa0 may be eliminated right away.\\n\\nA loop from \\xa0 3 \\xa0 to \\xa0 √\\xa0n\\xa0 \\xa0 will suffice, \\xa0 but other loops are allowed.\\n\\n\\n\\nRelated tasks\\n\\n \\xa0 count in factors\\n \\xa0 prime decomposition\\n \\xa0 AKS test for primes\\n \\xa0 factors of an integer\\n \\xa0 Sieve of Eratosthenes\\n \\xa0 factors of a Mersenne number\\n \\xa0 trial factoring of a Mersenne number\\n \\xa0 partition an integer X into N primes\\n \\xa0 sequence of primes by Trial Division\\n\\n',\n",
       "  'Demonstrate how to pick a random element from a list.\\n\\n\\n\\n',\n",
       "  'Task\\n\\nWrite a program that generates all \\xa0 permutations \\xa0 of \\xa0 n \\xa0 different objects. \\xa0 (Practically numerals!)\\n\\n\\n\\nRelated tasks\\n \\n \\xa0 Find the missing permutation\\n \\xa0 Permutations/Derangements\\n\\n\\n\\n The number of samples of size k from n objects.\\n\\n\\nWith \\xa0 combinations and permutations \\xa0 generation tasks. \\n\\n\\n\\n\\n\\n\\n Order Unimportant\\n\\n Order Important\\n\\n\\n Without replacement\\n\\n\\n\\n\\n\\n\\n\\n\\n(\\n\\n\\nn\\nk\\n\\n\\n)\\n\\n\\n\\n\\n=\\n\\nn\\n\\n\\n\\nC\\n\\nk\\n\\n\\n=\\n\\n\\n\\nn\\n(\\nn\\n−\\n1\\n)\\n…\\n(\\nn\\n−\\nk\\n+\\n1\\n)\\n\\n\\nk\\n(\\nk\\n−\\n1\\n)\\n…\\n1\\n\\n\\n\\n\\n\\n{\\\\displaystyle {\\\\binom {n}{k}}=^{n}\\\\operatorname {C} _{k}={\\\\frac {n(n-1)\\\\ldots (n-k+1)}{k(k-1)\\\\dots 1}}}\\n\\n\\n\\n\\n\\n\\n\\n\\n\\n\\nn\\n\\n\\n\\nP\\n\\nk\\n\\n\\n=\\nn\\n⋅\\n(\\nn\\n−\\n1\\n)\\n⋅\\n(\\nn\\n−\\n2\\n)\\n⋯\\n(\\nn\\n−\\nk\\n+\\n1\\n)\\n\\n\\n{\\\\displaystyle ^{n}\\\\operatorname {P} _{k}=n\\\\cdot (n-1)\\\\cdot (n-2)\\\\cdots (n-k+1)}\\n\\n\\n\\n\\nTask: Combinations\\n\\nTask: Permutations\\n\\n\\n With replacement\\n\\n\\n\\n\\n\\n\\n\\n\\n(\\n\\n\\n\\nn\\n+\\nk\\n−\\n1\\n\\nk\\n\\n\\n)\\n\\n\\n\\n\\n=\\n\\nn\\n+\\nk\\n−\\n1\\n\\n\\n\\nC\\n\\nk\\n\\n\\n=\\n\\n\\n\\n(\\nn\\n+\\nk\\n−\\n1\\n)\\n!\\n\\n\\n(\\nn\\n−\\n1\\n)\\n!\\nk\\n!\\n\\n\\n\\n\\n\\n{\\\\displaystyle {\\\\binom {n+k-1}{k}}=^{n+k-1}\\\\operatorname {C} _{k}={(n+k-1)! \\\\over (n-1)!k!}}\\n\\n\\n\\n\\n\\n\\n\\n\\nn\\n\\nk\\n\\n\\n\\n\\n{\\\\displaystyle n^{k}}\\n\\n\\n\\n\\nTask: Combinations with repetitions\\n\\nTask: Permutations with repetitions\\n\\n\\n',\n",
       "  'A palindrome is a phrase which reads the same backward and forward.\\n\\nTask[edit]\\nWrite a function or program that checks whether a given sequence of characters (or, if you prefer, bytes)\\nis a palindrome.\\n\\nFor extra credit:\\n\\n Support Unicode characters.\\n Write a second function (possibly as a wrapper to the first) which detects inexact palindromes, i.e. phrases that are palindromes if white-space and punctuation is ignored and case-insensitive comparison is used.\\nHints\\n It might be useful for this task to know how to reverse a string.\\n This task\\'s entries might also form the subjects of the task Test a function.\\nRelated tasks\\nWord plays\\n\\nOrdered words\\nPalindrome detection\\nSemordnilap\\nAnagrams\\nAnagrams/Deranged anagrams\\n\\n\\n\\n\\n\\nOther tasks related to string operations:\\n\\nMetrics\\n Array length\\n String length\\n Copy a string\\n Empty string \\xa0(assignment)\\nCounting\\n Word frequency\\n Letter frequency\\n Jewels and stones\\n I before E except after C\\n Bioinformatics/base count\\n Count occurrences of a substring\\n Count how many vowels and consonants occur in a string\\nRemove/replace\\n XXXX redacted\\n Conjugate a Latin verb\\n Remove vowels from a string\\n String interpolation (included)\\n Strip block comments\\n Strip comments from a string\\n Strip a set of characters from a string\\n Strip whitespace from a string -- top and tail\\n Strip control codes and extended characters from a string\\nAnagrams/Derangements/shuffling\\n Word wheel\\n ABC problem\\n Sattolo cycle\\n Knuth shuffle\\n Ordered words\\n Superpermutation minimisation\\n Textonyms (using a phone text pad)\\n Anagrams\\n Anagrams/Deranged anagrams\\n Permutations/Derangements\\nFind/Search/Determine\\n ABC words\\n Odd words\\n Word ladder\\n Semordnilap\\n Word search\\n Wordiff \\xa0(game)\\n String matching\\n Tea cup rim text\\n Alternade words\\n Changeable words\\n State name puzzle\\n String comparison\\n Unique characters\\n Unique characters in each string\\n Extract file extension\\n Levenshtein distance\\n Palindrome detection\\n Common list elements\\n Longest common suffix\\n Longest common prefix\\n Compare a list of strings \\n Longest common substring\\n Find common directory path\\n Words from neighbour ones\\n Change e letters to i in words\\n Non-continuous subsequences\\n Longest common subsequence\\n Longest palindromic substrings\\n Longest increasing subsequence\\n Words containing \"the\" substring\\n Sum of the digits of n is substring of n\\n Determine if a string is numeric\\n Determine if a string is collapsible\\n Determine if a string is squeezable\\n Determine if a string has all unique characters\\n Determine if a string has all the same characters\\n Longest substrings without repeating characters\\n Find words which contains all the vowels\\n Find words which contains most consonants\\n Find words which contains more than 3 vowels\\n Find words which first and last three letters are equals\\n Find words which odd letters are consonants and even letters are vowels or vice_versa\\nFormatting\\n Substring\\n Rep-string\\n Word wrap\\n String case\\n Align columns\\n Literals/String\\n Repeat a string\\n Brace expansion\\n Brace expansion using ranges\\n Reverse a string\\n Phrase reversals\\n Comma quibbling\\n Special characters\\n String concatenation\\n Substring/Top and tail\\n Commatizing numbers\\n Reverse words in a string\\n Suffixation of decimal numbers\\n Long literals, with continuations \\n Numerical and alphabetical suffixes\\n Abbreviations, easy\\n Abbreviations, simple\\n Abbreviations, automatic\\nSong lyrics/poems/Mad Libs/phrases\\n Mad Libs\\n Magic 8-ball\\n 99 Bottles of Beer\\n The Name Game (a song)\\n The Old lady swallowed a fly\\n The Twelve Days of Christmas\\nTokenize\\n Text between\\n Tokenize a string\\n Word break problem\\n Tokenize a string with escaping\\n Split a character string based on change of character\\nSequences\\n Show ASCII table\\n De Bruijn sequences\\n Self-referential sequences\\n Generate lower case ASCII alphabet\\n\\n\\n\\n',\n",
       "  'sorting\\n\\nSorting Algorithm\\n\\nThis is a sorting algorithm. \\xa0 It may be applied to a set of data in order to sort it. \\xa0 \\xa0\\nFor comparing various sorts, see compare sorts. \\xa0\\nFor other sorting algorithms, \\xa0 see sorting\\xa0algorithms, \\xa0 or:\\n\\nO(n logn) sorts\\nHeap\\xa0sort |\\nMerge\\xa0sort |\\nPatience\\xa0sort |\\nQuick\\xa0sort\\nO(n log2n) sorts\\nShell\\xa0Sort\\nO(n2) sorts\\nBubble\\xa0sort |\\nCocktail\\xa0sort |\\nCocktail\\xa0sort\\xa0with\\xa0shifting\\xa0bounds |\\nComb\\xa0sort |\\nCycle\\xa0sort |\\nGnome\\xa0sort |\\nInsertion\\xa0sort |\\nSelection\\xa0sort |\\nStrand\\xa0sort\\nother sorts\\nBead\\xa0sort |\\nBogo\\xa0sort |\\nCommon\\xa0sorted\\xa0list |\\nComposite\\xa0structures\\xa0sort |\\nCustom\\xa0comparator\\xa0sort |\\nCounting\\xa0sort |\\nDisjoint\\xa0sublist\\xa0sort |\\nExternal\\xa0sort |\\nJort\\xa0sort |\\nLexicographical\\xa0sort |\\nNatural\\xa0sorting |\\nOrder\\xa0by\\xa0pair\\xa0comparisons |\\nOrder\\xa0disjoint\\xa0list\\xa0items |\\nOrder\\xa0two\\xa0numerical\\xa0lists |\\nObject\\xa0identifier\\xa0(OID)\\xa0sort |\\nPancake\\xa0sort |\\nQuickselect |\\nPermutation\\xa0sort |\\nRadix\\xa0sort |\\nRanking\\xa0methods |\\nRemove\\xa0duplicate\\xa0elements |\\nSleep\\xa0sort |\\nStooge\\xa0sort |\\n[Sort\\xa0letters\\xa0of\\xa0a\\xa0string] |\\nThree\\xa0variable\\xa0sort |\\nTopological\\xa0sort |\\nTree\\xa0sort\\n\\n\\nWrite a function that orders two lists or arrays filled with numbers.\\nThe function should accept two lists as arguments and return true if the first list should be ordered before the second, and false otherwise.\\n\\nThe order is determined by lexicographic order: Comparing the first element of each list.\\nIf the first elements are equal, then the second elements should be compared, and so on, until one of the list has no more elements.\\nIf the first list runs out of elements the result is true.\\nIf the second list or both run out of elements the result is false.\\n\\nNote: further clarification of lexicographical ordering is expounded on the talk page here and here.\\n',\n",
       "  'Programming languages often have built-in routines to convert a non-negative integer for printing in different number bases. Such common number bases might include binary, Octal and Hexadecimal.\\n\\n\\n\\nTask\\n\\nPrint a small range of integers in some different bases, as supported by standard routines of your programming language.\\n\\n\\n\\nNote\\n\\nThis is distinct from Number base conversion as a user-defined conversion function is not asked for.)\\n\\nThe reverse operation is Common number base parsing.\\n\\n\\n\\n',\n",
       "  \"Number base conversion is when you express a stored integer in an integer base, such as in octal (base 8) or binary (base 2). It also is involved when you take a string representing a number in a given base and convert it to the stored integer form. Normally, a stored integer is in binary, but that's typically invisible to the user, who normally enters or sees stored integers as decimal.\\n\\n\\n\\nTask\\n\\nWrite a function (or identify the built-in function) which is passed a non-negative integer to convert, and another integer representing the base.\\n\\nIt should return a string containing the digits of the resulting number, without leading zeros except for the number \\xa0 0 \\xa0 itself.\\n\\nFor the digits beyond 9, one should use the lowercase English alphabet, where the digit \\xa0 a = 9+1, \\xa0 b = a+1, \\xa0 etc.\\n\\nFor example: \\xa0 the decimal number \\xa0 26 \\xa0 expressed in base \\xa0 16 \\xa0 would be \\xa0 1a.\\n\\nWrite a second function which is passed a string and an integer base, and it returns an integer representing that string interpreted in that base.\\n\\nThe programs may be limited by the word size or other such constraint of a given language. There is no need to do error checking for negatives, bases less than 2, or inappropriate digits.\\n\\n\\n\\n\",\n",
       "  'Create a sequence (array, list, whatever) consisting of n distinct, initialized items of the same type. n should be determined at runtime.\\n\\nBy distinct we mean that if they are mutable, changes to one do not affect all others; if there is an appropriate equality operator they are considered unequal; etc. The code need not specify a particular kind of distinction, but do not use e.g. a numeric-range generator which does not generalize.\\n\\nBy initialized we mean that each item must be in a well-defined state appropriate for its type, rather than e.g. arbitrary previous memory contents in an array allocation. Do not show only an initialization technique which initializes only to \"zero\" values (e.g. calloc() or int a[n] = {}; in C), unless user-defined types can provide definitions of \"zero\" for that type.\\n\\nThis task was inspired by the common error of intending to do this, but instead creating a sequence of n references to the same mutable object; it might be informative to show the way to do that as well, both as a negative example and as how to do it when that\\'s all that\\'s actually necessary.\\n\\nThis task is most relevant to languages operating in the pass-references-by-value style (most object-oriented, garbage-collected, and/or \\'dynamic\\' languages).\\n\\nSee also: Closures/Value capture\\n',\n",
       "  'A Munchausen number is a natural number n the sum of whose digits (in base 10), each raised to the power of itself, equals n.\\n\\n(Munchausen is also spelled: Münchhausen.)\\n\\nFor instance: \\xa0  3435 = 33 + 44 + 33 + 55 \\n\\n\\n\\nTask\\nFind all Munchausen numbers between \\xa0 1 \\xa0 and \\xa0 5000.\\n\\n\\n\\nAlso see\\n\\n The OEIS entry:  A046253\\n The Wikipedia entry:  Perfect digit-to-digit invariant, redirected from Munchausen Number\\n\\n',\n",
       "  'Find the MD4 message digest of a string of octets.\\nUse the ASCII encoded string “Rosetta Code” (without quotes).\\nYou may either call an MD4 library, or implement MD4 in your language.\\n\\nMD4 is an obsolete hash function that computes a 128-bit message digest that sometimes appears in obsolete protocols.\\n\\nRFC 1320 specifies the MD4 algorithm. RFC 6150 declares that MD4 is obsolete.\\n',\n",
       "  'Loop through and print each element in a collection in order.\\n\\nUse your language\\'s \"for each\" loop if it has one, otherwise iterate through the collection in order with some other loop.\\n\\n\\n\\nRelated tasks\\n\\n \\xa0 Loop over multiple arrays simultaneously\\n \\xa0 Loops/Break\\n \\xa0 Loops/Continue\\n \\xa0 Loops/Do-while\\n \\xa0 Loops/Downward for\\n \\xa0 Loops/For\\n \\xa0 Loops/For with a specified step\\n \\xa0 Loops/Foreach\\n \\xa0 Loops/Increment loop index within loop body\\n \\xa0 Loops/Infinite\\n \\xa0 Loops/N plus one half\\n \\xa0 Loops/Nested\\n \\xa0 Loops/While\\n \\xa0 Loops/with multiple ranges\\n \\xa0 Loops/Wrong ranges\\n\\n',\n",
       "  'Quite often one needs loops which, in the last iteration, execute only part of the loop body.\\n\\n\\n\\nGoal\\n\\nDemonstrate the best way to do this.\\n\\n\\n\\nTask\\n\\nWrite a loop which writes the comma-separated list\\n\\n1, 2, 3, 4, 5, 6, 7, 8, 9, 10\\n\\nusing separate output statements for the number\\nand the comma from within the body of the loop.\\n\\n\\n\\nRelated tasks\\n\\n \\xa0 Loop over multiple arrays simultaneously\\n \\xa0 Loops/Break\\n \\xa0 Loops/Continue\\n \\xa0 Loops/Do-while\\n \\xa0 Loops/Downward for\\n \\xa0 Loops/For\\n \\xa0 Loops/For with a specified step\\n \\xa0 Loops/Foreach\\n \\xa0 Loops/Increment loop index within loop body\\n \\xa0 Loops/Infinite\\n \\xa0 Loops/N plus one half\\n \\xa0 Loops/Nested\\n \\xa0 Loops/While\\n \\xa0 Loops/with multiple ranges\\n \\xa0 Loops/Wrong ranges\\n\\n',\n",
       "  'Task\\n\\nWrite a \\xa0  for  \\xa0 loop which writes a countdown from \\xa0 10 \\xa0 to \\xa0 0.\\n\\n\\n\\nRelated tasks\\n\\n \\xa0 Loop over multiple arrays simultaneously\\n \\xa0 Loops/Break\\n \\xa0 Loops/Continue\\n \\xa0 Loops/Do-while\\n \\xa0 Loops/Downward for\\n \\xa0 Loops/For\\n \\xa0 Loops/For with a specified step\\n \\xa0 Loops/Foreach\\n \\xa0 Loops/Increment loop index within loop body\\n \\xa0 Loops/Infinite\\n \\xa0 Loops/N plus one half\\n \\xa0 Loops/Nested\\n \\xa0 Loops/While\\n \\xa0 Loops/with multiple ranges\\n \\xa0 Loops/Wrong ranges\\n\\n',\n",
       "  'Task\\n\\nPrint out \\xa0 \\xa0 \\xa0  SPAM  \\xa0 \\xa0 \\xa0 followed by a \\xa0 newline \\xa0 in an infinite loop.\\n\\n\\n\\nRelated tasks\\n\\n \\xa0 Loop over multiple arrays simultaneously\\n \\xa0 Loops/Break\\n \\xa0 Loops/Continue\\n \\xa0 Loops/Do-while\\n \\xa0 Loops/Downward for\\n \\xa0 Loops/For\\n \\xa0 Loops/For with a specified step\\n \\xa0 Loops/Foreach\\n \\xa0 Loops/Increment loop index within loop body\\n \\xa0 Loops/Infinite\\n \\xa0 Loops/N plus one half\\n \\xa0 Loops/Nested\\n \\xa0 Loops/While\\n \\xa0 Loops/with multiple ranges\\n \\xa0 Loops/Wrong ranges\\n\\n',\n",
       "  '\\n\\nTask\\n\\nDemonstrate a \\xa0 for-loop \\xa0 where the step-value is greater than one.\\n\\n\\n\\nRelated tasks\\n\\n \\xa0 Loop over multiple arrays simultaneously\\n \\xa0 Loops/Break\\n \\xa0 Loops/Continue\\n \\xa0 Loops/Do-while\\n \\xa0 Loops/Downward for\\n \\xa0 Loops/For\\n \\xa0 Loops/For with a specified step\\n \\xa0 Loops/Foreach\\n \\xa0 Loops/Increment loop index within loop body\\n \\xa0 Loops/Infinite\\n \\xa0 Loops/N plus one half\\n \\xa0 Loops/Nested\\n \\xa0 Loops/While\\n \\xa0 Loops/with multiple ranges\\n \\xa0 Loops/Wrong ranges\\n\\n',\n",
       "  'Task\\n\\nExplicitly implement \\xa0 long multiplication.\\n\\nThis is one possible approach to arbitrary-precision integer algebra.\\n\\n\\n\\nFor output, display the result of \\xa0  264 * 264.\\n\\nOptionally, verify your result against builtin arbitrary precision support.\\n\\nThe decimal representation of \\xa0  264  \\xa0 is:\\n\\n18,446,744,073,709,551,616\\n\\nThe output of \\xa0  264 * 264  \\xa0 is \\xa0  2128,  \\xa0 and is:\\n\\n340,282,366,920,938,463,463,374,607,431,768,211,456\\n\\n\\n',\n",
       "  'A list comprehension is a special syntax in some programming languages to describe lists. It is similar to the way mathematicians describe sets, with a set comprehension, hence the name.\\n\\nSome attributes of a list comprehension are:\\n\\n They should be distinct from (nested) for loops and the use of map and filter functions within the syntax of the language.\\n They should return either a list or an iterator (something that returns successive members of a collection, in order).\\n The syntax has parts corresponding to that of set-builder notation. \\n\\n\\nTask\\n\\nWrite a list comprehension that builds the list of all Pythagorean triples with elements between \\xa0 1 \\xa0 and \\xa0 n.\\n\\nIf the language has multiple ways for expressing such a construct (for example, direct list comprehensions and generators), write one example for each.\\n\\n\\n\\n',\n",
       "  'Task\\n\\nDetermine whether a given year is a leap year in the Gregorian calendar.\\n\\n\\n\\nSee also\\n\\n Leap year (wiki)\\n\\n',\n",
       "  'Inverted syntax with conditional expressions\\n\\nIn traditional syntax conditional expressions are usually shown before the action within a statement or code block:\\n\\n IF raining=true THEN needumbrella=true \\nIn inverted syntax, the action is listed before the conditional expression in the statement or code block:\\n\\n needumbrella=true IF raining=true \\nInverted syntax with assignment\\n\\nIn traditional syntax, assignments are usually expressed with the variable appearing before the expression:\\n\\n a = 6\\nIn inverted syntax, the expression appears before the variable:\\n\\n 6 = a\\nTask\\n\\nThe task is to demonstrate support for inverted syntax forms within the language by showing both the traditional and inverted forms.\\n',\n",
       "  \"Multiple inheritance allows to specify that one  class is a subclass of several other classes.\\n\\nSome languages allow multiple inheritance for arbitrary classes, \\xa0 others restrict it to interfaces, \\xa0 some don't allow it at all.\\n\\n\\n\\nTask\\n\\nWrite two classes (or interfaces) Camera and MobilePhone, \\xa0 then write a class CameraPhone which is both a Camera and a MobilePhone.\\n\\nThere is no need to implement any functions for those classes.\\n\\n\\n\\n\",\n",
       "  'Task\\n\\nWrite a function which tests if infinity is supported for floating point numbers (this step should be omitted for languages where the language specification already demands the existence of infinity, e.g. by demanding IEEE numbers), and if so, returns positive infinity. \\xa0 Otherwise, return the largest possible positive floating point number.\\n\\nFor languages with several floating point types, use the type of the literal constant \\xa0 1.5 \\xa0 as floating point type.\\n\\n\\n\\nRelated task\\n\\n \\xa0 Extreme floating point values\\n\\n',\n",
       "  \"Input loop is part of Short Circuit's Console Program Basics selection.\\nTask\\n\\nRead from a text stream either word-by-word or line-by-line until the stream runs out of data.\\n\\nThe stream will have an unknown amount of data on it.\\n\\n\\n\\n\",\n",
       "  \"Task\\n\\nDemonstrate the language's ability to include source code from other files.\\n\\n\\n\\n\\nSee Also\\n Compiler/Simple file inclusion pre processor\\n\\n\\n\\n\",\n",
       "  'Task\\n\\nIncrement a numerical string.\\n\\n\\n\\n',\n",
       "  'Task\\n\\nSend a GET request to obtain the resource located at the URL \"https://www.w3.org/\", then print it to the console.\\n\\nChecking the host certificate for validity is recommended.\\n\\nDo not authenticate. That is the subject of other tasks.\\n\\nReaders may wish to contrast with the HTTP Request task, and also the task on HTTPS request with authentication.\\n\\n',\n",
       "  'Task\\n\\nFind the name of the host on which the routine is running.\\n\\n\\n\\n',\n",
       "  'Hello world/Standard error is part of Short Circuit\\'s Console Program Basics selection.\\nA common practice in computing is to send error messages\\nto a different output stream than normal text console messages.\\n\\nThe normal messages print to what is called \"standard output\" or \"standard out\".\\n\\nThe error messages print to \"standard error\".\\n\\nThis separation can be used to redirect error messages to a different place than normal messages.\\n\\n\\n\\nTask\\n\\nShow how to print a message to standard error by printing \\xa0 \\xa0 Goodbye, World! \\xa0 \\xa0 on that stream.\\n\\n\\n\\n',\n",
       "  'Task\\n\\nCause a line printer attached to the computer to print a line containing the message: \\xa0  Hello World! \\n\\n\\n\\nNote\\n\\nA line printer is not the same as standard output.\\n\\nA \\xa0 line printer \\xa0 was an older-style printer which prints one line at a time to a continuous ream of paper.\\n\\nWith some systems, a line printer can be any device attached to an appropriate port (such as a parallel port).\\n\\n\\n\\n',\n",
       "  \"Task\\nCreate a program that crashes as soon as possible, with as few lines of code as possible. Be smart and don't damage your computer, ok?\\n\\nThe code should be syntactically valid. It should be possible to insert [a subset of] your submission into another program, presumably to help debug it, or perhaps for use when an internal corruption has been detected and it would be dangerous and irresponsible to continue.\\n\\nReferences\\n Wikipedia: Halt and Catch Fire\\n\\n\\nRelated Tasks\\n Program termination\\n\\n\",\n",
       "  \"Task\\n\\nGuide a new user of a language through the steps necessary\\nto install the programming language and selection of a text editor if needed,\\nto run the languages' example in the Hello world/Text task.\\n\\n Assume the language-newbie is a programmer in another language.\\n Assume the language-newbie is competent in installing software for the platform.\\n Assume the language-newbie can use one simple text editor for the OS/platform, (but that may not necessarily be a particular one if the installation needs a particular editor).\\n Refer to, (and link to), already existing documentation as much as possible (but provide a summary here).\\n Remember to state where to view the output.\\n If particular IDE's or editors are required that are not standard, then point to/explain their installation too.\\n\\n\\nNote:\\n If it is more natural for a language to give output via a GUI or to a file etc, then use that method of output rather than as text to a terminal/command-line, but remember to give instructions on how to view the output generated.\\n You may use sub-headings if giving instructions for multiple platforms.\\n\\n\",\n",
       "  'Some languages automatically insert a newline after outputting a string, unless measures are taken to prevent its output.\\n\\n\\n\\nTask\\n\\nDisplay the string \\xa0 Goodbye, World! \\xa0 without a trailing newline.\\n\\n\\n\\nRelated tasks\\n\\n \\xa0 Hello world/Graphical\\n \\xa0 Hello world/Line Printer\\n \\xa0 Hello world/Standard error\\n \\xa0 Hello world/Text\\n\\n',\n",
       "  'Task\\n\\nUsing two Arrays of equal length, create a Hash object\\nwhere the elements from one array (the keys) are linked\\nto the elements of the other (the values)\\n\\n\\n\\nRelated task\\n\\n \\xa0 Associative arrays/Creation\\n\\n',\n",
       "  'Task\\n\\nCreate a function that returns the maximum value in a provided set of values,\\n\\nwhere the number of values may not be known until run-time.\\n\\n\\n\\n',\n",
       "  'Task\\n\\nWrite a generic swap function or operator which exchanges the values of two variables (or, more generally, any two storage places that can be assigned), regardless of their types.\\n\\nIf your solution language is statically typed please describe the way your language provides genericity.\\n\\nIf variables are typed in the given language, it is permissible that the two variables be constrained to having a mutually compatible type, such that each is permitted to hold the value previously stored in the other without a type violation.\\nThat is to say, solutions do not have to be capable of exchanging, say, a string and integer value, if the underlying storage locations are not attributed with types that permit such an exchange.\\n\\nGeneric swap is a task which brings together a few separate issues in programming language semantics.\\n\\nDynamically typed languages deal with values in a generic way quite readily, but do not necessarily make it easy to write a function to destructively swap two variables, because this requires indirection upon storage places or upon the syntax designating storage places.\\n\\nFunctional languages, whether static or dynamic, do not necessarily allow a destructive operation such as swapping two variables regardless of their generic capabilities.\\n\\nSome static languages have difficulties with generic programming due to a lack of support for (Parametric Polymorphism).\\n\\nDo your best!\\n\\n\\n\\n',\n",
       "  'Greatest common divisor\\n\\nYou are encouraged to solve this task according to the task description, using any language you may know.\\nTask\\n\\nFind the greatest common divisor \\xa0 (GCD) \\xa0 of two integers.\\n\\n\\nGreatest common divisor \\xa0 is also known as \\xa0 greatest common factor (gcf) \\xa0 and \\xa0 greatest common measure.\\n\\n\\n\\nRelated task\\n\\n \\xa0 least common multiple.\\n\\n\\nSee also\\n\\n \\xa0 MathWorld entry: \\xa0 greatest common divisor.\\n \\xa0 Wikipedia entry: \\xa0 \\xa0 greatest common divisor.\\n\\n',\n",
       "  \"Hello world/Text is part of Short Circuit's Console Program Basics selection.\\nTask\\n\\nDisplay the string Hello world! on a text console.\\n\\nRelated tasks\\n\\n \\xa0 Hello world/Graphical\\n \\xa0 Hello world/Line Printer\\n \\xa0 Hello world/Newbie\\n \\xa0 Hello world/Newline omission\\n \\xa0 Hello world/Standard error\\n \\xa0 Hello world/Web server\\n\\n\",\n",
       "  'Task\\n\\nCreate a function, compose, \\xa0 whose two arguments \\xa0 f \\xa0 and \\xa0 g, \\xa0 are both functions with one argument.\\n\\n\\n\\nThe result of compose is to be a function of one argument, (lets call the argument \\xa0 x), \\xa0 which works like applying function \\xa0  f  \\xa0 to the result of applying function \\xa0  g  \\xa0 to \\xa0  x.\\n\\n\\n\\nExample\\n\\n compose(f, g) (x) = f(g(x))\\n\\n\\n\\nReference: Function composition\\n\\nHint: In some languages, implementing compose correctly requires creating a closure.\\n\\n\\n\\n',\n",
       "  'A function is a body of code that returns a value.\\n\\nThe value returned may depend on arguments provided to the function.\\n\\n\\n\\nTask\\n\\nWrite a definition of a function called \"multiply\" that takes two arguments and returns their product.\\n\\n(Argument types should be chosen so as not to distract from showing how functions are created and values returned).\\n\\n\\n\\nRelated task\\n\\n \\xa0 Function prototype\\n\\n',\n",
       "  \"Find limit of recursion is part of Short Circuit's Console Program Basics selection.\\nTask\\n\\nFind the limit of recursion.\\n\\n\\n\\n\",\n",
       "  'File input/output is part of Short Circuit\\'s Console Program Basics selection.\\nTask\\n\\nCreate a file called \\xa0 \"output.txt\", \\xa0 and place in it the contents of the file \\xa0 \"input.txt\", \\xa0 via an intermediate variable.\\n\\nIn other words, your program will demonstrate:\\n\\n \\xa0 how to read from a file into a variable\\n \\xa0 how to write a variable\\'s contents into a file\\n\\n\\nOneliners that skip the intermediate variable are of secondary interest — operating systems have copy commands for that.\\n\\n\\n\\n',\n",
       "  '\\nBasic Data Operation\\n\\nThis is a basic data operation. It represents a fundamental action on a basic data type.\\nYou may see other such operations in the Basic Data Operations category, or:\\n\\n\\nInteger Operations\\nArithmetic |\\nComparison\\nBoolean Operations\\nBitwise |\\nLogical\\nString Operations\\nConcatenation |\\nInterpolation |\\nComparison |\\nMatching\\nMemory Operations\\nPointers & references |\\nAddresses\\n\\n\\nTask\\n\\nCompute the \\xa0 factors \\xa0 of a positive integer.\\n\\nThese factors are the positive integers by which the number being factored can be divided to yield a positive integer result.\\n\\n(Though the concepts function correctly for zero and negative integers, the set of factors of zero has countably infinite members, and the factors of negative integers can be obtained from the factors of related positive numbers without difficulty; \\xa0 this task does not require handling of either of these cases).\\n\\nNote that every prime number has two factors: \\xa0 1 \\xa0 and itself.\\n\\n\\n\\nRelated tasks\\n\\n \\xa0 count in factors\\n \\xa0 prime decomposition\\n \\xa0 Sieve of Eratosthenes\\n \\xa0 primality by trial division\\n \\xa0 factors of a Mersenne number\\n \\xa0 trial factoring of a Mersenne number\\n \\xa0 partition an integer X into N primes\\n \\xa0 sequence of primes by Trial Division\\n \\xa0 sequence: smallest number greater than previous term with exactly n divisors\\n\\n',\n",
       "  \"Task\\n\\nWrite a generator of prime numbers, in order, that will automatically adjust to accommodate the generation of any reasonably high prime.\\n\\nThe routine should demonstrably rely on either:\\n\\n Being based on an open-ended counter set to count without upper limit other than system or programming language limits. In this case, explain where this counter is in the code.\\n Being based on a limit that is extended automatically. In this case, choose a small limit that ensures the limit will be passed when generating some of the values to be asked for below.\\n If other methods of creating an extensible prime generator are used, the algorithm's means of extensibility/lack of limits should be stated.\\n\\n\\nThe routine should be used to:\\n\\n Show the first twenty primes.\\n Show the primes between 100 and 150.\\n Show the number of primes between 7,700 and 8,000.\\n Show the 10,000th prime.\\n\\n\\nShow output on this page.\\n\\nNote: You may reference code already on this site if it is written to be imported/included, then only the code necessary for import and the performance of this task need be shown. (It is also important to leave a forward link on the referenced tasks entry so that later editors know that the code is used for multiple tasks).\\n\\nNote 2: If a languages in-built prime generator is extensible or is guaranteed to generate primes up to a system limit, (231 or memory overflow for example), then this may be used as long as an explanation of the limits of the prime generator is also given. (Which may include a link to/excerpt from, language documentation).\\n\\nNote 3:The task is written so it may be useful in solving the task \\xa0 Emirp primes \\xa0 as well as others (depending on its efficiency).\\n\\n\\n\\n\\n\\nReference\\n\\n Prime Numbers. Website with large count of primes.\\n\\n\",\n",
       "  'Task\\n\\nRun either the \\xa0 ls \\xa0 system command \\xa0 (dir \\xa0 on Windows), \\xa0 or the \\xa0 pause \\xa0 system command.\\n\\n\\n\\n\\nRelated task\\n  Get system command output\\n\\n',\n",
       "  \"\\n\\n This page uses content from Wikipedia. The original article was at Euler's_identity. The list of authors can be seen in the page history. As with Rosetta Code, the text of Wikipedia is available under the GNU FDL. (See links for details on variance)\\n\\n\\n\\nIn mathematics, Euler's identity is the equality:\\n\\n               ei\\n  \\n    \\n      \\n        π\\n      \\n    \\n    {\\\\displaystyle \\\\pi }\\n  \\n + 1 = 0\\n\\nwhere\\n\\n   e is Euler's number, the base of natural logarithms,\\n   i is the imaginary unit, which satisfies i2 = −1, and\\n   \\n  \\n    \\n      \\n        π\\n      \\n    \\n    {\\\\displaystyle \\\\pi }\\n  \\n is pi, the ratio of the circumference of a circle to its diameter.\\n\\nEuler's identity is often cited as an example of deep mathematical beauty. Three of the basic arithmetic operations occur exactly once each: addition, multiplication, and exponentiation. The identity also links five fundamental mathematical constants:\\n\\n   The number 0.\\n   The number 1.\\n   The number \\n  \\n    \\n      \\n        π\\n      \\n    \\n    {\\\\displaystyle \\\\pi }\\n  \\n (\\n  \\n    \\n      \\n        π\\n      \\n    \\n    {\\\\displaystyle \\\\pi }\\n  \\n = 3.14159+),\\n   The number e (e = 2.71828+), which occurs widely in mathematical analysis.\\n   The number i, the imaginary unit of the complex numbers.\\n\\nTask\\nShow in your language that Euler's identity is true. As much as possible and practical, mimic the Euler's identity equation.\\n\\nMost languages are limited to IEEE 754 floating point calculations so will have some error in the calculation.\\n\\nIf that is the case, or there is some other limitation, show\\nthat ei\\n\\n\\n\\nπ\\n\\n\\n{\\\\displaystyle \\\\pi }\\n\\n + 1 is approximately equal to zero and\\nshow the amount of error in the calculation.\\n\\nIf your language is capable of symbolic calculations, show\\nthat ei\\n\\n\\n\\nπ\\n\\n\\n{\\\\displaystyle \\\\pi }\\n\\n + 1 is exactly equal to zero for bonus kudos points.\\n\\n\\n\\n\",\n",
       "  \"Task\\n\\nShow how to get one of your process's environment variables.\\n\\nThe available variables vary by system; \\xa0 some of the common ones available on Unix include:\\n\\n \\xa0 PATH\\n \\xa0 HOME\\n \\xa0 USER\\n\\n\",\n",
       "  'Definitions\\n\\n \\xa0 The factorial of \\xa0 0 \\xa0 (zero) \\xa0 is defined as being \\xa0 1 \\xa0 (unity).\\n \\xa0 The \\xa0 Factorial Function \\xa0 of a positive integer, \\xa0  n,  \\xa0 is defined as the product of the sequence:\\n                 n, \\xa0 n-1, \\xa0 n-2, \\xa0 ... \\xa0 1 \\n\\n\\n\\nTask\\n\\nWrite a function to return the factorial of a number.\\n\\nSolutions can be iterative or recursive.\\n\\nSupport for trapping negative \\xa0  n  \\xa0 errors is optional.\\n\\n\\n\\nRelated task\\n\\n \\xa0 Primorial numbers\\n\\n',\n",
       "  'Task\\n\\nCreate the simplest possible program that is still considered \"correct.\"\\n\\n\\n\\n',\n",
       "  'Task\\n\\nDemonstrate how to copy data structures containing complex heterogeneous and cyclic semantics.\\n\\nThis is often referred to as deep copying, and is normally required where structures are mutable and to ensure that independent copies can be manipulated without side-effects.\\n\\nIf this facility is not built into the language, it is permissible to use functions from a common library, or a coded procedure.\\n\\n\\n\\nThe task should show:\\n\\n Relevant semantics of structures, such as their homogeneous or heterogeneous properties, or containment of (self- or mutual-reference) cycles.\\n Any limitations of the method.\\n That the structure and its copy are different.\\n Suitable links to external documentation for common libraries.\\n\\n',\n",
       "  'The task is to create a new file called \"TAPE.FILE\" of any size on Magnetic Tape.\\n',\n",
       "  'A company decides that whenever Xmas falls on a Sunday they will give their workers all extra paid holidays so that, together with any public holidays, workers will not have to work the following week (between the 25th of December and the first of January).\\n\\n\\n\\nTask\\n\\nIn what years between 2008 and 2121 will the 25th of December be a Sunday?\\n\\nUsing any standard date handling libraries of your programming language;\\ncompare the dates calculated with the output of other languages to discover any anomalies in the handling of dates which may be due to, for example, overflow in types used to represent dates/times similar to \\xa0 y2k \\xa0 type problems.\\n\\n\\n\\n',\n",
       "  'Task\\n\\nProduce a sequential count in octal, \\xa0 starting at zero, \\xa0 and using an increment of a one for each consecutive number.\\n\\nEach number should appear on a single line, \\xa0 and the program should count until terminated, \\xa0 or until the maximum value of the numeric type in use is reached.\\n\\n\\n\\nRelated task\\n\\n \\xa0 Integer sequence \\xa0 is a similar task without the use of octal numbers.\\n\\n',\n",
       "  'Create an executable file that copies stdin to stdout, or else a script that does so through the invocation of an interpreter at the command line.\\n',\n",
       "  'Task\\n\\nShow all ways to include text in a language source file\\nthat\\'s completely ignored by the compiler or interpreter.\\n\\n\\n\\nRelated tasks\\n\\n \\xa0 Documentation\\n \\xa0 Here_document\\n\\n\\nSee also\\n\\n \\xa0 Wikipedia\\n \\xa0 xkcd (Humor: hand gesture denoting // for \"commenting out\" people.)\\n\\n',\n",
       "  'Task\\n\\nGiven non-negative integers \\xa0  m  \\xa0 and \\xa0  n, \\xa0 generate all size \\xa0  m  \\xa0 combinations \\xa0 of the integers from \\xa0  0 \\xa0 (zero) \\xa0 to \\xa0  n-1  \\xa0 in sorted order \\xa0 (each combination is sorted and the entire table is sorted).\\n\\n\\n\\nExample\\n\\n3 \\xa0 comb \\xa0  5  \\xa0 \\xa0 is:\\n\\n0 1 2\\n0 1 3\\n0 1 4\\n0 2 3\\n0 2 4\\n0 3 4\\n1 2 3\\n1 2 4\\n1 3 4\\n2 3 4\\n\\nIf it is more \"natural\" in your language to start counting from \\xa0  1 \\xa0 (unity) instead of \\xa0  0 \\xa0 (zero),\\n\\nthe combinations can be of the integers from \\xa0  1 \\xa0 to \\xa0  n. \\n\\n\\n\\nSee also\\n\\n\\n The number of samples of size k from n objects.\\n\\n\\nWith \\xa0 combinations and permutations \\xa0 generation tasks. \\n\\n\\n\\n\\n\\n\\n Order Unimportant\\n\\n Order Important\\n\\n\\n Without replacement\\n\\n\\n\\n\\n\\n\\n\\n\\n(\\n\\n\\nn\\nk\\n\\n\\n)\\n\\n\\n\\n\\n=\\n\\nn\\n\\n\\n\\nC\\n\\nk\\n\\n\\n=\\n\\n\\n\\nn\\n(\\nn\\n−\\n1\\n)\\n…\\n(\\nn\\n−\\nk\\n+\\n1\\n)\\n\\n\\nk\\n(\\nk\\n−\\n1\\n)\\n…\\n1\\n\\n\\n\\n\\n\\n{\\\\displaystyle {\\\\binom {n}{k}}=^{n}\\\\operatorname {C} _{k}={\\\\frac {n(n-1)\\\\ldots (n-k+1)}{k(k-1)\\\\dots 1}}}\\n\\n\\n\\n\\n\\n\\n\\n\\n\\n\\nn\\n\\n\\n\\nP\\n\\nk\\n\\n\\n=\\nn\\n⋅\\n(\\nn\\n−\\n1\\n)\\n⋅\\n(\\nn\\n−\\n2\\n)\\n⋯\\n(\\nn\\n−\\nk\\n+\\n1\\n)\\n\\n\\n{\\\\displaystyle ^{n}\\\\operatorname {P} _{k}=n\\\\cdot (n-1)\\\\cdot (n-2)\\\\cdots (n-k+1)}\\n\\n\\n\\n\\nTask: Combinations\\n\\nTask: Permutations\\n\\n\\n With replacement\\n\\n\\n\\n\\n\\n\\n\\n\\n(\\n\\n\\n\\nn\\n+\\nk\\n−\\n1\\n\\nk\\n\\n\\n)\\n\\n\\n\\n\\n=\\n\\nn\\n+\\nk\\n−\\n1\\n\\n\\n\\nC\\n\\nk\\n\\n\\n=\\n\\n\\n\\n(\\nn\\n+\\nk\\n−\\n1\\n)\\n!\\n\\n\\n(\\nn\\n−\\n1\\n)\\n!\\nk\\n!\\n\\n\\n\\n\\n\\n{\\\\displaystyle {\\\\binom {n+k-1}{k}}=^{n+k-1}\\\\operatorname {C} _{k}={(n+k-1)! \\\\over (n-1)!k!}}\\n\\n\\n\\n\\n\\n\\n\\n\\nn\\n\\nk\\n\\n\\n\\n\\n{\\\\displaystyle n^{k}}\\n\\n\\n\\n\\nTask: Combinations with repetitions\\n\\nTask: Permutations with repetitions\\n\\n\\n',\n",
       "  \"\\n\\nTask\\n\\nGiven a character value in your language, print its code \\xa0 (could be ASCII code, Unicode code, or whatever your language uses).\\n\\n\\n\\nExample\\n\\nThe character \\xa0 'a' \\xa0 (lowercase letter A) \\xa0 has a code of 97 in ASCII \\xa0 (as well as Unicode, as ASCII forms the beginning of Unicode).\\n\\nConversely, given a code, print out the corresponding character.\\n\\n\\n\\n\",\n",
       "  'Demonstrate how to dynamically add variables to an object (a class instance) at runtime.\\n\\nThis is useful when the methods/variables of an instance are based on a data file that isn\\'t available until runtime. Hal Fulton gives an example of creating an OO CSV parser at An Exercise in Metaprogramming with Ruby. This is referred to as \"monkeypatching\" by Pythonistas and some others.\\n',\n",
       "  '\\nBasic Data Operation\\n\\nThis is a basic data operation. It represents a fundamental action on a basic data type.\\nYou may see other such operations in the Basic Data Operations category, or:\\n\\n\\nInteger Operations\\nArithmetic |\\nComparison\\nBoolean Operations\\nBitwise |\\nLogical\\nString Operations\\nConcatenation |\\nInterpolation |\\nComparison |\\nMatching\\nMemory Operations\\nPointers & references |\\nAddresses\\n\\n\\n\\n\\nTask\\n\\nDemonstrate how to get the address of a variable and how to set the address of a variable.\\n\\n\\n\\n',\n",
       "  'The Ackermann function is a classic example of a recursive function, notable especially because it is not a primitive recursive function. It grows very quickly in value, as does the size of its call tree.\\n\\n\\n\\nThe Ackermann function is usually defined as follows:\\n\\n\\n\\n\\n\\n\\n\\nA\\n(\\nm\\n,\\nn\\n)\\n=\\n\\n\\n{\\n\\n\\n\\nn\\n+\\n1\\n\\n\\n\\nif\\xa0\\n\\nm\\n=\\n0\\n\\n\\n\\n\\nA\\n(\\nm\\n−\\n1\\n,\\n1\\n)\\n\\n\\n\\nif\\xa0\\n\\nm\\n>\\n0\\n\\n\\xa0and\\xa0\\n\\nn\\n=\\n0\\n\\n\\n\\n\\nA\\n(\\nm\\n−\\n1\\n,\\nA\\n(\\nm\\n,\\nn\\n−\\n1\\n)\\n)\\n\\n\\n\\nif\\xa0\\n\\nm\\n>\\n0\\n\\n\\xa0and\\xa0\\n\\nn\\n>\\n0.\\n\\n\\n\\n\\n\\n\\n\\n\\n{\\\\displaystyle A(m,n)={\\\\begin{cases}n+1&{\\\\mbox{if }}m=0\\\\\\\\A(m-1,1)&{\\\\mbox{if }}m>0{\\\\mbox{ and }}n=0\\\\\\\\A(m-1,A(m,n-1))&{\\\\mbox{if }}m>0{\\\\mbox{ and }}n>0.\\\\end{cases}}}\\n\\n\\n\\n\\n\\n\\nIts arguments are never negative and it always terminates.\\n\\n\\n\\nTask\\n\\nWrite a function which returns the value of \\n\\n\\n\\nA\\n(\\nm\\n,\\nn\\n)\\n\\n\\n{\\\\displaystyle A(m,n)}\\n\\n. Arbitrary precision is preferred (since the function grows so quickly), but not required.\\n\\n\\n\\nSee also\\n\\n Conway chained arrow notation for the Ackermann function.\\n\\n'],\n",
       " 'language_url': ['#Python',\n",
       "  '#Python',\n",
       "  '#Python',\n",
       "  '#Python',\n",
       "  '#Python',\n",
       "  '#Python',\n",
       "  '#Python',\n",
       "  '#Python',\n",
       "  '#Python',\n",
       "  '#Python',\n",
       "  '#Python',\n",
       "  '#Python',\n",
       "  '#Python',\n",
       "  '#Python',\n",
       "  '#Python',\n",
       "  '#Python',\n",
       "  '#Python',\n",
       "  '#Python',\n",
       "  '#Python',\n",
       "  '#Python',\n",
       "  '#Python',\n",
       "  '#Python',\n",
       "  '#Python',\n",
       "  '#Python',\n",
       "  '#Python',\n",
       "  '#Python',\n",
       "  '#Python',\n",
       "  '#Python',\n",
       "  '#Python',\n",
       "  '#Python',\n",
       "  '#Python',\n",
       "  '#Python',\n",
       "  '#Python',\n",
       "  '#Python',\n",
       "  '#Python',\n",
       "  '#Python',\n",
       "  '#Python',\n",
       "  '#Python',\n",
       "  '#Python',\n",
       "  '#Python',\n",
       "  '#Python',\n",
       "  '#Python',\n",
       "  '#Python',\n",
       "  '#Python',\n",
       "  '#Python',\n",
       "  '#Python',\n",
       "  '#Python',\n",
       "  '#Python',\n",
       "  '#Python',\n",
       "  '#Python',\n",
       "  '#Python',\n",
       "  '#Python',\n",
       "  '#Python',\n",
       "  '#Python',\n",
       "  '#Python',\n",
       "  '#Python',\n",
       "  '#Python',\n",
       "  '#Python',\n",
       "  '#Python',\n",
       "  '#Python',\n",
       "  '#Python',\n",
       "  '#Python',\n",
       "  '#Python',\n",
       "  '#Python',\n",
       "  '#Python',\n",
       "  '#Python',\n",
       "  '#Python',\n",
       "  '#Python',\n",
       "  '#Python',\n",
       "  '#Python',\n",
       "  '#Python',\n",
       "  '#Python',\n",
       "  '#Python',\n",
       "  '#Python',\n",
       "  '#Python',\n",
       "  '#Python',\n",
       "  '#Python',\n",
       "  '#Python',\n",
       "  '#Python',\n",
       "  '#Python',\n",
       "  '#Python',\n",
       "  '#Python',\n",
       "  '#Python',\n",
       "  '#Python',\n",
       "  '#Python',\n",
       "  '#Python',\n",
       "  '#Python',\n",
       "  '#Python',\n",
       "  '#Python',\n",
       "  '#Python',\n",
       "  '#Python',\n",
       "  '#Python',\n",
       "  '#Python',\n",
       "  '#Python',\n",
       "  '#Python'],\n",
       " 'language_name': ['Python',\n",
       "  'Python',\n",
       "  'Python',\n",
       "  'Python',\n",
       "  'Python',\n",
       "  'Python',\n",
       "  'Python',\n",
       "  'Python',\n",
       "  'Python',\n",
       "  'Python',\n",
       "  'Python',\n",
       "  'Python',\n",
       "  'Python',\n",
       "  'Python',\n",
       "  'Python',\n",
       "  'Python',\n",
       "  'Python',\n",
       "  'Python',\n",
       "  'Python',\n",
       "  'Python',\n",
       "  'Python',\n",
       "  'Python',\n",
       "  'Python',\n",
       "  'Python',\n",
       "  'Python',\n",
       "  'Python',\n",
       "  'Python',\n",
       "  'Python',\n",
       "  'Python',\n",
       "  'Python',\n",
       "  'Python',\n",
       "  'Python',\n",
       "  'Python',\n",
       "  'Python',\n",
       "  'Python',\n",
       "  'Python',\n",
       "  'Python',\n",
       "  'Python',\n",
       "  'Python',\n",
       "  'Python',\n",
       "  'Python',\n",
       "  'Python',\n",
       "  'Python',\n",
       "  'Python',\n",
       "  'Python',\n",
       "  'Python',\n",
       "  'Python',\n",
       "  'Python',\n",
       "  'Python',\n",
       "  'Python',\n",
       "  'Python',\n",
       "  'Python',\n",
       "  'Python',\n",
       "  'Python',\n",
       "  'Python',\n",
       "  'Python',\n",
       "  'Python',\n",
       "  'Python',\n",
       "  'Python',\n",
       "  'Python',\n",
       "  'Python',\n",
       "  'Python',\n",
       "  'Python',\n",
       "  'Python',\n",
       "  'Python',\n",
       "  'Python',\n",
       "  'Python',\n",
       "  'Python',\n",
       "  'Python',\n",
       "  'Python',\n",
       "  'Python',\n",
       "  'Python',\n",
       "  'Python',\n",
       "  'Python',\n",
       "  'Python',\n",
       "  'Python',\n",
       "  'Python',\n",
       "  'Python',\n",
       "  'Python',\n",
       "  'Python',\n",
       "  'Python',\n",
       "  'Python',\n",
       "  'Python',\n",
       "  'Python',\n",
       "  'Python',\n",
       "  'Python',\n",
       "  'Python',\n",
       "  'Python',\n",
       "  'Python',\n",
       "  'Python',\n",
       "  'Python',\n",
       "  'Python',\n",
       "  'Python',\n",
       "  'Python',\n",
       "  'Python'],\n",
       " 'code': [\">>> print(len(['apple', 'orange']))\\n2\\n>>> \",\n",
       "  '>>> y = str( 5**4**3**2 )\\n>>> print (\"5**4**3**2 =\\xa0%s...%s and has\\xa0%i digits\"\\xa0% (y[:20], y[-20:], len(y)))\\n5**4**3**2 = 62060698786608744707...92256259918212890625 and has 183231 digits',\n",
       "  \"with open(filename, 'w') as f:\\n    f.write(data)\",\n",
       "  \"import glob\\nfor filename in glob.glob('/foo/bar/*.mp3'):\\n    print(filename)\",\n",
       "  'def print_all(*things):\\n    for x in things:\\n        print x',\n",
       "  \"import urllib\\ns = 'http://foo/bar/'\\ns = urllib.quote(s)\",\n",
       "  '   string = raw_input(\"Input a string: \")',\n",
       "  'text = \"Hello,How,Are,You,Today\"\\ntokens = text.split(\\',\\')\\nprint (\\'.\\'.join(tokens))',\n",
       "  'print \"\\\\a\"',\n",
       "  'print(\"\\\\x1b[?25l\") # hidden\\nprint(\"\\\\x1b[?25h\") # shown\\n\\xa0',\n",
       "  '#!/usr/bin/env python\\n\\xa0\\nprint \"\\\\033[7mReversed\\\\033[m Normal\"',\n",
       "  \"print u'\\\\u00a3'\",\n",
       "  'print(\"\\\\033[6;3HHello\")',\n",
       "  'import os\\nos.system(\"clear\")',\n",
       "  'import time\\nprint time.ctime()',\n",
       "  'stripped = lambda s: \"\".join(i for i in s if 31 < ord(i) < 127)\\n\\xa0\\nprint(stripped(\"\\\\ba\\\\x00b\\\\n\\\\rc\\\\fd\\\\xc3\"))',\n",
       "  'print \"knight\"[1:]     # strip first character\\nprint \"socks\"[:-1]     # strip last character\\nprint \"brooms\"[1:-1]   # strip both first and last characters',\n",
       "  'print ( sum(1.0 / (x * x) for x in range(1, 1001)) )',\n",
       "  \"print len('ascii')\\n# 5\",\n",
       "  \"names = sorted((set(globals().keys()) | set(__builtins__.__dict__.keys())) - set('_ names i'.split()))\\nprint( '\\\\n'.join(' '.join(names[i:i+8]) for i in range(0, len(names), 8)) )\",\n",
       "  'n=13\\nprint(sorted(range(1,n+1), key=str))',\n",
       "  \"people = [('joe', 120), ('foo', 31), ('bar', 51)]\\nsorted(people)\",\n",
       "  'nums = [2,4,3,1,2]\\nnums.sort()',\n",
       "  'for node in lst:\\n    print node.value',\n",
       "  '$ python -c \\'print \"Hello\"\\'\\nHello',\n",
       "  \"from sympy import isprime\\nfor b in range(2, 17):\\n    print(b, [n for n in range(2, 1001) if isprime(n) and isprime(int('1'*n, base=b))])\",\n",
       "  'import roman\\nprint(roman.toRoman(2022))',\n",
       "  'def addsub(x, y):\\n  return x + y, x - y',\n",
       "  'open(filename).read()',\n",
       "  '\"ha\" * 5  # ==> \"hahahahaha\"',\n",
       "  \"items = [1, 2, 3, 'a', 'b', 'c', 2, 3, 4, 'b', 'c', 'd']\\nunique = list(set(items))\",\n",
       "  'import random\\nrand = random.SystemRandom()\\nrand.randint(1,10)',\n",
       "  'input()[::-1]',\n",
       "  '>>> import random\\n>>> values = [random.gauss(1, .5) for i in range(1000)]\\n>>> ',\n",
       "  'with open(\"foobar.txt\") as f:\\n    for line in f:\\n        process(line)',\n",
       "  'w = \"print(\\'w = \\' + chr(34) + w + chr(34) + chr(10) + w)\"\\nprint(\\'w = \\' + chr(34) + w + chr(34) + chr(10) + w)',\n",
       "  'import sys\\nif problem:\\n    sys.exit(1)',\n",
       "  'def prime(a):\\n    return not (a < 2 or any(a\\xa0% x == 0 for x in xrange(2, int(a**0.5) + 1)))',\n",
       "  \">>> import random\\n>>> random.choice(['foo', 'bar', 'baz'])\\n'baz'\",\n",
       "  'import itertools\\nfor values in itertools.permutations([1,2,3]):\\n    print (values)',\n",
       "  'def is_palindrome(s):\\n  return s == s[::-1]',\n",
       "  '>>> [1,2,1,3,2] < [1,2,0,4,4,0,0,0]\\nFalse',\n",
       "  'for n in range(34):\\n  print \"\\xa0%3o\\xa0%2d\\xa0%2X\"\\xa0% (n, n, n)',\n",
       "  \"i = int('1a',16)  # returns the integer 26\",\n",
       "  '[Foo()] * n # here Foo() can be any expression that returns a new object',\n",
       "  'for i in range(5000):\\n    if i == sum(int(x) ** int(x) for x in str(i)):\\n        print(i)',\n",
       "  'import hashlib\\nprint hashlib.new(\"md4\",raw_input().encode(\\'utf-16le\\')).hexdigest().upper()',\n",
       "  'for i in collection:\\n   print i',\n",
       "  \"print ( ', '.join(str(i+1) for i in range(10)) )\",\n",
       "  'for i in xrange(10, -1, -1):\\n    print i',\n",
       "  'while 1:\\n   print \"SPAM\"',\n",
       "  'for i in xrange(2, 9, 2):\\n    print \"%d,\"\\xa0% i,\\nprint \"who do we appreciate?\"',\n",
       "  '#!/usr/bin/env python\\nprint 2**64*2**64',\n",
       "  '[(x,y,z) for x in xrange(1,n+1) for y in xrange(x,n+1) for z in xrange(y,n+1) if x**2 + y**2 == z**2]',\n",
       "  'import calendar\\ncalendar.isleap(year)',\n",
       "  'x = truevalue if condition else falsevalue',\n",
       "  'class Camera:\\n  pass #functions go here...',\n",
       "  \">>> float('infinity')\\ninf\",\n",
       "  'while(True):\\n      x = input(\"What is your age? \")\\n      print(x)',\n",
       "  'import mymodule',\n",
       "  \"next = str(int('123') + 1)\",\n",
       "  'import urllib.request\\nprint(urllib.request.urlopen(\"https://sourceforge.net/\").read())',\n",
       "  'import socket\\nhost = socket.gethostname()',\n",
       "  'import sys\\n\\xa0\\nprint >> sys.stderr, \"Goodbye, World!\"',\n",
       "  'lp = open(\"/dev/lp0\")\\nlp.write(\"Hello World!\\\\n\")\\nlp.close()',\n",
       "  '0/0',\n",
       "  \">>> print('hello world')\",\n",
       "  'import sys\\nsys.stdout.write(\"Goodbye, World!\")',\n",
       "  \"keys = ['a', 'b', 'c']\\nvalues = [1, 2, 3]\\nhash = {key: value for key, value in zip(keys, values)}\",\n",
       "  'max(values)',\n",
       "  'a, b = b, a',\n",
       "  'from fractions import gcd',\n",
       "  'print \"Hello world!\"',\n",
       "  'compose = lambda f, g: lambda x: f( g(x) )',\n",
       "  'def multiply(a, b):\\n    return a * b',\n",
       "  'import sys\\nprint(sys.getrecursionlimit())',\n",
       "  \"import shutil\\nshutil.copyfile('input.txt', 'output.txt')\",\n",
       "  '>>> def factors(n):\\n      return [i for i in range(1, n + 1) if not n%i]',\n",
       "  'islice(count(7), 0, None, 2)',\n",
       "  \"import os\\nexit_code = os.system('ls')       # Just execute the command, return a success/fail code\\noutput    = os.popen('ls').read() # If you want to get the output data. Deprecated.\",\n",
       "  '>>> import math\\n>>> math.e ** (math.pi * 1j) + 1\\n1.2246467991473532e-16j',\n",
       "  \"import os\\nos.environ['HOME']\",\n",
       "  'import math\\nmath.factorial(n)',\n",
       "  '1\\nQUIT',\n",
       "  'import copy\\ndeepcopy_of_obj = copy.deepcopy(obj)',\n",
       "  \">>> with open('/dev/tape', 'w') as t: t.write('Hi Tape!\\\\n')\\n... \\n>>> \",\n",
       "  'from calendar import weekday, SUNDAY\\n\\xa0\\n[year for year in range(2008, 2122) if weekday(year, 12, 25) == SUNDAY]',\n",
       "  'import sys\\nfor n in xrange(sys.maxint):\\n    print oct(n)',\n",
       "  \"python -c 'import sys; sys.stdout.write(sys.stdin.read())'\",\n",
       "  '# This is a comment\\nfoo = 5 # You can also append comments to statements',\n",
       "  '>>> from itertools import combinations\\n>>> list(combinations(range(5),3))\\n[(0, 1, 2), (0, 1, 3), (0, 1, 4), (0, 2, 3), (0, 2, 4), (0, 3, 4), (1, 2, 3), (1, 2, 4), (1, 3, 4), (2, 3, 4)]',\n",
       "  'print ord(\\'a\\') # prints \"97\"\\nprint chr(97)  # prints \"a\"',\n",
       "  'class empty(object):\\n    pass\\ne = empty()',\n",
       "  'foo = object()  # Create (instantiate) an empty object\\naddress = id(foo)',\n",
       "  'def ack1(M, N):\\n   return (N + 1) if M == 0 else (\\n      ack1(M-1, 1) if N == 0 else ack1(M-1, ack1(M, N-1)))']}"
      ]
     },
     "execution_count": 119,
     "metadata": {},
     "output_type": "execute_result"
    }
   ],
   "source": [
    "rosetta_python.filter(lambda x: len(x['code'].split('\\n')) <= 3 )[:]"
   ]
  },
  {
   "cell_type": "code",
   "execution_count": 116,
   "metadata": {
    "scrolled": false
   },
   "outputs": [
    {
     "data": {
      "text/plain": [
       "1     24\n",
       "2     40\n",
       "3     31\n",
       "4     33\n",
       "5     40\n",
       "6     28\n",
       "7     29\n",
       "8     33\n",
       "9     22\n",
       "10    20\n",
       "Name: code, dtype: int64"
      ]
     },
     "execution_count": 116,
     "metadata": {},
     "output_type": "execute_result"
    }
   ],
   "source": [
    "r[r['language_name'] == 'Python']['code'].str.split('\\n').apply(len).value_counts().sort_index()[:10]"
   ]
  },
  {
   "cell_type": "code",
   "execution_count": null,
   "metadata": {},
   "outputs": [],
   "source": []
  }
 ],
 "metadata": {
  "kernelspec": {
   "display_name": "Python 3",
   "language": "python",
   "name": "python3"
  },
  "language_info": {
   "codemirror_mode": {
    "name": "ipython",
    "version": 3
   },
   "file_extension": ".py",
   "mimetype": "text/x-python",
   "name": "python",
   "nbconvert_exporter": "python",
   "pygments_lexer": "ipython3",
   "version": "3.8.10"
  }
 },
 "nbformat": 4,
 "nbformat_minor": 2
}
