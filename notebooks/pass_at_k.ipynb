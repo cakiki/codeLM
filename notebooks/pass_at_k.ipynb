{
 "cells": [
  {
   "cell_type": "code",
   "execution_count": 1,
   "metadata": {},
   "outputs": [
    {
     "data": {
      "text/html": [
       "<style>.container { width:85% !important; }</style>"
      ],
      "text/plain": [
       "<IPython.core.display.HTML object>"
      ]
     },
     "metadata": {},
     "output_type": "display_data"
    }
   ],
   "source": [
    "from IPython.display import display, HTML, Image\n",
    "display(HTML(\"<style>.container { width:85% !important; }</style>\"))\n",
    "%config IPCompleter.use_jedi=False"
   ]
  },
  {
   "cell_type": "code",
   "execution_count": 34,
   "metadata": {},
   "outputs": [],
   "source": [
    "import os\n",
    "from datasets import load_dataset, Dataset\n",
    "from evaluate import load\n",
    "from tqdm.notebook import tqdm\n",
    "import pickle\n",
    "import pandas as pd"
   ]
  },
  {
   "cell_type": "code",
   "execution_count": 2,
   "metadata": {},
   "outputs": [],
   "source": [
    "code_eval = load(\"code_eval\")"
   ]
  },
  {
   "cell_type": "code",
   "execution_count": 3,
   "metadata": {},
   "outputs": [],
   "source": [
    "os.environ[\"HF_ALLOW_CODE_EVAL\"] = \"1\""
   ]
  },
  {
   "cell_type": "code",
   "execution_count": 4,
   "metadata": {},
   "outputs": [
    {
     "data": {
      "application/vnd.jupyter.widget-view+json": {
       "model_id": "6ca30d844cd24fd6868371c8bdf7babd",
       "version_major": 2,
       "version_minor": 0
      },
      "text/plain": [
       "Downloading:   0%|          | 0.00/4.19k [00:00<?, ?B/s]"
      ]
     },
     "metadata": {},
     "output_type": "display_data"
    },
    {
     "name": "stderr",
     "output_type": "stream",
     "text": [
      "Using custom data configuration cakiki--humaneval-codeparrot-small-eval_corrected-00f5fee1fc9f5497\n"
     ]
    },
    {
     "name": "stdout",
     "output_type": "stream",
     "text": [
      "Downloading and preparing dataset None/None (download: 137.76 MiB, generated: 872.76 MiB, post-processed: Unknown size, total: 1010.52 MiB) to /home/christopher/.cache/huggingface/datasets/cakiki___parquet/cakiki--humaneval-codeparrot-small-eval_corrected-00f5fee1fc9f5497/0.0.0/0b6d5799bb726b24ad7fc7be720c170d8e497f575d02d47537de9a5bac074901...\n"
     ]
    },
    {
     "data": {
      "application/vnd.jupyter.widget-view+json": {
       "model_id": "15ee272dbc3d44b2a0db16c7ffb0ff55",
       "version_major": 2,
       "version_minor": 0
      },
      "text/plain": [
       "Downloading data files:   0%|          | 0/1 [00:00<?, ?it/s]"
      ]
     },
     "metadata": {},
     "output_type": "display_data"
    },
    {
     "data": {
      "application/vnd.jupyter.widget-view+json": {
       "model_id": "48fd066729c24cfb89a5020bece73efa",
       "version_major": 2,
       "version_minor": 0
      },
      "text/plain": [
       "Downloading data:   0%|          | 0.00/82.4M [00:00<?, ?B/s]"
      ]
     },
     "metadata": {},
     "output_type": "display_data"
    },
    {
     "data": {
      "application/vnd.jupyter.widget-view+json": {
       "model_id": "5f5d4d09ca834c74ba4ccf5e28d937d9",
       "version_major": 2,
       "version_minor": 0
      },
      "text/plain": [
       "Downloading data:   0%|          | 0.00/62.0M [00:00<?, ?B/s]"
      ]
     },
     "metadata": {},
     "output_type": "display_data"
    },
    {
     "data": {
      "application/vnd.jupyter.widget-view+json": {
       "model_id": "d06ddf33ac9c4895b1c36f1f5ddfe7b8",
       "version_major": 2,
       "version_minor": 0
      },
      "text/plain": [
       "Extracting data files:   0%|          | 0/1 [00:00<?, ?it/s]"
      ]
     },
     "metadata": {},
     "output_type": "display_data"
    },
    {
     "name": "stdout",
     "output_type": "stream",
     "text": [
      "Dataset parquet downloaded and prepared to /home/christopher/.cache/huggingface/datasets/cakiki___parquet/cakiki--humaneval-codeparrot-small-eval_corrected-00f5fee1fc9f5497/0.0.0/0b6d5799bb726b24ad7fc7be720c170d8e497f575d02d47537de9a5bac074901. Subsequent calls will reuse this data.\n"
     ]
    }
   ],
   "source": [
    "dset = load_dataset('cakiki/humaneval-codeparrot-small-eval_corrected', split='train')"
   ]
  },
  {
   "cell_type": "code",
   "execution_count": 5,
   "metadata": {
    "scrolled": true
   },
   "outputs": [],
   "source": [
    "df = dset.to_pandas()"
   ]
  },
  {
   "cell_type": "code",
   "execution_count": 6,
   "metadata": {},
   "outputs": [
    {
     "data": {
      "text/html": [
       "<div>\n",
       "<style scoped>\n",
       "    .dataframe tbody tr th:only-of-type {\n",
       "        vertical-align: middle;\n",
       "    }\n",
       "\n",
       "    .dataframe tbody tr th {\n",
       "        vertical-align: top;\n",
       "    }\n",
       "\n",
       "    .dataframe thead th {\n",
       "        text-align: right;\n",
       "    }\n",
       "</style>\n",
       "<table border=\"1\" class=\"dataframe\">\n",
       "  <thead>\n",
       "    <tr style=\"text-align: right;\">\n",
       "      <th></th>\n",
       "      <th>index</th>\n",
       "      <th>task_id</th>\n",
       "      <th>prompt</th>\n",
       "      <th>canonical_solution</th>\n",
       "      <th>test</th>\n",
       "      <th>entry_point</th>\n",
       "      <th>cleaned_generation</th>\n",
       "      <th>full_generation</th>\n",
       "      <th>temperature</th>\n",
       "      <th>top_k</th>\n",
       "      <th>...</th>\n",
       "      <th>do_sample</th>\n",
       "      <th>num_beams</th>\n",
       "      <th>num_beam_groups</th>\n",
       "      <th>num_return_sequences</th>\n",
       "      <th>num_tokens_to_generate</th>\n",
       "      <th>codebert-bert-score-prec</th>\n",
       "      <th>codebert-bert-score-recall</th>\n",
       "      <th>codebert-bert-score-f1</th>\n",
       "      <th>edit_distance</th>\n",
       "      <th>reference</th>\n",
       "    </tr>\n",
       "  </thead>\n",
       "  <tbody>\n",
       "    <tr>\n",
       "      <th>0</th>\n",
       "      <td>0</td>\n",
       "      <td>HumanEval/2</td>\n",
       "      <td>\\n\\ndef truncate_number(number: float) -&gt; floa...</td>\n",
       "      <td>return number % 1.0\\n</td>\n",
       "      <td>\\n\\nMETADATA = {\\n    'author': 'jt',\\n    'da...</td>\n",
       "      <td>truncate_number</td>\n",
       "      <td>[\\n\\ndef truncate_number(number: float) -&gt; flo...</td>\n",
       "      <td>[\\n\\ndef truncate_number(number: float) -&gt; flo...</td>\n",
       "      <td>1.4</td>\n",
       "      <td>50</td>\n",
       "      <td>...</td>\n",
       "      <td>True</td>\n",
       "      <td>1</td>\n",
       "      <td>1</td>\n",
       "      <td>200</td>\n",
       "      <td>128</td>\n",
       "      <td>[0.760907769203186, 0.7050846815109253, 0.7610...</td>\n",
       "      <td>[0.8042548894882202, 0.8064022064208984, 0.802...</td>\n",
       "      <td>[0.7819811105728149, 0.7523476481437683, 0.781...</td>\n",
       "      <td>[0.008456659619450317, 0.006472491909385114, 0...</td>\n",
       "      <td>\\n\\n\\nMETADATA = {\\n    'author': 'jt',\\n    '...</td>\n",
       "    </tr>\n",
       "    <tr>\n",
       "      <th>1</th>\n",
       "      <td>1</td>\n",
       "      <td>HumanEval/7</td>\n",
       "      <td>from typing import List\\n\\n\\ndef filter_by_sub...</td>\n",
       "      <td>return [x for x in strings if substring in...</td>\n",
       "      <td>\\n\\nMETADATA = {\\n    'author': 'jt',\\n    'da...</td>\n",
       "      <td>filter_by_substring</td>\n",
       "      <td>[from typing import List\\n\\n\\ndef filter_by_su...</td>\n",
       "      <td>[from typing import List\\n\\n\\ndef filter_by_su...</td>\n",
       "      <td>1.4</td>\n",
       "      <td>50</td>\n",
       "      <td>...</td>\n",
       "      <td>True</td>\n",
       "      <td>1</td>\n",
       "      <td>1</td>\n",
       "      <td>200</td>\n",
       "      <td>128</td>\n",
       "      <td>[0.8089243173599243, 0.7974163293838501, 0.781...</td>\n",
       "      <td>[0.7688605189323425, 0.7854522466659546, 0.805...</td>\n",
       "      <td>[0.7883837819099426, 0.7913891077041626, 0.793...</td>\n",
       "      <td>[0.26666666666666666, 0.006622516556291391, 0....</td>\n",
       "      <td>\\n\\n\\nMETADATA = {\\n    'author': 'jt',\\n    '...</td>\n",
       "    </tr>\n",
       "    <tr>\n",
       "      <th>2</th>\n",
       "      <td>2</td>\n",
       "      <td>HumanEval/15</td>\n",
       "      <td>\\n\\ndef string_sequence(n: int) -&gt; str:\\n    \"...</td>\n",
       "      <td>return ' '.join([str(x) for x in range(n +...</td>\n",
       "      <td>\\n\\nMETADATA = {\\n    'author': 'jt',\\n    'da...</td>\n",
       "      <td>string_sequence</td>\n",
       "      <td>[\\n\\ndef string_sequence(n: int) -&gt; str:\\n    ...</td>\n",
       "      <td>[\\n\\ndef string_sequence(n: int) -&gt; str:\\n    ...</td>\n",
       "      <td>1.4</td>\n",
       "      <td>50</td>\n",
       "      <td>...</td>\n",
       "      <td>True</td>\n",
       "      <td>1</td>\n",
       "      <td>1</td>\n",
       "      <td>200</td>\n",
       "      <td>128</td>\n",
       "      <td>[0.7830531597137451, 0.7653099298477173, 0.778...</td>\n",
       "      <td>[0.7793910503387451, 0.7982255220413208, 0.779...</td>\n",
       "      <td>[0.7812178730964661, 0.7814212441444397, 0.778...</td>\n",
       "      <td>[0.12087912087912088, 0.08695652173913043, 0.2...</td>\n",
       "      <td>\\n\\n\\nMETADATA = {\\n    'author': 'jt',\\n    '...</td>\n",
       "    </tr>\n",
       "    <tr>\n",
       "      <th>3</th>\n",
       "      <td>3</td>\n",
       "      <td>HumanEval/16</td>\n",
       "      <td>\\n\\ndef count_distinct_characters(string: str)...</td>\n",
       "      <td>return len(set(string.lower()))\\n</td>\n",
       "      <td>\\n\\nMETADATA = {\\n    'author': 'jt',\\n    'da...</td>\n",
       "      <td>count_distinct_characters</td>\n",
       "      <td>[\\n\\ndef count_distinct_characters(string: str...</td>\n",
       "      <td>[\\n\\ndef count_distinct_characters(string: str...</td>\n",
       "      <td>1.4</td>\n",
       "      <td>50</td>\n",
       "      <td>...</td>\n",
       "      <td>True</td>\n",
       "      <td>1</td>\n",
       "      <td>1</td>\n",
       "      <td>200</td>\n",
       "      <td>128</td>\n",
       "      <td>[0.7902371287345886, 0.7685325741767883, 0.792...</td>\n",
       "      <td>[0.8768507242202759, 0.8553634881973267, 0.876...</td>\n",
       "      <td>[0.8312939405441284, 0.8096265196800232, 0.832...</td>\n",
       "      <td>[0.03854389721627409, 0.04395604395604396, 0.0...</td>\n",
       "      <td>\\n\\n\\nMETADATA = {\\n    'author': 'jt',\\n    '...</td>\n",
       "    </tr>\n",
       "    <tr>\n",
       "      <th>4</th>\n",
       "      <td>4</td>\n",
       "      <td>HumanEval/22</td>\n",
       "      <td>from typing import List, Any\\n\\n\\ndef filter_i...</td>\n",
       "      <td>return [x for x in values if isinstance(x,...</td>\n",
       "      <td>\\n\\nMETADATA = {\\n    'author': 'jt',\\n    'da...</td>\n",
       "      <td>filter_integers</td>\n",
       "      <td>[from typing import List, Any\\n\\n\\ndef filter_...</td>\n",
       "      <td>[from typing import List, Any\\n\\n\\ndef filter_...</td>\n",
       "      <td>1.4</td>\n",
       "      <td>50</td>\n",
       "      <td>...</td>\n",
       "      <td>True</td>\n",
       "      <td>1</td>\n",
       "      <td>1</td>\n",
       "      <td>200</td>\n",
       "      <td>128</td>\n",
       "      <td>[0.7488330006599426, 0.8264870643615723, 0.815...</td>\n",
       "      <td>[0.8270582556724548, 0.8247451782226562, 0.784...</td>\n",
       "      <td>[0.7860041260719299, 0.8256152272224426, 0.799...</td>\n",
       "      <td>[0.04173913043478261, 0.37681159420289856, 0.2...</td>\n",
       "      <td>\\n\\n\\nMETADATA = {\\n    'author': 'jt',\\n    '...</td>\n",
       "    </tr>\n",
       "    <tr>\n",
       "      <th>...</th>\n",
       "      <td>...</td>\n",
       "      <td>...</td>\n",
       "      <td>...</td>\n",
       "      <td>...</td>\n",
       "      <td>...</td>\n",
       "      <td>...</td>\n",
       "      <td>...</td>\n",
       "      <td>...</td>\n",
       "      <td>...</td>\n",
       "      <td>...</td>\n",
       "      <td>...</td>\n",
       "      <td>...</td>\n",
       "      <td>...</td>\n",
       "      <td>...</td>\n",
       "      <td>...</td>\n",
       "      <td>...</td>\n",
       "      <td>...</td>\n",
       "      <td>...</td>\n",
       "      <td>...</td>\n",
       "      <td>...</td>\n",
       "      <td>...</td>\n",
       "    </tr>\n",
       "    <tr>\n",
       "      <th>3399</th>\n",
       "      <td>2696</td>\n",
       "      <td>HumanEval/138</td>\n",
       "      <td>\\ndef is_equal_to_sum_even(n):\\n    \"\"\"Evaluat...</td>\n",
       "      <td>return n%2 == 0 and n &gt;= 8\\n</td>\n",
       "      <td>def check(candidate):\\n    assert candidate(4)...</td>\n",
       "      <td>is_equal_to_sum_even</td>\n",
       "      <td>[\\ndef is_equal_to_sum_even(n):\\n    \"\"\"Evalua...</td>\n",
       "      <td>[\\ndef is_equal_to_sum_even(n):\\n    \"\"\"Evalua...</td>\n",
       "      <td>1.0</td>\n",
       "      <td>50</td>\n",
       "      <td>...</td>\n",
       "      <td>False</td>\n",
       "      <td>1</td>\n",
       "      <td>1</td>\n",
       "      <td>1</td>\n",
       "      <td>128</td>\n",
       "      <td>[0.0]</td>\n",
       "      <td>[0.0]</td>\n",
       "      <td>[0.0]</td>\n",
       "      <td>[0.0]</td>\n",
       "      <td>\\ndef check(candidate):\\n    assert candidate(...</td>\n",
       "    </tr>\n",
       "    <tr>\n",
       "      <th>3400</th>\n",
       "      <td>2697</td>\n",
       "      <td>HumanEval/151</td>\n",
       "      <td>\\ndef double_the_difference(lst):\\n    '''\\n  ...</td>\n",
       "      <td>return sum([i**2 for i in lst if i &gt; 0 and...</td>\n",
       "      <td>def check(candidate):\\n\\n    # Check some simp...</td>\n",
       "      <td>double_the_difference</td>\n",
       "      <td>[\\ndef double_the_difference(lst):\\n    '''\\n ...</td>\n",
       "      <td>[\\ndef double_the_difference(lst):\\n    '''\\n ...</td>\n",
       "      <td>1.0</td>\n",
       "      <td>50</td>\n",
       "      <td>...</td>\n",
       "      <td>False</td>\n",
       "      <td>1</td>\n",
       "      <td>1</td>\n",
       "      <td>1</td>\n",
       "      <td>128</td>\n",
       "      <td>[0.7692716717720032]</td>\n",
       "      <td>[0.8172289133071899]</td>\n",
       "      <td>[0.7925254106521606]</td>\n",
       "      <td>[0.008948545861297539]</td>\n",
       "      <td>\\ndef check(candidate):\\n\\n    # Check some si...</td>\n",
       "    </tr>\n",
       "    <tr>\n",
       "      <th>3401</th>\n",
       "      <td>2698</td>\n",
       "      <td>HumanEval/152</td>\n",
       "      <td>\\ndef compare(game,guess):\\n    \"\"\"I think we ...</td>\n",
       "      <td>return [abs(x-y) for x,y in zip(game,guess...</td>\n",
       "      <td>def check(candidate):\\n\\n    # Check some simp...</td>\n",
       "      <td>compare</td>\n",
       "      <td>[\\ndef compare(game,guess):\\n    \"\"\"I think we...</td>\n",
       "      <td>[\\ndef compare(game,guess):\\n    \"\"\"I think we...</td>\n",
       "      <td>1.0</td>\n",
       "      <td>50</td>\n",
       "      <td>...</td>\n",
       "      <td>False</td>\n",
       "      <td>1</td>\n",
       "      <td>1</td>\n",
       "      <td>1</td>\n",
       "      <td>128</td>\n",
       "      <td>[0.7059941291809082]</td>\n",
       "      <td>[0.7542354464530945]</td>\n",
       "      <td>[0.729317843914032]</td>\n",
       "      <td>[0.003816793893129771]</td>\n",
       "      <td>\\ndef check(candidate):\\n\\n    # Check some si...</td>\n",
       "    </tr>\n",
       "    <tr>\n",
       "      <th>3402</th>\n",
       "      <td>2699</td>\n",
       "      <td>HumanEval/157</td>\n",
       "      <td>\\ndef right_angle_triangle(a, b, c):\\n    '''\\...</td>\n",
       "      <td>return a*a == b*b + c*c or b*b == a*a + c*...</td>\n",
       "      <td>def check(candidate):\\n\\n    # Check some simp...</td>\n",
       "      <td>right_angle_triangle</td>\n",
       "      <td>[\\ndef right_angle_triangle(a, b, c):\\n    '''...</td>\n",
       "      <td>[\\ndef right_angle_triangle(a, b, c):\\n    '''...</td>\n",
       "      <td>1.0</td>\n",
       "      <td>50</td>\n",
       "      <td>...</td>\n",
       "      <td>False</td>\n",
       "      <td>1</td>\n",
       "      <td>1</td>\n",
       "      <td>1</td>\n",
       "      <td>128</td>\n",
       "      <td>[0.7600072026252747]</td>\n",
       "      <td>[0.8586806058883667]</td>\n",
       "      <td>[0.8063363432884216]</td>\n",
       "      <td>[0.0]</td>\n",
       "      <td>\\ndef check(candidate):\\n\\n    # Check some si...</td>\n",
       "    </tr>\n",
       "    <tr>\n",
       "      <th>3403</th>\n",
       "      <td>2700</td>\n",
       "      <td>HumanEval/158</td>\n",
       "      <td>\\ndef find_max(words):\\n    \"\"\"Write a functio...</td>\n",
       "      <td>return sorted(words, key = lambda x: (-len...</td>\n",
       "      <td>def check(candidate):\\n\\n    # Check some simp...</td>\n",
       "      <td>find_max</td>\n",
       "      <td>[\\ndef find_max(words):\\n    \"\"\"Write a functi...</td>\n",
       "      <td>[\\ndef find_max(words):\\n    \"\"\"Write a functi...</td>\n",
       "      <td>1.0</td>\n",
       "      <td>50</td>\n",
       "      <td>...</td>\n",
       "      <td>False</td>\n",
       "      <td>1</td>\n",
       "      <td>1</td>\n",
       "      <td>1</td>\n",
       "      <td>128</td>\n",
       "      <td>[0.7898225784301758]</td>\n",
       "      <td>[0.823399007320404]</td>\n",
       "      <td>[0.8062613606452942]</td>\n",
       "      <td>[0.053231939163498096]</td>\n",
       "      <td>\\ndef check(candidate):\\n\\n    # Check some si...</td>\n",
       "    </tr>\n",
       "  </tbody>\n",
       "</table>\n",
       "<p>3404 rows × 22 columns</p>\n",
       "</div>"
      ],
      "text/plain": [
       "      index        task_id                                             prompt  \\\n",
       "0         0    HumanEval/2  \\n\\ndef truncate_number(number: float) -> floa...   \n",
       "1         1    HumanEval/7  from typing import List\\n\\n\\ndef filter_by_sub...   \n",
       "2         2   HumanEval/15  \\n\\ndef string_sequence(n: int) -> str:\\n    \"...   \n",
       "3         3   HumanEval/16  \\n\\ndef count_distinct_characters(string: str)...   \n",
       "4         4   HumanEval/22  from typing import List, Any\\n\\n\\ndef filter_i...   \n",
       "...     ...            ...                                                ...   \n",
       "3399   2696  HumanEval/138  \\ndef is_equal_to_sum_even(n):\\n    \"\"\"Evaluat...   \n",
       "3400   2697  HumanEval/151  \\ndef double_the_difference(lst):\\n    '''\\n  ...   \n",
       "3401   2698  HumanEval/152  \\ndef compare(game,guess):\\n    \"\"\"I think we ...   \n",
       "3402   2699  HumanEval/157  \\ndef right_angle_triangle(a, b, c):\\n    '''\\...   \n",
       "3403   2700  HumanEval/158  \\ndef find_max(words):\\n    \"\"\"Write a functio...   \n",
       "\n",
       "                                     canonical_solution  \\\n",
       "0                                 return number % 1.0\\n   \n",
       "1         return [x for x in strings if substring in...   \n",
       "2         return ' '.join([str(x) for x in range(n +...   \n",
       "3                     return len(set(string.lower()))\\n   \n",
       "4         return [x for x in values if isinstance(x,...   \n",
       "...                                                 ...   \n",
       "3399                       return n%2 == 0 and n >= 8\\n   \n",
       "3400      return sum([i**2 for i in lst if i > 0 and...   \n",
       "3401      return [abs(x-y) for x,y in zip(game,guess...   \n",
       "3402      return a*a == b*b + c*c or b*b == a*a + c*...   \n",
       "3403      return sorted(words, key = lambda x: (-len...   \n",
       "\n",
       "                                                   test  \\\n",
       "0     \\n\\nMETADATA = {\\n    'author': 'jt',\\n    'da...   \n",
       "1     \\n\\nMETADATA = {\\n    'author': 'jt',\\n    'da...   \n",
       "2     \\n\\nMETADATA = {\\n    'author': 'jt',\\n    'da...   \n",
       "3     \\n\\nMETADATA = {\\n    'author': 'jt',\\n    'da...   \n",
       "4     \\n\\nMETADATA = {\\n    'author': 'jt',\\n    'da...   \n",
       "...                                                 ...   \n",
       "3399  def check(candidate):\\n    assert candidate(4)...   \n",
       "3400  def check(candidate):\\n\\n    # Check some simp...   \n",
       "3401  def check(candidate):\\n\\n    # Check some simp...   \n",
       "3402  def check(candidate):\\n\\n    # Check some simp...   \n",
       "3403  def check(candidate):\\n\\n    # Check some simp...   \n",
       "\n",
       "                    entry_point  \\\n",
       "0               truncate_number   \n",
       "1           filter_by_substring   \n",
       "2               string_sequence   \n",
       "3     count_distinct_characters   \n",
       "4               filter_integers   \n",
       "...                         ...   \n",
       "3399       is_equal_to_sum_even   \n",
       "3400      double_the_difference   \n",
       "3401                    compare   \n",
       "3402       right_angle_triangle   \n",
       "3403                   find_max   \n",
       "\n",
       "                                     cleaned_generation  \\\n",
       "0     [\\n\\ndef truncate_number(number: float) -> flo...   \n",
       "1     [from typing import List\\n\\n\\ndef filter_by_su...   \n",
       "2     [\\n\\ndef string_sequence(n: int) -> str:\\n    ...   \n",
       "3     [\\n\\ndef count_distinct_characters(string: str...   \n",
       "4     [from typing import List, Any\\n\\n\\ndef filter_...   \n",
       "...                                                 ...   \n",
       "3399  [\\ndef is_equal_to_sum_even(n):\\n    \"\"\"Evalua...   \n",
       "3400  [\\ndef double_the_difference(lst):\\n    '''\\n ...   \n",
       "3401  [\\ndef compare(game,guess):\\n    \"\"\"I think we...   \n",
       "3402  [\\ndef right_angle_triangle(a, b, c):\\n    '''...   \n",
       "3403  [\\ndef find_max(words):\\n    \"\"\"Write a functi...   \n",
       "\n",
       "                                        full_generation  temperature  top_k  \\\n",
       "0     [\\n\\ndef truncate_number(number: float) -> flo...          1.4     50   \n",
       "1     [from typing import List\\n\\n\\ndef filter_by_su...          1.4     50   \n",
       "2     [\\n\\ndef string_sequence(n: int) -> str:\\n    ...          1.4     50   \n",
       "3     [\\n\\ndef count_distinct_characters(string: str...          1.4     50   \n",
       "4     [from typing import List, Any\\n\\n\\ndef filter_...          1.4     50   \n",
       "...                                                 ...          ...    ...   \n",
       "3399  [\\ndef is_equal_to_sum_even(n):\\n    \"\"\"Evalua...          1.0     50   \n",
       "3400  [\\ndef double_the_difference(lst):\\n    '''\\n ...          1.0     50   \n",
       "3401  [\\ndef compare(game,guess):\\n    \"\"\"I think we...          1.0     50   \n",
       "3402  [\\ndef right_angle_triangle(a, b, c):\\n    '''...          1.0     50   \n",
       "3403  [\\ndef find_max(words):\\n    \"\"\"Write a functi...          1.0     50   \n",
       "\n",
       "      ...  do_sample  num_beams  num_beam_groups  num_return_sequences  \\\n",
       "0     ...       True          1                1                   200   \n",
       "1     ...       True          1                1                   200   \n",
       "2     ...       True          1                1                   200   \n",
       "3     ...       True          1                1                   200   \n",
       "4     ...       True          1                1                   200   \n",
       "...   ...        ...        ...              ...                   ...   \n",
       "3399  ...      False          1                1                     1   \n",
       "3400  ...      False          1                1                     1   \n",
       "3401  ...      False          1                1                     1   \n",
       "3402  ...      False          1                1                     1   \n",
       "3403  ...      False          1                1                     1   \n",
       "\n",
       "      num_tokens_to_generate  \\\n",
       "0                        128   \n",
       "1                        128   \n",
       "2                        128   \n",
       "3                        128   \n",
       "4                        128   \n",
       "...                      ...   \n",
       "3399                     128   \n",
       "3400                     128   \n",
       "3401                     128   \n",
       "3402                     128   \n",
       "3403                     128   \n",
       "\n",
       "                               codebert-bert-score-prec  \\\n",
       "0     [0.760907769203186, 0.7050846815109253, 0.7610...   \n",
       "1     [0.8089243173599243, 0.7974163293838501, 0.781...   \n",
       "2     [0.7830531597137451, 0.7653099298477173, 0.778...   \n",
       "3     [0.7902371287345886, 0.7685325741767883, 0.792...   \n",
       "4     [0.7488330006599426, 0.8264870643615723, 0.815...   \n",
       "...                                                 ...   \n",
       "3399                                              [0.0]   \n",
       "3400                               [0.7692716717720032]   \n",
       "3401                               [0.7059941291809082]   \n",
       "3402                               [0.7600072026252747]   \n",
       "3403                               [0.7898225784301758]   \n",
       "\n",
       "                             codebert-bert-score-recall  \\\n",
       "0     [0.8042548894882202, 0.8064022064208984, 0.802...   \n",
       "1     [0.7688605189323425, 0.7854522466659546, 0.805...   \n",
       "2     [0.7793910503387451, 0.7982255220413208, 0.779...   \n",
       "3     [0.8768507242202759, 0.8553634881973267, 0.876...   \n",
       "4     [0.8270582556724548, 0.8247451782226562, 0.784...   \n",
       "...                                                 ...   \n",
       "3399                                              [0.0]   \n",
       "3400                               [0.8172289133071899]   \n",
       "3401                               [0.7542354464530945]   \n",
       "3402                               [0.8586806058883667]   \n",
       "3403                                [0.823399007320404]   \n",
       "\n",
       "                                 codebert-bert-score-f1  \\\n",
       "0     [0.7819811105728149, 0.7523476481437683, 0.781...   \n",
       "1     [0.7883837819099426, 0.7913891077041626, 0.793...   \n",
       "2     [0.7812178730964661, 0.7814212441444397, 0.778...   \n",
       "3     [0.8312939405441284, 0.8096265196800232, 0.832...   \n",
       "4     [0.7860041260719299, 0.8256152272224426, 0.799...   \n",
       "...                                                 ...   \n",
       "3399                                              [0.0]   \n",
       "3400                               [0.7925254106521606]   \n",
       "3401                                [0.729317843914032]   \n",
       "3402                               [0.8063363432884216]   \n",
       "3403                               [0.8062613606452942]   \n",
       "\n",
       "                                          edit_distance  \\\n",
       "0     [0.008456659619450317, 0.006472491909385114, 0...   \n",
       "1     [0.26666666666666666, 0.006622516556291391, 0....   \n",
       "2     [0.12087912087912088, 0.08695652173913043, 0.2...   \n",
       "3     [0.03854389721627409, 0.04395604395604396, 0.0...   \n",
       "4     [0.04173913043478261, 0.37681159420289856, 0.2...   \n",
       "...                                                 ...   \n",
       "3399                                              [0.0]   \n",
       "3400                             [0.008948545861297539]   \n",
       "3401                             [0.003816793893129771]   \n",
       "3402                                              [0.0]   \n",
       "3403                             [0.053231939163498096]   \n",
       "\n",
       "                                              reference  \n",
       "0     \\n\\n\\nMETADATA = {\\n    'author': 'jt',\\n    '...  \n",
       "1     \\n\\n\\nMETADATA = {\\n    'author': 'jt',\\n    '...  \n",
       "2     \\n\\n\\nMETADATA = {\\n    'author': 'jt',\\n    '...  \n",
       "3     \\n\\n\\nMETADATA = {\\n    'author': 'jt',\\n    '...  \n",
       "4     \\n\\n\\nMETADATA = {\\n    'author': 'jt',\\n    '...  \n",
       "...                                                 ...  \n",
       "3399  \\ndef check(candidate):\\n    assert candidate(...  \n",
       "3400  \\ndef check(candidate):\\n\\n    # Check some si...  \n",
       "3401  \\ndef check(candidate):\\n\\n    # Check some si...  \n",
       "3402  \\ndef check(candidate):\\n\\n    # Check some si...  \n",
       "3403  \\ndef check(candidate):\\n\\n    # Check some si...  \n",
       "\n",
       "[3404 rows x 22 columns]"
      ]
     },
     "execution_count": 6,
     "metadata": {},
     "output_type": "execute_result"
    }
   ],
   "source": [
    "df"
   ]
  },
  {
   "cell_type": "code",
   "execution_count": 7,
   "metadata": {},
   "outputs": [],
   "source": [
    "c = (df.itertuples())"
   ]
  },
  {
   "cell_type": "code",
   "execution_count": 8,
   "metadata": {},
   "outputs": [],
   "source": [
    "a = next(c)"
   ]
  },
  {
   "cell_type": "code",
   "execution_count": 11,
   "metadata": {},
   "outputs": [
    {
     "data": {
      "text/plain": [
       "0"
      ]
     },
     "execution_count": 11,
     "metadata": {},
     "output_type": "execute_result"
    }
   ],
   "source": [
    "a.index"
   ]
  },
  {
   "cell_type": "code",
   "execution_count": 9,
   "metadata": {
    "scrolled": true
   },
   "outputs": [
    {
     "name": "stdout",
     "output_type": "stream",
     "text": [
      "CPU times: user 2.15 s, sys: 11.8 s, total: 13.9 s\n",
      "Wall time: 12.2 s\n"
     ]
    }
   ],
   "source": [
    "%%time\n",
    "pass_at_k, meta = code_eval.compute(\n",
    "            references=[\"\\n\" + a.test + \"\\n\" + a.entry_point], predictions=[a.cleaned_generation.tolist()], num_workers=28, k=[1,10,50,100,150,200]\n",
    "        )"
   ]
  },
  {
   "cell_type": "code",
   "execution_count": null,
   "metadata": {},
   "outputs": [],
   "source": []
  },
  {
   "cell_type": "code",
   "execution_count": 19,
   "metadata": {},
   "outputs": [
    {
     "data": {
      "application/vnd.jupyter.widget-view+json": {
       "model_id": "6017239413734846ac18a4ff964515b7",
       "version_major": 2,
       "version_minor": 0
      },
      "text/plain": [
       "  0%|          | 0/3404 [00:00<?, ?it/s]"
      ]
     },
     "metadata": {},
     "output_type": "display_data"
    },
    {
     "name": "stderr",
     "output_type": "stream",
     "text": [
      "Process Process-553752:\n",
      "  File \"/usr/lib/python3.7/shutil.py\", line 494, in rmtree\n",
      "    _rmtree_safe_fd(fd, path, onerror)\n",
      "Traceback (most recent call last):\n",
      "  File \"/usr/lib/python3.7/multiprocessing/process.py\", line 297, in _bootstrap\n",
      "    self.run()\n",
      "  File \"/usr/lib/python3.7/multiprocessing/process.py\", line 99, in run\n",
      "    self._target(*self._args, **self._kwargs)\n",
      "  File \"/home/christopher/.cache/huggingface/modules/evaluate_modules/metric/code_eval/e98eda8cf8ea415a6855159b442b21ea24afe2fcadce6a37bf43e00aa439e2c0/execute.py\", line 86, in unsafe_execute\n",
      "    os.chdir = chdir\n",
      "  File \"/usr/lib/python3.7/contextlib.py\", line 119, in __exit__\n",
      "    next(self.gen)\n",
      "  File \"/home/christopher/.cache/huggingface/modules/evaluate_modules/metric/code_eval/e98eda8cf8ea415a6855159b442b21ea24afe2fcadce6a37bf43e00aa439e2c0/execute.py\", line 115, in create_tempdir\n",
      "    yield dirname\n",
      "  File \"/usr/lib/python3.7/tempfile.py\", line 944, in __exit__\n",
      "    self.cleanup()\n",
      "  File \"/usr/lib/python3.7/tempfile.py\", line 948, in cleanup\n",
      "    _rmtree(self.name)\n",
      "  File \"/usr/lib/python3.7/shutil.py\", line 450, in _rmtree_safe_fd\n",
      "    os.unlink(entry.name, dir_fd=topfd)\n",
      "TypeError: 'NoneType' object is not callable\n"
     ]
    },
    {
     "name": "stdout",
     "output_type": "stream",
     "text": [
      "CPU times: user 1h 52min 42s, sys: 12h 29min 32s, total: 14h 22min 15s\n",
      "Wall time: 12h 46min 1s\n"
     ]
    }
   ],
   "source": [
    "%%time\n",
    "pass_at_k_list = []\n",
    "meta_list = []\n",
    "\n",
    "for t in tqdm(df.itertuples(), total=len(df)):\n",
    "    pass_at_k, meta = code_eval.compute(\n",
    "                references=[\"\\n\" + t.test + \"\\n\" + t.entry_point], predictions=[t.cleaned_generation.tolist()], num_workers=28, k=[1,10,50,100,150,200]\n",
    "            )\n",
    "    pass_at_k_list.append(pass_at_k)\n",
    "    meta_list.append(meta)\n",
    "    with open(f'pass_at_k/passatk_{t.index}.pkl', 'wb') as f:\n",
    "        pickle.dump(pass_at_k, f)\n",
    "\n",
    "    with open(f'pass_at_k/meta_{t.index}.pkl', 'wb') as f:\n",
    "        pickle.dump(meta, f)"
   ]
  },
  {
   "cell_type": "code",
   "execution_count": 30,
   "metadata": {},
   "outputs": [],
   "source": [
    "pass_at_k_df = pd.DataFrame(pass_at_k_list)"
   ]
  },
  {
   "cell_type": "code",
   "execution_count": 35,
   "metadata": {},
   "outputs": [
    {
     "data": {
      "application/vnd.jupyter.widget-view+json": {
       "model_id": "22c5d546bca14b499ac1cad0190cd557",
       "version_major": 2,
       "version_minor": 0
      },
      "text/plain": [
       "Pushing dataset shards to the dataset hub:   0%|          | 0/2 [00:00<?, ?it/s]"
      ]
     },
     "metadata": {},
     "output_type": "display_data"
    },
    {
     "name": "stderr",
     "output_type": "stream",
     "text": [
      "/media/ssd/BIGSCIENCE/huggingface_hub/src/huggingface_hub/hf_api.py:2039: FutureWarning: `identical_ok` has no effect and is deprecated. It will be removed in 0.11.0.\n",
      "  FutureWarning,\n"
     ]
    }
   ],
   "source": [
    "Dataset.from_pandas(pd.concat([df, pass_at_k_df], axis=1)).push_to_hub('cakiki/humaneval-codeparrot-small-eval_corrected')"
   ]
  },
  {
   "cell_type": "code",
   "execution_count": 33,
   "metadata": {},
   "outputs": [
    {
     "data": {
      "text/plain": [
       "37"
      ]
     },
     "execution_count": 33,
     "metadata": {},
     "output_type": "execute_result"
    }
   ],
   "source": [
    "sum(pass_at_k_df['pass@10'].isna())"
   ]
  },
  {
   "cell_type": "code",
   "execution_count": 20,
   "metadata": {},
   "outputs": [],
   "source": [
    "with open(f'passatk_list.pkl', 'wb') as f:\n",
    "    pickle.dump(pass_at_k_list, f)\n",
    "\n",
    "with open(f'meta_list.pkl', 'wb') as f:\n",
    "    pickle.dump(meta_list, f)"
   ]
  },
  {
   "cell_type": "code",
   "execution_count": 17,
   "metadata": {},
   "outputs": [],
   "source": [
    "# %%time\n",
    "# dset = dset.map(lambda x: {'references':\"\\n\" + x['test'] + \"\\n\" + x['entry_point']})\n",
    "# pass_at_k, meta = code_eval.compute(\n",
    "#             references=dset['references'], predictions=dset['cleaned_generation'], num_workers=28, k=[1,10,50,100,150,200]\n",
    "#         )"
   ]
  },
  {
   "cell_type": "code",
   "execution_count": 36,
   "metadata": {},
   "outputs": [
    {
     "data": {
      "text/html": [
       "<div>\n",
       "<style scoped>\n",
       "    .dataframe tbody tr th:only-of-type {\n",
       "        vertical-align: middle;\n",
       "    }\n",
       "\n",
       "    .dataframe tbody tr th {\n",
       "        vertical-align: top;\n",
       "    }\n",
       "\n",
       "    .dataframe thead th {\n",
       "        text-align: right;\n",
       "    }\n",
       "</style>\n",
       "<table border=\"1\" class=\"dataframe\">\n",
       "  <thead>\n",
       "    <tr style=\"text-align: right;\">\n",
       "      <th></th>\n",
       "      <th>index</th>\n",
       "      <th>temperature</th>\n",
       "      <th>top_k</th>\n",
       "      <th>top_p</th>\n",
       "      <th>typical_p</th>\n",
       "      <th>num_beams</th>\n",
       "      <th>num_beam_groups</th>\n",
       "      <th>num_return_sequences</th>\n",
       "      <th>num_tokens_to_generate</th>\n",
       "    </tr>\n",
       "  </thead>\n",
       "  <tbody>\n",
       "    <tr>\n",
       "      <th>count</th>\n",
       "      <td>3404.000000</td>\n",
       "      <td>3404.000000</td>\n",
       "      <td>3404.0</td>\n",
       "      <td>3404.000000</td>\n",
       "      <td>3404.000000</td>\n",
       "      <td>3404.000000</td>\n",
       "      <td>3404.0</td>\n",
       "      <td>3404.00000</td>\n",
       "      <td>3404.0</td>\n",
       "    </tr>\n",
       "    <tr>\n",
       "      <th>mean</th>\n",
       "      <td>2260.521739</td>\n",
       "      <td>1.000000</td>\n",
       "      <td>50.0</td>\n",
       "      <td>0.755435</td>\n",
       "      <td>0.755435</td>\n",
       "      <td>2.076087</td>\n",
       "      <td>1.0</td>\n",
       "      <td>196.75000</td>\n",
       "      <td>128.0</td>\n",
       "    </tr>\n",
       "    <tr>\n",
       "      <th>std</th>\n",
       "      <td>1730.141033</td>\n",
       "      <td>0.279793</td>\n",
       "      <td>0.0</td>\n",
       "      <td>0.308394</td>\n",
       "      <td>0.308394</td>\n",
       "      <td>10.266723</td>\n",
       "      <td>0.0</td>\n",
       "      <td>22.99422</td>\n",
       "      <td>0.0</td>\n",
       "    </tr>\n",
       "    <tr>\n",
       "      <th>min</th>\n",
       "      <td>0.000000</td>\n",
       "      <td>0.600000</td>\n",
       "      <td>50.0</td>\n",
       "      <td>0.100000</td>\n",
       "      <td>0.100000</td>\n",
       "      <td>1.000000</td>\n",
       "      <td>1.0</td>\n",
       "      <td>1.00000</td>\n",
       "      <td>128.0</td>\n",
       "    </tr>\n",
       "    <tr>\n",
       "      <th>25%</th>\n",
       "      <td>850.750000</td>\n",
       "      <td>0.800000</td>\n",
       "      <td>50.0</td>\n",
       "      <td>0.500000</td>\n",
       "      <td>0.500000</td>\n",
       "      <td>1.000000</td>\n",
       "      <td>1.0</td>\n",
       "      <td>200.00000</td>\n",
       "      <td>128.0</td>\n",
       "    </tr>\n",
       "    <tr>\n",
       "      <th>50%</th>\n",
       "      <td>1701.500000</td>\n",
       "      <td>1.000000</td>\n",
       "      <td>50.0</td>\n",
       "      <td>1.000000</td>\n",
       "      <td>1.000000</td>\n",
       "      <td>1.000000</td>\n",
       "      <td>1.0</td>\n",
       "      <td>200.00000</td>\n",
       "      <td>128.0</td>\n",
       "    </tr>\n",
       "    <tr>\n",
       "      <th>75%</th>\n",
       "      <td>4365.250000</td>\n",
       "      <td>1.200000</td>\n",
       "      <td>50.0</td>\n",
       "      <td>1.000000</td>\n",
       "      <td>1.000000</td>\n",
       "      <td>1.000000</td>\n",
       "      <td>1.0</td>\n",
       "      <td>200.00000</td>\n",
       "      <td>128.0</td>\n",
       "    </tr>\n",
       "    <tr>\n",
       "      <th>max</th>\n",
       "      <td>5549.000000</td>\n",
       "      <td>1.400000</td>\n",
       "      <td>50.0</td>\n",
       "      <td>1.000000</td>\n",
       "      <td>1.000000</td>\n",
       "      <td>100.000000</td>\n",
       "      <td>1.0</td>\n",
       "      <td>200.00000</td>\n",
       "      <td>128.0</td>\n",
       "    </tr>\n",
       "  </tbody>\n",
       "</table>\n",
       "</div>"
      ],
      "text/plain": [
       "             index  temperature   top_k        top_p    typical_p  \\\n",
       "count  3404.000000  3404.000000  3404.0  3404.000000  3404.000000   \n",
       "mean   2260.521739     1.000000    50.0     0.755435     0.755435   \n",
       "std    1730.141033     0.279793     0.0     0.308394     0.308394   \n",
       "min       0.000000     0.600000    50.0     0.100000     0.100000   \n",
       "25%     850.750000     0.800000    50.0     0.500000     0.500000   \n",
       "50%    1701.500000     1.000000    50.0     1.000000     1.000000   \n",
       "75%    4365.250000     1.200000    50.0     1.000000     1.000000   \n",
       "max    5549.000000     1.400000    50.0     1.000000     1.000000   \n",
       "\n",
       "         num_beams  num_beam_groups  num_return_sequences  \\\n",
       "count  3404.000000           3404.0            3404.00000   \n",
       "mean      2.076087              1.0             196.75000   \n",
       "std      10.266723              0.0              22.99422   \n",
       "min       1.000000              1.0               1.00000   \n",
       "25%       1.000000              1.0             200.00000   \n",
       "50%       1.000000              1.0             200.00000   \n",
       "75%       1.000000              1.0             200.00000   \n",
       "max     100.000000              1.0             200.00000   \n",
       "\n",
       "       num_tokens_to_generate  \n",
       "count                  3404.0  \n",
       "mean                    128.0  \n",
       "std                       0.0  \n",
       "min                     128.0  \n",
       "25%                     128.0  \n",
       "50%                     128.0  \n",
       "75%                     128.0  \n",
       "max                     128.0  "
      ]
     },
     "execution_count": 36,
     "metadata": {},
     "output_type": "execute_result"
    }
   ],
   "source": [
    "df.describe()"
   ]
  },
  {
   "cell_type": "code",
   "execution_count": null,
   "metadata": {},
   "outputs": [],
   "source": []
  }
 ],
 "metadata": {
  "kernelspec": {
   "display_name": "Python 3",
   "language": "python",
   "name": "python3"
  },
  "language_info": {
   "codemirror_mode": {
    "name": "ipython",
    "version": 3
   },
   "file_extension": ".py",
   "mimetype": "text/x-python",
   "name": "python",
   "nbconvert_exporter": "python",
   "pygments_lexer": "ipython3",
   "version": "3.7.5"
  }
 },
 "nbformat": 4,
 "nbformat_minor": 4
}
